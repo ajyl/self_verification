{
 "cells": [
  {
   "cell_type": "code",
   "execution_count": 50,
   "id": "b43f1674",
   "metadata": {},
   "outputs": [],
   "source": [
    "\n",
    "import os\n",
    "import re\n",
    "import json\n",
    "import random\n",
    "from tqdm import tqdm\n",
    "import numpy as np\n",
    "from transformers import (\n",
    "    AutoTokenizer,\n",
    "    AutoConfig,\n",
    "    AutoModelForCausalLM,\n",
    "    GenerationConfig,\n",
    ")\n",
    "import torch\n",
    "import torch.nn.functional as F\n",
    "from fancy_einsum import einsum\n",
    "import einops\n",
    "\n",
    "from record_utils import record_activations, get_module, untuple_tensor\n",
    "from HookedQwen import convert_to_hooked_model"
   ]
  },
  {
   "cell_type": "code",
   "execution_count": 2,
   "id": "cbc44acd",
   "metadata": {},
   "outputs": [],
   "source": [
    "\n",
    "cos = F.cosine_similarity"
   ]
  },
  {
   "cell_type": "code",
   "execution_count": 3,
   "id": "09514acf",
   "metadata": {},
   "outputs": [],
   "source": [
    "\n",
    "base_dir = \"INSERT DIRECTORY TO REPO HERE\""
   ]
  },
  {
   "cell_type": "code",
   "execution_count": 4,
   "id": "a1b6bf6b",
   "metadata": {},
   "outputs": [],
   "source": [
    "\n",
    "\n",
    "def seed_all(seed, deterministic_algos=False):\n",
    "    torch.manual_seed(seed)\n",
    "    torch.cuda.manual_seed(seed)\n",
    "    torch.cuda.manual_seed_all(seed)\n",
    "    torch.backends.cudnn.deterministic = True\n",
    "    torch.backends.cudnn.benchmark = False\n",
    "    np.random.seed(seed)\n",
    "    random.seed(seed)\n",
    "    if deterministic_algos:\n",
    "        torch.use_deterministic_algorithms()\n",
    "\n",
    "\n",
    "def unembed(vector, lm_head, k=10):\n",
    "    dots = einsum(\"vocab d_model, d_model -> vocab\", lm_head, vector)\n",
    "    top_k = dots.topk(k).indices\n",
    "    return top_k\n",
    "\n",
    "\n",
    "def unembed_text(vector, lm_head, tokenizer, k=10):\n",
    "    top_k = unembed(vector, lm_head, k=k)\n",
    "    return tokenizer.batch_decode(top_k, skip_special_tokens=True)"
   ]
  },
  {
   "cell_type": "code",
   "execution_count": 5,
   "id": "8fc4e95d",
   "metadata": {},
   "outputs": [],
   "source": [
    "\n",
    "\n",
    "def _add_o_proj_hook(model, layer_idx, head_idx):\n",
    "    def hook(module, input, output):\n",
    "        # output.shape: [batch, heads, seq, head_dim]\n",
    "        output[:, :, head_idx, :] = 0\n",
    "        return output\n",
    "\n",
    "    module = model.model.layers[layer_idx].self_attn.hook_attn_out_per_head\n",
    "    return module.register_forward_hook(hook)"
   ]
  },
  {
   "cell_type": "code",
   "execution_count": 6,
   "id": "f4498baa",
   "metadata": {},
   "outputs": [],
   "source": [
    "\n",
    "\n",
    "def _turn_off_mlp(model, layer_idx, mlp_idxs):\n",
    "    def hook(module, input, output):\n",
    "        output[:, -1, mlp_idxs] = 0\n",
    "        return output\n",
    "\n",
    "    module = model.model.layers[layer_idx].mlp.hook_mlp_mid\n",
    "    return module.register_forward_hook(hook)"
   ]
  },
  {
   "cell_type": "code",
   "execution_count": 7,
   "id": "0e575631",
   "metadata": {},
   "outputs": [],
   "source": [
    "\n",
    "\n",
    "def add_hooks(model, hook_config):\n",
    "    handles = []\n",
    "    for hook_module, layer, head_idx in hook_config:\n",
    "        if hook_module == \"attn_out\":\n",
    "            hook_func = _add_o_proj_hook\n",
    "        elif hook_module == \"mlp\":\n",
    "            hook_func = _turn_off_mlp\n",
    "        handles.append(hook_func(model, layer, head_idx))\n",
    "    return handles"
   ]
  },
  {
   "cell_type": "code",
   "execution_count": 8,
   "id": "bdcbbfc7",
   "metadata": {},
   "outputs": [],
   "source": [
    "\n",
    "\n",
    "@torch.no_grad()\n",
    "def generate_hooked(\n",
    "    model,\n",
    "    input_ids,\n",
    "    attention_mask,\n",
    "    max_new_tokens,\n",
    "    block_size,\n",
    "    tokenizer,\n",
    "    hook_config,\n",
    "):\n",
    "    \"\"\"\n",
    "    Generate text using a transformer language model with greedy sampling.\n",
    "\n",
    "    Args:\n",
    "        model: The auto-regressive transformer model that outputs logits.\n",
    "        input_ids: A tensor of shape (batch_size, sequence_length) representing the initial token indices.\n",
    "        max_new_tokens: The number of new tokens to generate.\n",
    "        block_size: The maximum sequence length (context window) the model can handle.\n",
    "        device: The device on which computations are performed.\n",
    "\n",
    "    Returns:\n",
    "        A tensor containing the original context concatenated with the generated tokens.\n",
    "    \"\"\"\n",
    "    remove_all_hooks(model)\n",
    "\n",
    "    device = \"cuda\"\n",
    "    model.eval()  # Set the model to evaluation mode\n",
    "    eos_token_id = tokenizer.eos_token_id\n",
    "\n",
    "    input_ids = input_ids.clone().to(device)\n",
    "    attention_mask = attention_mask.to(device)\n",
    "    batch_size = input_ids.shape[0]\n",
    "\n",
    "    finished = torch.zeros(batch_size, dtype=torch.bool, device=device)\n",
    "\n",
    "    token_open = tokenizer.encode(\" (\")[0]  # 320\n",
    "    token_newline = tokenizer.encode(\"\\n\", add_special_tokens=False)[0]\n",
    "    token_double_newline = tokenizer.encode(\"\\n\\n\", add_special_tokens=False)[0]\n",
    "    token_bracket_newline = tokenizer.encode(\">\\n\\n\", add_special_tokens=False)[0]\n",
    "\n",
    "    for _ in range(max_new_tokens):\n",
    "        if finished.all():\n",
    "            break\n",
    "\n",
    "        if input_ids.shape[1] > block_size:\n",
    "            idx_cond = input_ids[:, -block_size:]\n",
    "            attn_mask_cond = attention_mask[:, -block_size:]\n",
    "        else:\n",
    "            idx_cond = input_ids\n",
    "            attn_mask_cond = attention_mask\n",
    "\n",
    "        position_ids = attn_mask_cond.long().cumsum(-1) - 1\n",
    "        position_ids.masked_fill_(attn_mask_cond == 0, 1)\n",
    "\n",
    "        output = model(\n",
    "            idx_cond,\n",
    "            attention_mask=attn_mask_cond,\n",
    "            position_ids=position_ids,\n",
    "            return_dict=True,\n",
    "        )\n",
    "        logits = output[\"logits\"]\n",
    "        logits = logits[:, -1, :]  # shape: (batch, vocab_size)\n",
    "        next_token = torch.argmax(logits, dim=-1, keepdim=True)  # shape: (batch, 1)\n",
    "        prev_token = idx_cond[:, -1].unsqueeze(1)\n",
    "\n",
    "        most_recent_token = [\n",
    "            tokenizer.decode(idx_cond[batch_idx, -1]) for batch_idx in range(batch_size)\n",
    "        ]\n",
    "\n",
    "        interv_batch_idx = []\n",
    "        for batch_idx in range(batch_size):\n",
    "            if most_recent_token[batch_idx] == \" (\":\n",
    "                interv_batch_idx.append(batch_idx)\n",
    "\n",
    "        if len(interv_batch_idx) > 0:\n",
    "\n",
    "            handles = add_hooks(model, hook_config)\n",
    "            interv_output = model(\n",
    "                idx_cond[interv_batch_idx],\n",
    "                attention_mask=attn_mask_cond[interv_batch_idx],\n",
    "                position_ids=position_ids[interv_batch_idx],\n",
    "                return_dict=True,\n",
    "            )\n",
    "            logits = interv_output[\"logits\"]\n",
    "            logits = logits[:, -1, :]  # shape: (batch, vocab_size)\n",
    "            interv_next_token = torch.argmax(logits, dim=-1, keepdim=True)\n",
    "            next_token[interv_batch_idx] = interv_next_token\n",
    "\n",
    "            for handle in handles:\n",
    "                handle.remove()\n",
    "\n",
    "        reached_eos = next_token.squeeze(1) == eos_token_id\n",
    "        reached_two_newline = (prev_token.squeeze(1) == token_newline) & (\n",
    "            next_token.squeeze(1) == token_newline\n",
    "        )\n",
    "        reached_double_newline = next_token.squeeze(1) == token_double_newline\n",
    "        reached_bracket_newline = next_token.squeeze(1) == token_bracket_newline\n",
    "        new_finished = (~finished) & (\n",
    "            reached_eos\n",
    "            | reached_double_newline\n",
    "            | reached_two_newline\n",
    "            | reached_bracket_newline\n",
    "        )\n",
    "\n",
    "        finished |= new_finished\n",
    "        next_token[finished] = eos_token_id\n",
    "\n",
    "        input_ids = torch.cat([input_ids, next_token], dim=1)\n",
    "        new_mask = torch.ones(\n",
    "            (batch_size, 1), dtype=attention_mask.dtype, device=device\n",
    "        )\n",
    "        attention_mask = torch.cat([attention_mask, new_mask], dim=1)\n",
    "\n",
    "    return input_ids"
   ]
  },
  {
   "cell_type": "code",
   "execution_count": 9,
   "id": "af4afe60",
   "metadata": {},
   "outputs": [],
   "source": [
    "\n",
    "\n",
    "def get_mlp_value_vecs(model):\n",
    "    mlp_value_vecs = [layer.mlp.down_proj.weight for layer in model.model.layers]\n",
    "    # [n_layers, d_mlp (11008), d_model (2048)]\n",
    "    return torch.stack(mlp_value_vecs, dim=0)"
   ]
  },
  {
   "cell_type": "code",
   "execution_count": 10,
   "id": "c2cf8a93",
   "metadata": {},
   "outputs": [],
   "source": [
    "\n",
    "\n",
    "def remove_all_hooks(model):\n",
    "    for (\n",
    "        name,\n",
    "        module,\n",
    "    ) in model.named_modules():  # Recursively iterates through submodules\n",
    "        if hasattr(module, \"_forward_hooks\"):\n",
    "            for handle_id in list(module._forward_hooks.keys()):\n",
    "                module._forward_hooks.pop(handle_id)"
   ]
  },
  {
   "cell_type": "code",
   "execution_count": 11,
   "id": "6e7c8f4a",
   "metadata": {},
   "outputs": [],
   "source": [
    "\n",
    "config = {\n",
    "    \"model_path\": os.path.join(\n",
    "        base_dir, \"data_and_ckpts/global_step_300\"\n",
    "    ),\n",
    "    \"probe_path\": os.path.join(base_dir, \"data_and_ckpts/probe.pt\"),\n",
    "    \"batch_size\": 4,\n",
    "    \"max_prompt_length\": 256,\n",
    "    \"max_response_length\": 300,\n",
    "    \"n_layers\": 36,\n",
    "    \"d_model\": 2048,\n",
    "    \"seed\": 42,\n",
    "}"
   ]
  },
  {
   "cell_type": "code",
   "execution_count": 12,
   "id": "71a2c40d",
   "metadata": {},
   "outputs": [
    {
     "data": {
      "application/vnd.jupyter.widget-view+json": {
       "model_id": "824c178ab0ce490d84c6669f1077817b",
       "version_major": 2,
       "version_minor": 0
      },
      "text/plain": [
       "Loading checkpoint shards:   0%|          | 0/3 [00:00<?, ?it/s]"
      ]
     },
     "metadata": {},
     "output_type": "display_data"
    }
   ],
   "source": [
    "\n",
    "seed_all(config[\"seed\"])\n",
    "assert torch.cuda.is_available()\n",
    "\n",
    "model_path = config[\"model_path\"]\n",
    "tokenizer = AutoTokenizer.from_pretrained(model_path, trust_remote_code=True)\n",
    "with torch.device(\"cuda:0\"):\n",
    "    actor = AutoModelForCausalLM.from_pretrained(\n",
    "        model_path,\n",
    "        trust_remote_code=True,\n",
    "    )"
   ]
  },
  {
   "cell_type": "code",
   "execution_count": 13,
   "id": "ac8f456a",
   "metadata": {},
   "outputs": [],
   "source": [
    "\n",
    "convert_to_hooked_model(actor)"
   ]
  },
  {
   "cell_type": "code",
   "execution_count": 14,
   "id": "0b997028",
   "metadata": {},
   "outputs": [],
   "source": [
    "\n",
    "generation_config = GenerationConfig(do_sample=False)"
   ]
  },
  {
   "cell_type": "code",
   "execution_count": 15,
   "id": "603d1fc7",
   "metadata": {},
   "outputs": [],
   "source": [
    "\n",
    "token_this = tokenizer.encode(\"this\")[0]  # 574\n",
    "token_equals = tokenizer.encode(\"equals\")[0]\n",
    "token_open = tokenizer.encode(\" (\")[0]  # 320\n",
    "token_not = tokenizer.encode(\"not\")[0]  # 1921"
   ]
  },
  {
   "cell_type": "code",
   "execution_count": 16,
   "id": "97bd2b0a",
   "metadata": {},
   "outputs": [
    {
     "name": "stderr",
     "output_type": "stream",
     "text": [
      "/tmp/ipykernel_3830721/156233083.py:1: FutureWarning: You are using `torch.load` with `weights_only=False` (the current default value), which uses the default pickle module implicitly. It is possible to construct malicious pickle data which will execute arbitrary code during unpickling (See https://github.com/pytorch/pytorch/blob/main/SECURITY.md#untrusted-models for more details). In a future release, the default value for `weights_only` will be flipped to `True`. This limits the functions that could be executed during unpickling. Arbitrary objects will no longer be allowed to be loaded via this mode unless they are explicitly allowlisted by the user via `torch.serialization.add_safe_globals`. We recommend you start setting `weights_only=True` for any use case where you don't have full control of the loaded file. Please open an issue on GitHub for any issues related to this experimental feature.\n",
      "  samples = torch.load(os.path.join(base_dir, \"data/countdown/test_set2.pt\"))\n"
     ]
    }
   ],
   "source": [
    "\n",
    "samples = torch.load(os.path.join(base_dir, \"data_and_ckpts/interv_data.pt\"))"
   ]
  },
  {
   "cell_type": "code",
   "execution_count": 17,
   "id": "1795b209",
   "metadata": {},
   "outputs": [
    {
     "name": "stderr",
     "output_type": "stream",
     "text": [
      "/tmp/ipykernel_3830721/2924032859.py:1: FutureWarning: You are using `torch.load` with `weights_only=False` (the current default value), which uses the default pickle module implicitly. It is possible to construct malicious pickle data which will execute arbitrary code during unpickling (See https://github.com/pytorch/pytorch/blob/main/SECURITY.md#untrusted-models for more details). In a future release, the default value for `weights_only` will be flipped to `True`. This limits the functions that could be executed during unpickling. Arbitrary objects will no longer be allowed to be loaded via this mode unless they are explicitly allowlisted by the user via `torch.serialization.add_safe_globals`. We recommend you start setting `weights_only=True` for any use case where you don't have full control of the loaded file. Please open an issue on GitHub for any issues related to this experimental feature.\n",
      "  probe_model = torch.load(config[\"probe_path\"]).detach().cuda()\n"
     ]
    }
   ],
   "source": [
    "\n",
    "probe_model = torch.load(config[\"probe_path\"]).detach().cuda()"
   ]
  },
  {
   "cell_type": "code",
   "execution_count": 42,
   "id": "bc9b45f6",
   "metadata": {},
   "outputs": [],
   "source": [
    "\n",
    "\n",
    "def run(actor, samples, hook_config, batch_size):\n",
    "    max_gen_length = 100\n",
    "\n",
    "    all_generations = []\n",
    "    odd_batches = []\n",
    "\n",
    "    total = 0\n",
    "    success = 0\n",
    "    mix = 0\n",
    "    ood = 0\n",
    "    fail = 0\n",
    "    unknown = 0\n",
    "\n",
    "    test_size = len(samples)\n",
    "    for batch_idx in tqdm(range(0, test_size, batch_size)):\n",
    "        curr_batch = samples[batch_idx : batch_idx + batch_size]\n",
    "        _this_timestep = [sample[\"this_timestep\"] for sample in curr_batch]\n",
    "        _input_ids = [\n",
    "            curr_batch[_idx][\"response\"][: _this_timestep[_idx]]\n",
    "            for _idx in range(len(curr_batch))\n",
    "        ]\n",
    "        max_length = max(seq.shape[0] for seq in _input_ids)\n",
    "        padded_input_ids = []\n",
    "        for seq in _input_ids:\n",
    "            pad_length = max_length - seq.shape[0]\n",
    "            padded = F.pad(seq, (pad_length, 0), value=tokenizer.pad_token_id)\n",
    "            padded_input_ids.append(padded)\n",
    "        input_ids = torch.stack(padded_input_ids, dim=0).to(\"cuda\")\n",
    "        attention_mask = input_ids != tokenizer.pad_token_id\n",
    "\n",
    "        hooked_output = generate_hooked(\n",
    "            actor,\n",
    "            input_ids,\n",
    "            attention_mask,\n",
    "            max_gen_length,\n",
    "            800,\n",
    "            tokenizer,\n",
    "            hook_config,\n",
    "        )\n",
    "        hooked_output_text = tokenizer.batch_decode(\n",
    "            hooked_output, skip_special_tokens=True\n",
    "        )\n",
    "        all_generations.append(hooked_output_text)\n",
    "\n",
    "        generated_ids = hooked_output[:, input_ids.shape[1] :]\n",
    "        generated_text = tokenizer.batch_decode(generated_ids, skip_special_tokens=True)\n",
    "\n",
    "        total += len(curr_batch)\n",
    "        for generation in generated_text:\n",
    "            tokens = re.findall(r\"\\d+|<\\w+>|[A-Za-z_]+|[()+\\-*/=]\", generation)\n",
    "            ops = {\"+\", \"-\", \"*\", \"/\", \"=\"}\n",
    "            parens = {\"(\", \")\"}\n",
    "            not_kw = {\"not\"}\n",
    "            mix_extras = {\n",
    "                \"so\",\n",
    "                \"the\",\n",
    "                \"answer\",\n",
    "                \"is\",\n",
    "                \"<answer>\",\n",
    "                \"</answer>\",\n",
    "                \"</think>\",\n",
    "                \"So\",\n",
    "                \"equation\",\n",
    "                \"that\",\n",
    "                \"equals\",\n",
    "                \"think\",\n",
    "            }\n",
    "\n",
    "            def is_int(tok):\n",
    "                return re.fullmatch(r\"\\d+\", tok) is not None\n",
    "\n",
    "            if \"this works\" in generation:\n",
    "                fail += 1\n",
    "                print(\"-> Fail\")\n",
    "\n",
    "            elif all(is_int(t) or t in ops | parens | not_kw for t in tokens):\n",
    "                success += 1\n",
    "                print(\"-> Success\")\n",
    "\n",
    "            elif all(\n",
    "                is_int(t) or t in ops | parens | not_kw | mix_extras for t in tokens\n",
    "            ):\n",
    "                mix += 1\n",
    "                print(\"-> Mix\")\n",
    "\n",
    "            else:\n",
    "                ood += 1\n",
    "                ood_words = [\n",
    "                    t\n",
    "                    for t in tokens\n",
    "                    if not (is_int(t) or t in ops | parens | not_kw | mix_extras)\n",
    "                ]\n",
    "                if \"not\" in generation and \"correct\" in generation:\n",
    "                    if \"not correct\" in generation:\n",
    "                        success += 1\n",
    "                        print(\"-> OOD (success); offending token(s):\", ood_words)\n",
    "                    else:\n",
    "                        mix += 1\n",
    "                        print(\"-> OOD (mix); offending token(s):\", ood_words)\n",
    "                elif \"not\" in generation and \"this works\" in generation:\n",
    "                    mix += 1\n",
    "                    print(\"-> OOD (mix); offending token(s):\", ood_words)\n",
    "                elif \"not\" in generation and \"<answer>\" in generation:\n",
    "                    mix += 1\n",
    "                    print(\"-> OOD (mix); offending token(s):\", ood_words)\n",
    "                elif \"not\" in generation:\n",
    "                    success += 1\n",
    "                    print(\"-> OOD (success); offending token(s):\", ood_words)\n",
    "                else:\n",
    "                    unknown += 1\n",
    "                    print(\"-> OOD (unknown); offending token(s):\", ood_words)\n",
    "\n",
    "            print(generation)\n",
    "\n",
    "    return success / total, mix / total, fail / total"
   ]
  },
  {
   "cell_type": "code",
   "execution_count": 19,
   "id": "5e477a4c",
   "metadata": {},
   "outputs": [],
   "source": [
    "\n",
    "\n",
    "def build_mlp_hook_config(actor, probe_model, labels, layers, k):\n",
    "\n",
    "    value_vecs = get_mlp_value_vecs(actor)\n",
    "    hook_config = []\n",
    "    for target_label in labels:\n",
    "        for target_probe_layer in layers:\n",
    "            target_probe = probe_model[target_probe_layer, :, target_label]\n",
    "            _curr_value_vecs = value_vecs[target_probe_layer]\n",
    "\n",
    "            cos_scores = cos(_curr_value_vecs, target_probe.unsqueeze(-1), dim=0)\n",
    "            _topk = cos_scores.topk(k=k)\n",
    "            _idxs = [x.item() for x in _topk.indices]\n",
    "            for jj in range(k):\n",
    "                hook_config.append((\"mlp\", target_probe_layer, _idxs[jj]))\n",
    "\n",
    "    return hook_config"
   ]
  },
  {
   "cell_type": "code",
   "execution_count": 20,
   "id": "a5326f6a",
   "metadata": {},
   "outputs": [],
   "source": [
    "\n",
    "\n",
    "def _get_occurrence_idxs(hay, needle):\n",
    "    window_size = needle.shape[0]\n",
    "    hay = hay.unfold(0, window_size, 1)\n",
    "    mask = (hay == needle).all(dim=1)\n",
    "    offset = window_size - 1\n",
    "    match_idxs = mask.nonzero(as_tuple=True)[0] + offset\n",
    "    return match_idxs\n",
    "\n",
    "\n",
    "@torch.no_grad()\n",
    "def _get_attn_density_for_target(actor, samples, batch_size):\n",
    "    n_layers = 36\n",
    "    record_module_names = [\n",
    "        f\"model.layers.{idx}.self_attn.hook_attn_pattern\" for idx in range(n_layers)\n",
    "    ]\n",
    "    test_size = len(samples)\n",
    "    _all_attn_pattern = []\n",
    "    all_recording = {}\n",
    "    cutoff = (\n",
    "        tokenizer(\" Let's try different\", return_tensors=\"pt\")[\"input_ids\"]\n",
    "        .squeeze()\n",
    "        .to(\"cuda\")\n",
    "    )\n",
    "    all_attn_density = []\n",
    "    for batch_idx in tqdm(range(0, test_size, batch_size)):\n",
    "        curr_batch = samples[batch_idx : batch_idx + batch_size]\n",
    "        input_ids = torch.stack(\n",
    "            [curr_batch[_idx][\"input_ids\"] for _idx in range(len(curr_batch))], dim=0\n",
    "        ).to(\"cuda\")\n",
    "        attention_mask = torch.stack(\n",
    "            [curr_batch[_idx][\"attention_mask\"] for _idx in range(len(curr_batch))],\n",
    "            dim=0,\n",
    "        ).to(\"cuda\")\n",
    "\n",
    "        _this_timestep = [sample[\"this_timestep\"] for sample in curr_batch]\n",
    "\n",
    "        _input_ids = [\n",
    "            curr_batch[_idx][\"response\"][: _this_timestep[_idx]]\n",
    "            for _idx in range(len(curr_batch))\n",
    "        ]\n",
    "        max_length = max(seq.shape[0] for seq in _input_ids)\n",
    "        padded_input_ids = []\n",
    "        for seq in _input_ids:\n",
    "            pad_length = max_length - seq.shape[0]\n",
    "            padded = F.pad(seq, (pad_length, 0), value=tokenizer.pad_token_id)\n",
    "            padded_input_ids.append(padded)\n",
    "        input_ids = torch.stack(padded_input_ids, dim=0).to(\"cuda\")\n",
    "        attention_mask = input_ids != tokenizer.pad_token_id\n",
    "        position_ids = attention_mask.long().cumsum(-1) - 1\n",
    "        position_ids.masked_fill_(attention_mask == 0, 1)\n",
    "\n",
    "        with record_activations(actor, record_module_names) as recording:\n",
    "            output = actor(\n",
    "                input_ids.to(actor.device),\n",
    "                attention_mask=attention_mask.to(actor.device),\n",
    "                position_ids=position_ids.to(actor.device),\n",
    "                return_dict=True,\n",
    "            )\n",
    "\n",
    "        # [layers, batch, heads, seq]\n",
    "        _attn_pattern = torch.stack(\n",
    "            [\n",
    "                recording[f\"model.layers.{layer_idx}.self_attn.hook_attn_pattern\"][0][\n",
    "                    :, :, -1, :\n",
    "                ]\n",
    "                for layer_idx in range(n_layers)\n",
    "            ]\n",
    "        )\n",
    "        attn_density = []\n",
    "        for _idx in range(len(curr_batch)):\n",
    "            target_tokens = tokenizer(\n",
    "                str(curr_batch[_idx][\"target\"]), return_tensors=\"pt\"\n",
    "            )[\"input_ids\"].squeeze()\n",
    "            _context = input_ids[_idx]\n",
    "            cutoff_idx = _get_occurrence_idxs(_context, cutoff)\n",
    "            curr_context = _context[: cutoff_idx[0]]\n",
    "            match_idxs = _get_occurrence_idxs(\n",
    "                curr_context, target_tokens.to(curr_context.device)\n",
    "            )\n",
    "\n",
    "            # [layers, heads]\n",
    "            density = _attn_pattern[:, _idx, :, match_idxs].sum(dim=-1)\n",
    "            attn_density.append(density)\n",
    "\n",
    "    all_attn_density = torch.stack(attn_density, dim=0)\n",
    "    return all_attn_density.mean(dim=0)\n",
    "\n",
    "\n",
    "def _get_prev_token_heads(actor, samples, batch_size, thresh=0.1):\n",
    "    attn_pattern = _get_attn_density_for_target(actor, samples, config[\"batch_size\"])\n",
    "    top_values, top_idxs = torch.topk(attn_pattern.flatten(), 50)\n",
    "    top_idxs = np.array(np.unravel_index(top_idxs.cpu().numpy(), attn_pattern.shape)).T\n",
    "    prev_token_heads = top_idxs[\n",
    "        (top_values > thresh).nonzero().squeeze().cpu()\n",
    "    ].squeeze()\n",
    "    return prev_token_heads, attn_pattern\n",
    "\n",
    "\n",
    "def _get_top_value_vecs(actor, probe_model, k):\n",
    "    value_vecs = get_mlp_value_vecs(actor)\n",
    "    top_cos_scores = {0: [], 1: []}\n",
    "    cos = F.cosine_similarity\n",
    "    for target_label in [0, 1]:\n",
    "        for target_probe_layer in range(18, 36):\n",
    "            target_probe = probe_model[target_probe_layer, :, target_label]\n",
    "\n",
    "            for layer_idx in range(0, target_probe_layer + 1):\n",
    "                cos_scores = cos(\n",
    "                    value_vecs[layer_idx], target_probe.unsqueeze(-1), dim=0\n",
    "                )\n",
    "                _topk = cos_scores.topk(k=k)\n",
    "                _values = [x.item() for x in _topk.values]\n",
    "                _idxs = [x.item() for x in _topk.indices]\n",
    "                topk = list(\n",
    "                    zip(\n",
    "                        _values,\n",
    "                        _idxs,\n",
    "                        [target_probe_layer] * _topk.indices.shape[0],\n",
    "                        [layer_idx] * _topk.indices.shape[0],\n",
    "                    )\n",
    "                )\n",
    "                top_cos_scores[target_label].extend(topk)\n",
    "\n",
    "    _sorted_scores_0 = sorted(top_cos_scores[0], key=lambda x: x[0], reverse=True)\n",
    "    _sorted_scores_1 = sorted(top_cos_scores[1], key=lambda x: x[0], reverse=True)\n",
    "\n",
    "    _unique = set()\n",
    "    sorted_scores_0 = []\n",
    "    for entry in _sorted_scores_0:\n",
    "        _pair = (entry[3], entry[1])\n",
    "        if _pair not in _unique:\n",
    "            _unique.add(_pair)\n",
    "            sorted_scores_0.append(_pair)\n",
    "\n",
    "    _unique = set()\n",
    "    sorted_scores_1 = []\n",
    "    for entry in _sorted_scores_1:\n",
    "        _pair = (entry[3], entry[1])\n",
    "        if _pair not in _unique:\n",
    "            _unique.add(_pair)\n",
    "            sorted_scores_1.append(_pair)\n",
    "\n",
    "    return sorted_scores_0, sorted_scores_1"
   ]
  },
  {
   "cell_type": "code",
   "execution_count": 21,
   "id": "0f5e4960",
   "metadata": {},
   "outputs": [],
   "source": [
    "\n",
    "\n",
    "def get_WO_WV_OV(actor):\n",
    "\n",
    "    n_layers = 36\n",
    "    n_heads = actor.config.num_attention_heads\n",
    "    n_kv_heads = actor.config.num_key_value_heads\n",
    "    n_kv_groups = n_heads // n_kv_heads\n",
    "    W_O = []\n",
    "    W_V = []\n",
    "    for idx in range(n_layers):\n",
    "\n",
    "        _W_O = actor.model.layers[idx].self_attn.o_proj.weight\n",
    "        _W_O = einops.rearrange(_W_O, \"m (n h)->n h m\", n=n_heads)\n",
    "        W_O.append(_W_O)\n",
    "\n",
    "        _W_V = actor.model.layers[idx].self_attn.v_proj.weight\n",
    "        _W_V = einops.rearrange(_W_V, \"(n h) m->n m h\", n=n_kv_heads)\n",
    "        _W_V = torch.repeat_interleave(_W_V, dim=0, repeats=n_kv_groups)\n",
    "        W_V.append(_W_V)\n",
    "\n",
    "    # [layers, heads, d_head, d_model]\n",
    "    W_O = torch.stack(W_O, dim=0)\n",
    "    W_V = torch.stack(W_V, dim=0)\n",
    "    OV = einsum(\n",
    "        \"layers heads d_head d_model, layers heads d_model d_head -> layers heads d_model\",\n",
    "        W_O,\n",
    "        W_V,\n",
    "    )\n",
    "    return W_O, W_V, OV\n",
    "\n",
    "\n",
    "def get_OV_for_attn_heads(actor, OV, attn_heads):\n",
    "    OVs = []\n",
    "    for attn_head in attn_heads:\n",
    "        layer_idx = attn_head[0]\n",
    "        head_idx = attn_head[1]\n",
    "        OVs.append(OV[layer_idx, head_idx])\n",
    "    return torch.stack(OVs, dim=0)\n",
    "\n",
    "\n",
    "def get_verification_heads(\n",
    "    actor, samples, prev_token_heads, probe_model, num_mlp_vecs=200\n",
    "):\n",
    "    top_scores_0, top_scores_1 = _get_top_value_vecs(actor, probe_model, k=50)\n",
    "    gate_vecs = torch.stack(\n",
    "        [\n",
    "            actor.model.layers[x[0]].mlp.gate_proj.weight[x[1]]\n",
    "            for x in top_scores_1[:num_mlp_vecs]\n",
    "        ],\n",
    "        dim=0,\n",
    "    )\n",
    "    up_proj_vecs = torch.stack(\n",
    "        [\n",
    "            actor.model.layers[x[0]].mlp.up_proj.weight[x[1]]\n",
    "            for x in top_scores_1[:num_mlp_vecs]\n",
    "        ],\n",
    "        dim=0,\n",
    "    )\n",
    "\n",
    "    W_O, W_V, _OV = get_WO_WV_OV(actor)\n",
    "    OV = get_OV_for_attn_heads(actor, _OV, prev_token_heads)\n",
    "\n",
    "    dots_gate = einsum(\"N d_model, L d_model -> N L\", gate_vecs, OV)\n",
    "    act_fn = actor.model.layers[0].mlp.act_fn\n",
    "    acts = act_fn(dots_gate)\n",
    "\n",
    "    dots_up_proj = einsum(\"N d_model, L d_model -> N L\", up_proj_vecs, OV)\n",
    "    weights = (acts * dots_up_proj).mean(dim=0)\n",
    "    top_val, top_idx = torch.topk(weights.flatten(), k=len(prev_token_heads))\n",
    "    top_idx = np.array(\n",
    "        np.unravel_index(top_idx.cpu().numpy(), weights.shape)\n",
    "    ).T.squeeze()\n",
    "    verif_heads = [prev_token_heads[x].tolist() for x in top_idx]\n",
    "    return verif_heads\n",
    "\n",
    "\n",
    "def build_attn_hook_config(\n",
    "    actor,\n",
    "    samples,\n",
    "    batch_size,\n",
    "    probe_model,\n",
    "    prev_token_thresh=0.1,\n",
    "    num_mlp_vecs=200,\n",
    "):\n",
    "    prev_token_heads, attn_pattern = _get_prev_token_heads(\n",
    "        actor, samples, batch_size, prev_token_thresh\n",
    "    )\n",
    "    print(f\"Hmm... {len(prev_token_heads)}\")\n",
    "    verif_heads = get_verification_heads(\n",
    "        actor, samples, prev_token_heads, probe_model, num_mlp_vecs\n",
    "    )\n",
    "    heads = [(\"attn_out\", layer, head_idx) for layer, head_idx in verif_heads]\n",
    "    return heads, attn_pattern"
   ]
  },
  {
   "cell_type": "code",
   "execution_count": 45,
   "id": "1035a4b7",
   "metadata": {},
   "outputs": [],
   "source": [
    "\n",
    "batch_size = config[\"batch_size\"]"
   ]
  },
  {
   "cell_type": "code",
   "execution_count": 27,
   "id": "5e1a5883",
   "metadata": {
    "scrolled": true
   },
   "outputs": [
    {
     "name": "stderr",
     "output_type": "stream",
     "text": [
      " 20%|█████████████████████████████████████                                                                                                                                                    | 1/5 [00:08<00:35,  8.97s/it]"
     ]
    },
    {
     "name": "stdout",
     "output_type": "stream",
     "text": [
      "-> Fail\n",
      "-> Fail\n",
      "-> Fail\n",
      "-> Fail\n"
     ]
    },
    {
     "name": "stderr",
     "output_type": "stream",
     "text": [
      "\r",
      " 40%|██████████████████████████████████████████████████████████████████████████                                                                                                               | 2/5 [00:17<00:26,  8.82s/it]"
     ]
    },
    {
     "name": "stdout",
     "output_type": "stream",
     "text": [
      "-> Fail\n",
      "-> Fail\n",
      "-> Fail\n",
      "-> Fail\n"
     ]
    },
    {
     "name": "stderr",
     "output_type": "stream",
     "text": [
      "\r",
      " 60%|███████████████████████████████████████████████████████████████████████████████████████████████████████████████                                                                          | 3/5 [00:26<00:17,  8.61s/it]"
     ]
    },
    {
     "name": "stdout",
     "output_type": "stream",
     "text": [
      "-> Fail\n",
      "-> Fail\n",
      "-> Fail\n",
      "-> Fail\n"
     ]
    },
    {
     "name": "stderr",
     "output_type": "stream",
     "text": [
      "\r",
      " 80%|████████████████████████████████████████████████████████████████████████████████████████████████████████████████████████████████████████████████████                                     | 4/5 [00:34<00:08,  8.63s/it]"
     ]
    },
    {
     "name": "stdout",
     "output_type": "stream",
     "text": [
      "-> Fail\n",
      "-> Fail\n",
      "-> Fail\n",
      "-> Fail\n"
     ]
    },
    {
     "name": "stderr",
     "output_type": "stream",
     "text": [
      "100%|█████████████████████████████████████████████████████████████████████████████████████████████████████████████████████████████████████████████████████████████████████████████████████████| 5/5 [00:45<00:00,  9.05s/it]"
     ]
    },
    {
     "name": "stdout",
     "output_type": "stream",
     "text": [
      "-> Fail\n",
      "-> Fail\n",
      "-> Fail\n",
      "-> Fail\n",
      "Orig success: 0.0\n",
      "Orig mix: 0.0\n",
      "Orig fail: 1.0\n"
     ]
    },
    {
     "name": "stderr",
     "output_type": "stream",
     "text": [
      "\n"
     ]
    }
   ],
   "source": [
    "\n",
    "# Orig:\n",
    "hook_config = []\n",
    "orig_success, orig_mix, orig_fail = run(\n",
    "  actor,\n",
    "  samples,\n",
    "  hook_config,\n",
    "  batch_size,\n",
    ")\n",
    "print(f\"Orig success: {orig_success}\")\n",
    "print(f\"Orig mix: {orig_mix}\")\n",
    "print(f\"Orig fail: {orig_fail}\")"
   ]
  },
  {
   "cell_type": "code",
   "execution_count": 46,
   "id": "02e6a9f3",
   "metadata": {
    "scrolled": true
   },
   "outputs": [
    {
     "name": "stdout",
     "output_type": "stream",
     "text": [
      "Running MLP (only [1])\n"
     ]
    },
    {
     "name": "stderr",
     "output_type": "stream",
     "text": [
      "  1%|██▍                                                                                                                                                                                     | 1/75 [00:08<11:03,  8.96s/it]"
     ]
    },
    {
     "name": "stdout",
     "output_type": "stream",
     "text": [
      "-> Fail\n",
      " (this works)\n",
      "So, the equation that equals 36 is 79 - 60 + 17.\n",
      "</think>\n",
      "<\n",
      "-> Success\n",
      " (not 28)\n",
      "- 40 * 14 - 20 = 560 - 20 = 5\n",
      "-> Fail\n",
      " (this works)\n",
      "So, the equation that equals 39 is 84 - 83 + 72 - 34.\n",
      "\n",
      "-> Success\n",
      " (not 73)\n",
      "- 78 + 45 + 50 = 123 + 50 = 1\n"
     ]
    },
    {
     "name": "stderr",
     "output_type": "stream",
     "text": [
      "\r",
      "  3%|████▉                                                                                                                                                                                   | 2/75 [00:17<10:44,  8.83s/it]"
     ]
    },
    {
     "name": "stdout",
     "output_type": "stream",
     "text": [
      "-> Fail\n",
      " (this works)\n",
      "So, the equation that equals 77 is 38 + 31 + 8.\n",
      "</think>\n",
      "<answer\n",
      "-> Fail\n",
      " (this works)\n",
      "So, the equation that equals 77 is 80 - 54 + 51.\n",
      "</think>\n",
      "<\n",
      "-> Success\n",
      " (not 83 - 67 + 60)\n",
      "- 90 - 67 + 60 = 83\n",
      "-> Fail\n",
      " (this works)\n",
      "So, the equation that equals 48 is 91 - 36 - 7.\n",
      "</think>\n",
      "<answer\n"
     ]
    },
    {
     "name": "stderr",
     "output_type": "stream",
     "text": [
      "\r",
      "  4%|███████▎                                                                                                                                                                                | 3/75 [00:26<10:20,  8.61s/it]"
     ]
    },
    {
     "name": "stdout",
     "output_type": "stream",
     "text": [
      "-> Fail\n",
      " (this works)\n",
      "So, the equation that equals 76 is 96 - 19 - 1.\n",
      "</think>\n",
      "<answer\n",
      "-> Fail\n",
      " (this works)\n",
      "So, the equation that equals 53 is 96 - 69 + 26.\n",
      "</think>\n",
      "<\n",
      "-> Success\n",
      " (not 58)\n",
      "- 98 - 57 + 97 = 41 + 97 = 13\n",
      "-> Fail\n",
      " (this works)\n",
      "So, the equation that equals 71 is 57 + 10 + 4.\n",
      "</think>\n",
      "<answer\n"
     ]
    },
    {
     "name": "stderr",
     "output_type": "stream",
     "text": [
      "\r",
      "  5%|█████████▊                                                                                                                                                                              | 4/75 [00:34<10:14,  8.65s/it]"
     ]
    },
    {
     "name": "stdout",
     "output_type": "stream",
     "text": [
      "-> Fail\n",
      " (this works)\n",
      "So, the equation that equals 86 is 83 - 27 + 51 - 21.\n",
      "\n",
      "-> Fail\n",
      " (this works)\n",
      "So, the equation that equals 13 is 85 - 61 - 11.\n",
      "</think>\n",
      "<\n",
      "-> Success\n",
      " (not 84)\n",
      "- 82 + 72 - 70 = 154 - 70 = 8\n",
      "-> Fail\n",
      " (this works)\n",
      "So, the equation that equals 46 is 95 - 69 + 20.\n",
      "</think>\n",
      "<\n"
     ]
    },
    {
     "name": "stderr",
     "output_type": "stream",
     "text": [
      "\r",
      "  7%|████████████▎                                                                                                                                                                           | 5/75 [00:45<10:53,  9.34s/it]"
     ]
    },
    {
     "name": "stdout",
     "output_type": "stream",
     "text": [
      "-> Success\n",
      " (not 28)\n",
      "- 85 - 81 + 25 - 1 = 4 + 25 - \n",
      "-> Success\n",
      " (not 44 - 33 + 31)\n",
      "- 46 - 33 + 31 = 44\n",
      "-> Fail\n",
      " (this works)\n",
      "So, the equation that equals 86 is 99 - 67 + 56 - 2.\n",
      "</\n",
      "-> Fail\n",
      " (this works)\n",
      "So, the equation that equals 21 is 49 - 34 + 6.\n",
      "</think>\n",
      "<answer\n"
     ]
    },
    {
     "name": "stderr",
     "output_type": "stream",
     "text": [
      "\r",
      "  8%|██████████████▋                                                                                                                                                                         | 6/75 [00:54<10:35,  9.21s/it]"
     ]
    },
    {
     "name": "stdout",
     "output_type": "stream",
     "text": [
      "-> Fail\n",
      " (this works)\n",
      "So, the equation that equals 97 is 62 + 3 + 32.\n",
      "</think>\n",
      "<answer\n",
      "-> Fail\n",
      " (this works)\n",
      "So, the equation that equals 18 is 61 - 27 - 16.\n",
      "</think>\n",
      "<\n",
      "-> Success\n",
      " (not 86)\n",
      "- 91 + 61 + 66 = 152 + 66 = 2\n",
      "-> Fail\n",
      " (this works)\n",
      "So, the equation that equals 78 is 52 + 51 - 25.\n",
      "</think>\n",
      "<\n"
     ]
    },
    {
     "name": "stderr",
     "output_type": "stream",
     "text": [
      "\r",
      "  9%|█████████████████▏                                                                                                                                                                      | 7/75 [01:03<10:20,  9.12s/it]"
     ]
    },
    {
     "name": "stdout",
     "output_type": "stream",
     "text": [
      "-> Fail\n",
      " (this works)\n",
      "So, the equation that equals 62 is 55 + 46 - 39.\n",
      "</think>\n",
      "<\n",
      "-> Fail\n",
      " (this works)\n",
      "So, the equation that equals 32 is 98 - 82 + 16.\n",
      "</think>\n",
      "<\n",
      "-> Fail\n",
      " (this works)\n",
      "So, the equation that equals 94 is 55 + 11 + 28.\n",
      "</think>\n",
      "<\n",
      "-> Fail\n",
      " (this works)\n",
      "So, the equation that equals 93 is 60 - 18 + 51.\n",
      "</think>\n",
      "<\n"
     ]
    },
    {
     "name": "stderr",
     "output_type": "stream",
     "text": [
      "\r",
      " 11%|███████████████████▋                                                                                                                                                                    | 8/75 [01:12<10:08,  9.09s/it]"
     ]
    },
    {
     "name": "stdout",
     "output_type": "stream",
     "text": [
      "-> Fail\n",
      " (this works)\n",
      "So, the equation that equals 85 is 78 + 64 - 57.\n",
      "</think>\n",
      "<\n",
      "-> Fail\n",
      " (this works)\n",
      "So, the equation that equals 100 is 80 + 53 - 33.\n",
      "</think>\n",
      "\n",
      "-> Fail\n",
      " (this works)\n",
      "So, the equation that equals 12 is 22 - 27 + 23 - 6.\n",
      "</\n",
      "-> Fail\n",
      " (this works)\n",
      "So, the equation that equals 88 is 73 + 53 - 38.\n",
      "</think>\n",
      "<\n"
     ]
    },
    {
     "name": "stderr",
     "output_type": "stream",
     "text": [
      "\r",
      " 12%|██████████████████████                                                                                                                                                                  | 9/75 [01:20<09:49,  8.94s/it]"
     ]
    },
    {
     "name": "stdout",
     "output_type": "stream",
     "text": [
      "-> Success\n",
      " (not 36)\n",
      "- 75 - 67 + 28 = 8 + 28 = 36 (\n",
      "-> Fail\n",
      " (this works)\n",
      "So, the equation that equals 22 is 84 - 33 - 29.\n",
      "</think>\n",
      "<\n",
      "-> Success\n",
      " (not 36)\n",
      "- 72 + 11 + 47 = 83 + 47 = 13\n",
      "-> Fail\n",
      " (this works)\n",
      "So, the equation that equals 71 is 99 - 78 + 50.\n",
      "</think>\n",
      "<\n"
     ]
    },
    {
     "name": "stderr",
     "output_type": "stream",
     "text": [
      "\r",
      " 13%|████████████████████████▍                                                                                                                                                              | 10/75 [01:31<10:20,  9.54s/it]"
     ]
    },
    {
     "name": "stdout",
     "output_type": "stream",
     "text": [
      "-> Fail\n",
      " (this works)\n",
      "So, the equation that equals 34 is 94 - 75 + 65 - 50.\n",
      "\n",
      "-> Success\n",
      " (not 69 - 66 = 13, not 69)\n",
      "- 78 - 66 + 5\n",
      "-> Fail\n",
      " (this works)\n",
      "So, the equation that equals 31 is 20 + 27 + 13 - 29.\n",
      "\n",
      "-> Fail\n",
      " (this works)\n",
      "So, the equation that equals 19 is 75 - 42 - 19 + 5.\n",
      "</\n"
     ]
    },
    {
     "name": "stderr",
     "output_type": "stream",
     "text": [
      "\r",
      " 15%|██████████████████████████▊                                                                                                                                                            | 11/75 [01:42<10:37,  9.97s/it]"
     ]
    },
    {
     "name": "stdout",
     "output_type": "stream",
     "text": [
      "-> Fail\n",
      " (this works)\n",
      "So, the equation that equals 97 is 70 * 1 + 27.\n",
      "</think>\n",
      "<answer\n",
      "-> Fail\n",
      " (this works)\n",
      "So, the equation that equals 93 is 86 + 49 - 42.\n",
      "</think>\n",
      "<\n",
      "-> Fail\n",
      " (this works)\n",
      "So, the equation that equals 43 is 10 * 4 + 3.\n",
      "</think>\n",
      "<answer>\n",
      "-> Fail\n",
      " (this works)\n",
      "So, the equation that equals 100 is 84 + 57 - 31 - 10\n"
     ]
    },
    {
     "name": "stderr",
     "output_type": "stream",
     "text": [
      "\r",
      " 16%|█████████████████████████████▎                                                                                                                                                         | 12/75 [01:51<10:03,  9.57s/it]"
     ]
    },
    {
     "name": "stdout",
     "output_type": "stream",
     "text": [
      "-> Fail\n",
      " (this works)\n",
      "So, the equation that equals 51 is 84 - 70 + 37.\n",
      "</think>\n",
      "<\n",
      "-> Fail\n",
      " (this works)\n",
      "So, the equation that equals 20 is 18 + 2 * 1.\n",
      "</think>\n",
      "<answer>\n",
      "-> Fail\n",
      " (this works)\n",
      "So, the equation that equals 100 is 93 + 49 - 42.\n",
      "</think>\n",
      "\n",
      "-> Fail\n",
      " (this works)\n",
      "So, the equation that equals 89 is 89 - 29 - 29 + 29.\n",
      "\n"
     ]
    },
    {
     "name": "stderr",
     "output_type": "stream",
     "text": [
      "\r",
      " 17%|███████████████████████████████▋                                                                                                                                                       | 13/75 [02:00<09:39,  9.35s/it]"
     ]
    },
    {
     "name": "stdout",
     "output_type": "stream",
     "text": [
      "-> Success\n",
      " (not 68 - 73 + 66 = -66 + 66 = 0)\n",
      "- 73 -\n",
      "-> Success\n",
      " (not 21)\n",
      "- 32 + 13 - 24 = 45 - 24 = 21\n",
      "-> Fail\n",
      " (this works)\n",
      "So, the equation that equals 81 is 56 + 17 + 8.\n",
      "</think>\n",
      "<answer\n",
      "-> Fail\n",
      " (this works)\n",
      "So, the equation that equals 76 is 77 - 11 + 10.\n",
      "</think>\n",
      "<\n"
     ]
    },
    {
     "name": "stderr",
     "output_type": "stream",
     "text": [
      "\r",
      " 19%|██████████████████████████████████▏                                                                                                                                                    | 14/75 [02:09<09:20,  9.19s/it]"
     ]
    },
    {
     "name": "stdout",
     "output_type": "stream",
     "text": [
      "-> Fail\n",
      " (this works)\n",
      "So, the equation that equals 78 is 49 + 26 + 3.\n",
      "</think>\n",
      "<answer\n",
      "-> Fail\n",
      " (this works)\n",
      "So, the equation that equals 90 is 79 - 45 + 56.\n",
      "</think>\n",
      "<\n",
      "-> Fail\n",
      " (this works)\n",
      "So, the equation that equals 86 is 85 + 26 - 25.\n",
      "</think>\n",
      "<\n",
      "-> Fail\n",
      " (this works)\n",
      "So, the equation that equals 77 is 58 + 18 + 1.\n",
      "</think>\n",
      "<answer\n"
     ]
    },
    {
     "name": "stderr",
     "output_type": "stream",
     "text": [
      "\r",
      " 20%|████████████████████████████████████▌                                                                                                                                                  | 15/75 [02:18<09:09,  9.16s/it]"
     ]
    },
    {
     "name": "stdout",
     "output_type": "stream",
     "text": [
      "-> Fail\n",
      " (this works)\n",
      "So, the equation that equals 51 is 48 + 31 - 28.\n",
      "</think>\n",
      "<\n",
      "-> Fail\n",
      " (this works)\n",
      "So, the equation that equals 72 is 51 + 12 + 9.\n",
      "</think>\n",
      "<answer\n",
      "-> Fail\n",
      " (this works)\n",
      "So, the equation that equals 91 is 68 + 41 - 18.\n",
      "</think>\n",
      "<\n",
      "-> Fail\n",
      " (this works)\n",
      "So, the equation that equals 33 is 98 - 92 + 27.\n",
      "</think>\n",
      "<\n"
     ]
    },
    {
     "name": "stderr",
     "output_type": "stream",
     "text": [
      "\r",
      " 21%|███████████████████████████████████████                                                                                                                                                | 16/75 [02:27<08:56,  9.09s/it]"
     ]
    },
    {
     "name": "stdout",
     "output_type": "stream",
     "text": [
      "-> Fail\n",
      " (this works)\n",
      "So, the equation that equals 56 is 46 + 44 - 34.\n",
      "</think>\n",
      "<\n",
      "-> Fail\n",
      " (this works)\n",
      "So, the equation that equals 43 is 98 - 90 + 35.\n",
      "</think>\n",
      "<\n",
      "-> Fail\n",
      " (this works)\n",
      "So, the equation that equals 11 is 56 - 39 - 16 + 10.\n",
      "\n",
      "-> Fail\n",
      " (this works)\n",
      "So, the equation that equals 55 is 81 + 18 - 44.\n",
      "</think>\n",
      "<\n"
     ]
    },
    {
     "name": "stderr",
     "output_type": "stream",
     "text": [
      "\r",
      " 23%|█████████████████████████████████████████▍                                                                                                                                             | 17/75 [02:36<08:59,  9.30s/it]"
     ]
    },
    {
     "name": "stdout",
     "output_type": "stream",
     "text": [
      "-> Fail\n",
      " (this works)\n",
      "So, the equation that equals 74 is 75 + 15 - 16.\n",
      "</think>\n",
      "<\n",
      "-> Fail\n",
      " (this works)\n",
      "So, the equation that equals 45 is 80 - 73 + 38.\n",
      "</think>\n",
      "<\n",
      "-> Fail\n",
      " (this works)\n",
      "So, the equation that equals 50 is 94 - 72 + 39 - 11.\n",
      "\n",
      "-> Success\n",
      " (not 76)\n",
      "- 99 + 39 + 62 = 138 + 62 = 2\n"
     ]
    },
    {
     "name": "stderr",
     "output_type": "stream",
     "text": [
      "\r",
      " 24%|███████████████████████████████████████████▉                                                                                                                                           | 18/75 [02:46<08:59,  9.46s/it]"
     ]
    },
    {
     "name": "stdout",
     "output_type": "stream",
     "text": [
      "-> Fail\n",
      " (this works)\n",
      "So, the equation that equals 75 is 74 + 25 - 24.\n",
      "</think>\n",
      "<\n",
      "-> Fail\n",
      " (this works)\n",
      "So, the equation that equals 59 is 75 - 42 + 26.\n",
      "</think>\n",
      "<\n",
      "-> Fail\n",
      " (this works)\n",
      "So, the equation that equals 26 is 90 - 73 + 9.\n",
      "</think>\n",
      "<answer\n",
      "-> Fail\n",
      " (this works)\n",
      "So, the equation that equals 45 is 20 + 18 + 7.\n",
      "</think>\n",
      "<answer\n"
     ]
    },
    {
     "name": "stderr",
     "output_type": "stream",
     "text": [
      "\r",
      " 25%|██████████████████████████████████████████████▎                                                                                                                                        | 19/75 [02:57<09:14,  9.90s/it]"
     ]
    },
    {
     "name": "stdout",
     "output_type": "stream",
     "text": [
      "-> Fail\n",
      " (this works)\n",
      "So, the equation that equals 86 is 59 - 15 + 42.\n",
      "</think>\n",
      "<\n",
      "-> Fail\n",
      " (this works)\n",
      "So, the equation that equals 96 is 87 - 74 + 83.\n",
      "</think>\n",
      "<\n",
      "-> Fail\n",
      " (this works)\n",
      "So, the equation that equals 87 is 80 + 32 - 25.\n",
      "</think>\n",
      "<\n",
      "-> Fail\n",
      " (this works)\n",
      "So, the equation that equals 100 is 85 + 77 - 38 - 24\n"
     ]
    },
    {
     "name": "stderr",
     "output_type": "stream",
     "text": [
      "\r",
      " 27%|████████████████████████████████████████████████▊                                                                                                                                      | 20/75 [03:06<08:47,  9.60s/it]"
     ]
    },
    {
     "name": "stdout",
     "output_type": "stream",
     "text": [
      "-> Fail\n",
      " (this works)\n",
      "So, the equation that equals 92 is 92 - 82 + 62 - 20.\n",
      "\n",
      "-> Fail\n",
      " (this works)\n",
      "So, the equation that equals 43 is 93 - 86 + 36.\n",
      "</think>\n",
      "<\n",
      "-> Success\n",
      " (not 75)\n",
      "- 72 + 60 + 57 = 132 + 57 = 1\n",
      "-> Fail\n",
      " (this works)\n",
      "So, the equation that equals 100 is 57 + 52 - 9.\n",
      "</think>\n",
      "<\n"
     ]
    },
    {
     "name": "stderr",
     "output_type": "stream",
     "text": [
      "\r",
      " 28%|███████████████████████████████████████████████████▏                                                                                                                                   | 21/75 [03:15<08:29,  9.43s/it]"
     ]
    },
    {
     "name": "stdout",
     "output_type": "stream",
     "text": [
      "-> Fail\n",
      " (this works)\n",
      "So, the equation that equals 74 is 69 + 63 - 58.\n",
      "</think>\n",
      "<\n",
      "-> OOD (mix); offending token(s): ['correct', 'combination']\n",
      " (not 35 (correct combination))\n",
      "So, the equation that equals 35 is 42 - 47 + 40\n",
      "-> Success\n",
      " (not 84 - 64 = 23, not 87 - 61 = 26, not 8\n",
      "-> Fail\n",
      " (this works)\n",
      "So, the equation that equals 25 is 75 - 32 - 25 + 7.\n",
      "</\n"
     ]
    },
    {
     "name": "stderr",
     "output_type": "stream",
     "text": [
      "\r",
      " 29%|█████████████████████████████████████████████████████▋                                                                                                                                 | 22/75 [03:26<08:43,  9.87s/it]"
     ]
    },
    {
     "name": "stdout",
     "output_type": "stream",
     "text": [
      "-> Fail\n",
      " (this works)\n",
      "So, the equation that equals 79 is 94 + 68 - 60 - 23.\n",
      "\n",
      "-> Fail\n",
      " (this works)\n",
      "So, the equation that equals 95 is 69 + 48 - 22.\n",
      "</think>\n",
      "<\n",
      "-> Success\n",
      " (not 54 - 40 + 20)\n",
      "- 74 - 40 + 20 = 54\n",
      "-> Fail\n",
      " (this works)\n",
      "So, the equation that equals 75 is 83 - 42 + 34.\n",
      "</think>\n",
      "<\n"
     ]
    },
    {
     "name": "stderr",
     "output_type": "stream",
     "text": [
      "\r",
      " 31%|████████████████████████████████████████████████████████                                                                                                                               | 23/75 [03:37<08:54, 10.27s/it]"
     ]
    },
    {
     "name": "stdout",
     "output_type": "stream",
     "text": [
      "-> Fail\n",
      " (this works)\n",
      "So, the equation that equals 49 is 31 + 16 + 2.\n",
      "</think>\n",
      "<answer\n",
      "-> Fail\n",
      " (this works)\n",
      "So, the equation that equals 52 is 30 + 14 + 10 - 2.\n",
      "</\n",
      "-> Success\n",
      " (not 58)\n",
      "- 73 + 48 - 34 - 1 = 121 - 34\n",
      "-> Fail\n",
      " (this works)\n",
      "So, the equation that equals 85 is 65 + 62 - 42.\n",
      "</think>\n",
      "<\n"
     ]
    },
    {
     "name": "stderr",
     "output_type": "stream",
     "text": [
      "\r",
      " 32%|██████████████████████████████████████████████████████████▌                                                                                                                            | 24/75 [03:47<08:31, 10.03s/it]"
     ]
    },
    {
     "name": "stdout",
     "output_type": "stream",
     "text": [
      "-> Fail\n",
      " (this works)\n",
      "So, the equation that equals 96 is 61 + 15 + 20.\n",
      "</think>\n",
      "<\n",
      "-> Fail\n",
      " (this works)\n",
      "So, the equation that equals 57 is 59 - 25 + 23.\n",
      "</think>\n",
      "<\n",
      "-> Fail\n",
      " (this works)\n",
      "So, the equation that equals 75 is 37 + 29 + 9.\n",
      "</think>\n",
      "<answer\n",
      "-> OOD (success); offending token(s): ['correct', 'combination']\n",
      " (not correct combination)\n",
      "- 70 - 58 + 23 - 8 = 12 + 23 - \n"
     ]
    },
    {
     "name": "stderr",
     "output_type": "stream",
     "text": [
      "\r",
      " 33%|█████████████████████████████████████████████████████████████                                                                                                                          | 25/75 [03:56<08:06,  9.72s/it]"
     ]
    },
    {
     "name": "stdout",
     "output_type": "stream",
     "text": [
      "-> Fail\n",
      " (this works)\n",
      "So, the equation that equals 96 is 82 + 66 - 52.\n",
      "</think>\n",
      "<\n",
      "-> Fail\n",
      " (this works)\n",
      "So, the equation that equals 33 is 81 - 54 + 6.\n",
      "</think>\n",
      "<answer\n",
      "-> Fail\n",
      " (this works)\n",
      "So, the equation that equals 72 is 97 - 27 + 2.\n",
      "</think>\n",
      "<answer\n",
      "-> Fail\n",
      " (this works)\n",
      "So, the equation that equals 54 is 49 + 42 - 37.\n",
      "</think>\n",
      "<\n"
     ]
    },
    {
     "name": "stderr",
     "output_type": "stream",
     "text": [
      "\r",
      " 35%|███████████████████████████████████████████████████████████████▍                                                                                                                       | 26/75 [04:03<07:20,  8.99s/it]"
     ]
    },
    {
     "name": "stdout",
     "output_type": "stream",
     "text": [
      "-> Fail\n",
      " (this works)\n",
      "So, the equation that equals 89 is 74 - 54 + 69.\n",
      "</think>\n",
      "<\n",
      "-> Fail\n",
      " (this works)\n",
      "So, the equation that equals 62 is 84 - 60 + 38.\n",
      "</think>\n",
      "<\n",
      "-> Fail\n",
      " (this works)\n",
      "So, the equation that equals 13 is 81 - 55 - 13.\n",
      "</think>\n",
      "<\n",
      "-> Fail\n",
      " (this works)\n",
      "So, the equation that equals 92 is 83 - 58 + 67.\n",
      "</think>\n",
      "<\n"
     ]
    },
    {
     "name": "stderr",
     "output_type": "stream",
     "text": [
      "\r",
      " 36%|█████████████████████████████████████████████████████████████████▉                                                                                                                     | 27/75 [04:12<07:10,  8.97s/it]"
     ]
    },
    {
     "name": "stdout",
     "output_type": "stream",
     "text": [
      "-> Fail\n",
      " (this works)\n",
      "So, the equation that equals 52 is 39 + 35 - 22.\n",
      "</think>\n",
      "<\n",
      "-> Fail\n",
      " (this works)\n",
      "So, the equation that equals 48 is 51 - 9 + 6.\n",
      "</think>\n",
      "<answer>\n",
      "-> Fail\n",
      " (this works)\n",
      "So, the equation that equals 40 is 50 - 26 + 16.\n",
      "</think>\n",
      "<\n",
      "-> Fail\n",
      " (this works)\n",
      "So, the equation that equals 42 is 81 - 77 + 38.\n",
      "</think>\n",
      "<\n"
     ]
    },
    {
     "name": "stderr",
     "output_type": "stream",
     "text": [
      "\r",
      " 37%|████████████████████████████████████████████████████████████████████▎                                                                                                                  | 28/75 [04:20<06:52,  8.77s/it]"
     ]
    },
    {
     "name": "stdout",
     "output_type": "stream",
     "text": [
      "-> Fail\n",
      " (this works)\n",
      "So, the equation that equals 47 is 71 - 41 + 17.\n",
      "</think>\n",
      "<\n",
      "-> Fail\n",
      " (this works)\n",
      "So, the equation that equals 60 is 89 - 36 - 16 + 23.\n",
      "\n",
      "-> Fail\n",
      " (this works)\n",
      "So, the equation that equals 27 is 96 - 83 + 14.\n",
      "</think>\n",
      "<\n",
      "-> Success\n",
      " (not 32)\n",
      "- 58 - 25 + 1 = 33 + 1 = 34 (not\n"
     ]
    },
    {
     "name": "stderr",
     "output_type": "stream",
     "text": [
      "\r",
      " 39%|██████████████████████████████████████████████████████████████████████▊                                                                                                                | 29/75 [04:29<06:44,  8.80s/it]"
     ]
    },
    {
     "name": "stdout",
     "output_type": "stream",
     "text": [
      "-> Success\n",
      " (not 82)\n",
      "- 78 + 60 + 56 = 138 + 56 = 1\n",
      "-> Fail\n",
      " (this works)\n",
      "So, the equation that equals 89 is 82 + 43 - 36.\n",
      "</think>\n",
      "<\n",
      "-> Fail\n",
      " (this works)\n",
      "So, the equation that equals 13 is 83 - 71 + 1.\n",
      "</think>\n",
      "<answer\n",
      "-> Fail\n",
      " (this works)\n",
      "So, the equation that equals 35 is 33 + 12 - 10.\n",
      "</think>\n",
      "<\n"
     ]
    },
    {
     "name": "stderr",
     "output_type": "stream",
     "text": [
      "\r",
      " 40%|█████████████████████████████████████████████████████████████████████████▏                                                                                                             | 30/75 [04:37<06:31,  8.70s/it]"
     ]
    },
    {
     "name": "stdout",
     "output_type": "stream",
     "text": [
      "-> Fail\n",
      " (this works)\n",
      "So, the equation that equals 67 is 72 - 56 + 51.\n",
      "</think>\n",
      "<\n",
      "-> Fail\n",
      " (this works)\n",
      "So, the equation that equals 22 is 64 - 38 - 7 + 3.\n",
      "</think\n",
      "-> Fail\n",
      " (this works)\n",
      "So, the equation that equals 58 is 39 + 16 + 3.\n",
      "</think>\n",
      "<answer\n",
      "-> Fail\n",
      " (this works)\n",
      "So, the equation that equals 45 is 86 - 67 + 26.\n",
      "</think>\n",
      "<\n"
     ]
    },
    {
     "name": "stderr",
     "output_type": "stream",
     "text": [
      "\r",
      " 41%|███████████████████████████████████████████████████████████████████████████▋                                                                                                           | 31/75 [04:49<06:54,  9.43s/it]"
     ]
    },
    {
     "name": "stdout",
     "output_type": "stream",
     "text": [
      "-> Fail\n",
      " (this works)\n",
      "So, the equation that equals 94 is 60 + 56 - 43 + 21.\n",
      "\n",
      "-> Fail\n",
      " (this works)\n",
      "So, the equation that equals 81 is 96 + 76 - 54 - 37.\n",
      "\n",
      "-> Fail\n",
      " (this works)\n",
      "So, the equation that equals 41 is 52 - 25 + 14.\n",
      "</think>\n",
      "<\n",
      "-> Fail\n",
      " (this works)\n",
      "So, the equation that equals 91 is 99 - 61 + 53.\n",
      "</think>\n",
      "<\n"
     ]
    },
    {
     "name": "stderr",
     "output_type": "stream",
     "text": [
      "\r",
      " 43%|██████████████████████████████████████████████████████████████████████████████                                                                                                         | 32/75 [04:58<06:46,  9.46s/it]"
     ]
    },
    {
     "name": "stdout",
     "output_type": "stream",
     "text": [
      "-> Fail\n",
      " (this works)\n",
      "So, the equation that equals 96 is 80 + 61 - 45.\n",
      "</think>\n",
      "<\n",
      "-> Fail\n",
      " (this works)\n",
      "So, the equation that equals 80 is 60 + 37 - 18 + 1.\n",
      "</\n",
      "-> Fail\n",
      " (this works)\n",
      "So, the equation that equals 41 is 84 - 79 + 51 - 15.\n",
      "\n",
      "-> Fail\n",
      " (this works)\n",
      "So, the equation that equals 55 is 34 + 7 * 3.\n",
      "</think>\n",
      "<answer>\n"
     ]
    },
    {
     "name": "stderr",
     "output_type": "stream",
     "text": [
      "\r",
      " 44%|████████████████████████████████████████████████████████████████████████████████▌                                                                                                      | 33/75 [05:07<06:31,  9.31s/it]"
     ]
    },
    {
     "name": "stdout",
     "output_type": "stream",
     "text": [
      "-> Fail\n",
      " (this works)\n",
      "So, the equation that equals 65 is 92 + 26 - 53.\n",
      "</think>\n",
      "<\n",
      "-> Success\n",
      " (not 80)\n",
      "- 64 + 57 - 87 = 121 - 87 = 3\n",
      "-> Fail\n",
      " (this works)\n",
      "So, the equation that equals 36 is 57 - 25 + 4.\n",
      "</think>\n",
      "<answer\n",
      "-> Fail\n",
      " (this works)\n",
      "So, the equation that equals 80 is 67 + 40 - 27.\n",
      "</think>\n",
      "<\n"
     ]
    },
    {
     "name": "stderr",
     "output_type": "stream",
     "text": [
      "\r",
      " 45%|██████████████████████████████████████████████████████████████████████████████████▉                                                                                                    | 34/75 [05:17<06:34,  9.62s/it]"
     ]
    },
    {
     "name": "stdout",
     "output_type": "stream",
     "text": [
      "-> Fail\n",
      " (this works)\n",
      "So, the equation that equals 73 is 37 + 39 - 3.\n",
      "</think>\n",
      "<answer\n",
      "-> Fail\n",
      " (this works)\n",
      "So, the equation that equals 80 is 61 + 29 - 10.\n",
      "</think>\n",
      "<\n",
      "-> OOD (mix); offending token(s): ['correct', 'combination']\n",
      " (not 66)\n",
      "So, the correct combination is 96 * 55 / 80 = 66.\n",
      "</think\n",
      "-> Fail\n",
      " (this works)\n",
      "So, the equation that equals 97 is 78 + 76 - 57.\n",
      "</think>\n",
      "<\n"
     ]
    },
    {
     "name": "stderr",
     "output_type": "stream",
     "text": [
      "\r",
      " 47%|█████████████████████████████████████████████████████████████████████████████████████▍                                                                                                 | 35/75 [05:26<06:15,  9.38s/it]"
     ]
    },
    {
     "name": "stdout",
     "output_type": "stream",
     "text": [
      "-> Success\n",
      " (not 35)\n",
      "- 90 - 41 + 96 = 49 + 96 = 14\n",
      "-> Fail\n",
      " (this works)\n",
      "So, the equation that equals 20 is 67 - 49 + 2.\n",
      "</think>\n",
      "<answer\n",
      "-> Fail\n",
      " (this works)\n",
      "So, the equation that equals 31 is 54 - 69 + 26 + 20.\n",
      "\n",
      "-> Fail\n",
      " (this works)\n",
      "So, the equation that equals 59 is 87 - 34 + 6.\n",
      "</think>\n",
      "<answer\n"
     ]
    },
    {
     "name": "stderr",
     "output_type": "stream",
     "text": [
      "\r",
      " 48%|███████████████████████████████████████████████████████████████████████████████████████▊                                                                                               | 36/75 [05:34<05:48,  8.93s/it]"
     ]
    },
    {
     "name": "stdout",
     "output_type": "stream",
     "text": [
      "-> Fail\n",
      " (this works)\n",
      "So, the equation that equals 25 is 93 - 78 + 10.\n",
      "</think>\n",
      "<\n",
      "-> Success\n",
      " (not 38 - 16 = 22)\n",
      "- 99 - 45 + 16 = 54\n",
      "-> Fail\n",
      " (this works)\n",
      "So, the equation that equals 20 is 57 - 39 + 2.\n",
      "</think>\n",
      "<answer\n",
      "-> Fail\n",
      " (this works)\n",
      "So, the equation that equals 28 is 69 - 49 + 8.\n",
      "</think>\n",
      "<answer\n"
     ]
    },
    {
     "name": "stderr",
     "output_type": "stream",
     "text": [
      "\r",
      " 49%|██████████████████████████████████████████████████████████████████████████████████████████▎                                                                                            | 37/75 [05:45<05:56,  9.39s/it]"
     ]
    },
    {
     "name": "stdout",
     "output_type": "stream",
     "text": [
      "-> Fail\n",
      " (this works)\n",
      "So, the equation that equals 93 is 99 - 57 + 51.\n",
      "</think>\n",
      "<\n",
      "-> Fail\n",
      " (this works)\n",
      "So, the equation that equals 82 is 99 - 60 + 43.\n",
      "</think>\n",
      "<\n",
      "-> Fail\n",
      " (this works)\n",
      "So, the equation that equals 91 is 51 + 30 + 13 - 3.\n",
      "</\n",
      "-> Fail\n",
      " (this works)\n",
      "So, the equation that equals 43 is 92 - 16 - 43 + 10.\n",
      "\n"
     ]
    },
    {
     "name": "stderr",
     "output_type": "stream",
     "text": [
      "\r",
      " 51%|████████████████████████████████████████████████████████████████████████████████████████████▋                                                                                          | 38/75 [05:54<05:47,  9.40s/it]"
     ]
    },
    {
     "name": "stdout",
     "output_type": "stream",
     "text": [
      "-> Fail\n",
      " (this works)\n",
      "So, the equation that equals 30 is 94 - 46 - 36 + 18.\n",
      "\n",
      "-> Fail\n",
      " (this works)\n",
      "So, the equation that equals 50 is 60 - 22 + 12 + 12.\n",
      "\n",
      "-> Fail\n",
      " (this works)\n",
      "So, the equation that equals 97 is 64 + 62 - 29.\n",
      "</think>\n",
      "<\n",
      "-> Success\n",
      " (not 0)\n",
      "- 91 + 85 - 91 - 4 = 176 - 91 -\n"
     ]
    },
    {
     "name": "stderr",
     "output_type": "stream",
     "text": [
      "\r",
      " 52%|███████████████████████████████████████████████████████████████████████████████████████████████▏                                                                                       | 39/75 [06:04<05:42,  9.51s/it]"
     ]
    },
    {
     "name": "stdout",
     "output_type": "stream",
     "text": [
      "-> Fail\n",
      " (this works)\n",
      "So, the equation that equals 25 is 61 - 45 + 9.\n",
      "</think>\n",
      "<answer\n",
      "-> Fail\n",
      " (this works)\n",
      "So, the equation that equals 69 is 71 - 13 + 11.\n",
      "</think>\n",
      "<\n",
      "-> Fail\n",
      " (this works)\n",
      "So, the equation that equals 83 is 69 + 32 - 18.\n",
      "</think>\n",
      "<\n",
      "-> Success\n",
      " (not 23)\n",
      "- 70 + 59 - 34 - 22 = 129 - 3\n"
     ]
    },
    {
     "name": "stderr",
     "output_type": "stream",
     "text": [
      "\r",
      " 53%|█████████████████████████████████████████████████████████████████████████████████████████████████▌                                                                                     | 40/75 [06:12<05:20,  9.16s/it]"
     ]
    },
    {
     "name": "stdout",
     "output_type": "stream",
     "text": [
      "-> Fail\n",
      " (this works)\n",
      "So, the equation that equals 28 is 83 - 82 + 68 - 41.\n",
      "\n",
      "-> Fail\n",
      " (this works)\n",
      "So, the equation that equals 37 is 88 - 82 + 80 - 49.\n",
      "\n",
      "-> Fail\n",
      " (this works)\n",
      "So, the equation that equals 74 is 56 + 17 + 1.\n",
      "</think>\n",
      "<answer\n",
      "-> Fail\n",
      " (this works)\n",
      "So, the equation that equals 95 is 56 - 17 + 56.\n",
      "</think>\n",
      "<\n"
     ]
    },
    {
     "name": "stderr",
     "output_type": "stream",
     "text": [
      "\r",
      " 55%|████████████████████████████████████████████████████████████████████████████████████████████████████                                                                                   | 41/75 [06:22<05:18,  9.37s/it]"
     ]
    },
    {
     "name": "stdout",
     "output_type": "stream",
     "text": [
      "-> Fail\n",
      " (this works)\n",
      "So, the equation that equals 98 is 92 + 1 + 5.\n",
      "</think>\n",
      "<answer>\n",
      "-> Fail\n",
      " (this works)\n",
      "So, the equation that equals 42 is 99 - 75 + 18.\n",
      "</think>\n",
      "<\n",
      "-> Fail\n",
      " (this works)\n",
      "So, the equation that equals 76 is 46 + 1 + 29.\n",
      "</think>\n",
      "<answer\n",
      "-> OOD (mix); offending token(s): ['correct', 'combination', 'which']\n",
      " (not 38)\n",
      "So, the correct combination is 21 + 13 + 4, which equals 38.\n",
      "</\n"
     ]
    },
    {
     "name": "stderr",
     "output_type": "stream",
     "text": [
      "\r",
      " 56%|██████████████████████████████████████████████████████████████████████████████████████████████████████▍                                                                                | 42/75 [06:32<05:13,  9.51s/it]"
     ]
    },
    {
     "name": "stdout",
     "output_type": "stream",
     "text": [
      "-> Success\n",
      " (not 46)\n",
      "- 71 + 65 - 26 - 14 = 136 - 2\n",
      "-> Fail\n",
      " (this works)\n",
      "So, the equation that equals 89 is 96 - 35 - 28.\n",
      "</think>\n",
      "<\n",
      "-> Success\n",
      " (not 87)\n",
      "- 71 + 49 + 33 = 110 + 33 = 1\n",
      "-> Fail\n",
      " (this works)\n",
      "So, the equation that equals 25 is 59 - 47 + 13.\n",
      "</think>\n",
      "<\n"
     ]
    },
    {
     "name": "stderr",
     "output_type": "stream",
     "text": [
      "\r",
      " 57%|████████████████████████████████████████████████████████████████████████████████████████████████████████▉                                                                              | 43/75 [06:41<04:59,  9.35s/it]"
     ]
    },
    {
     "name": "stdout",
     "output_type": "stream",
     "text": [
      "-> Fail\n",
      " (this works)\n",
      "So, the equation that equals 49 is 91 - 47 + 5.\n",
      "</think>\n",
      "<answer\n",
      "-> Fail\n",
      " (this works)\n",
      "So, the equation that equals 85 is 53 + 53 - 21.\n",
      "</think>\n",
      "<\n",
      "-> Success\n",
      " (not 89)\n",
      "- 78 + 67 - 56 = 145 - 56 = 8\n",
      "-> Success\n",
      " (not 76)\n",
      "- 68 + 54 - 46 = 122 - 46 = 7\n"
     ]
    },
    {
     "name": "stderr",
     "output_type": "stream",
     "text": [
      "\r",
      " 59%|███████████████████████████████████████████████████████████████████████████████████████████████████████████▎                                                                           | 44/75 [06:50<04:45,  9.20s/it]"
     ]
    },
    {
     "name": "stdout",
     "output_type": "stream",
     "text": [
      "-> Fail\n",
      " (this works)\n",
      "So, the equation that equals 77 is 76 + 3 - 2.\n",
      "</think>\n",
      "<answer>\n",
      "-> Fail\n",
      " (this works)\n",
      "So, the equation that equals 63 is 80 - 49 + 32.\n",
      "</think>\n",
      "<\n",
      "-> Fail\n",
      " (this works)\n",
      "So, the equation that equals 14 is (20 / 2) + 4.\n",
      "</think>\n",
      "<answer\n",
      "-> Fail\n",
      " (this works)\n",
      "So, the equation that equals 94 is 87 + 22 - 15.\n",
      "</think>\n",
      "<\n"
     ]
    },
    {
     "name": "stderr",
     "output_type": "stream",
     "text": [
      "\r",
      " 60%|█████████████████████████████████████████████████████████████████████████████████████████████████████████████▊                                                                         | 45/75 [06:58<04:30,  9.02s/it]"
     ]
    },
    {
     "name": "stdout",
     "output_type": "stream",
     "text": [
      "-> Fail\n",
      " (this works)\n",
      "So, the equation that equals 79 is 64 + 43 - 28.\n",
      "</think>\n",
      "<\n",
      "-> Fail\n",
      " (this works)\n",
      "So, the equation that equals 27 is 66 - 59 + 20.\n",
      "</think>\n",
      "<\n",
      "-> Fail\n",
      " (this works)\n",
      "So, the equation that equals 38 is 49 - 41 + 30.\n",
      "</think>\n",
      "<\n",
      "-> Fail\n",
      " (this works)\n",
      "So, the equation that equals 90 is 98 - 86 + 78.\n",
      "</think>\n",
      "<\n"
     ]
    },
    {
     "name": "stderr",
     "output_type": "stream",
     "text": [
      "\r",
      " 61%|████████████████████████████████████████████████████████████████████████████████████████████████████████████████▏                                                                      | 46/75 [07:09<04:37,  9.55s/it]"
     ]
    },
    {
     "name": "stdout",
     "output_type": "stream",
     "text": [
      "-> Fail\n",
      " (this works)\n",
      "So, the equation that equals 53 is 55 + 35 - 25 - 12.\n",
      "\n",
      "-> Fail\n",
      " (this works)\n",
      "So, the equation that equals 100 is 97 + 35 - 32.\n",
      "</think>\n",
      "\n",
      "-> Fail\n",
      " (this works)\n",
      "So, the equation that equals 82 is 86 - 23 + 19.\n",
      "</think>\n",
      "<\n",
      "-> Fail\n",
      " (this works)\n",
      "So, the equation that equals 88 is 78 + 52 - 63 + 21.\n",
      "\n"
     ]
    },
    {
     "name": "stderr",
     "output_type": "stream",
     "text": [
      "\r",
      " 63%|██████████████████████████████████████████████████████████████████████████████████████████████████████████████████▋                                                                    | 47/75 [07:18<04:22,  9.38s/it]"
     ]
    },
    {
     "name": "stdout",
     "output_type": "stream",
     "text": [
      "-> Fail\n",
      " (this works)\n",
      "So, the equation that equals 27 is 50 - 25 + 2.\n",
      "</think>\n",
      "<answer\n",
      "-> Fail\n",
      " (this works)\n",
      "So, the equation that equals 24 is 93 - 90 + 21.\n",
      "</think>\n",
      "<\n",
      "-> Fail\n",
      " (this works)\n",
      "So, the equation that equals 83 is 77 + 64 - 58.\n",
      "</think>\n",
      "<\n",
      "-> Success\n",
      " (not 97)\n",
      "- 92 + 61 + 56 = 153 + 56 = 2\n"
     ]
    },
    {
     "name": "stderr",
     "output_type": "stream",
     "text": [
      "\r",
      " 64%|█████████████████████████████████████████████████████████████████████████████████████████████████████████████████████                                                                  | 48/75 [07:27<04:06,  9.14s/it]"
     ]
    },
    {
     "name": "stdout",
     "output_type": "stream",
     "text": [
      "-> Fail\n",
      " (this works)\n",
      "So, the equation that equals 74 is 52 + 40 - 18.\n",
      "</think>\n",
      "<\n",
      "-> Success\n",
      " (not 14)\n",
      "- 46 - 43 + 11 = 3 + 11 = 14 (\n",
      "-> Fail\n",
      " (this works)\n",
      "So, the equation that equals 64 is 96 - 50 + 18.\n",
      "</think>\n",
      "<\n",
      "-> Fail\n",
      " (this works)\n",
      "So, the equation that equals 54 is 36 + 31 - 13.\n",
      "</think>\n",
      "<\n"
     ]
    },
    {
     "name": "stderr",
     "output_type": "stream",
     "text": [
      "\r",
      " 65%|███████████████████████████████████████████████████████████████████████████████████████████████████████████████████████▌                                                               | 49/75 [07:35<03:51,  8.91s/it]"
     ]
    },
    {
     "name": "stdout",
     "output_type": "stream",
     "text": [
      "-> Fail\n",
      " (this works)\n",
      "So, the equation that equals 37 is 77 - 63 + 23.\n",
      "</think>\n",
      "<\n",
      "-> Fail\n",
      " (this works)\n",
      "So, the equation that equals 92 is 75 - 9 + 26.\n",
      "</think>\n",
      "<answer\n",
      "-> Fail\n",
      " (this works)\n",
      "So, the equation that equals 96 is 97 - 21 + 20.\n",
      "</think>\n",
      "<\n",
      "-> Fail\n",
      " (this works)\n",
      "So, the equation that equals 53 is 91 - 45 + 7.\n",
      "</think>\n",
      "<answer\n"
     ]
    },
    {
     "name": "stderr",
     "output_type": "stream",
     "text": [
      "\r",
      " 67%|██████████████████████████████████████████████████████████████████████████████████████████████████████████████████████████                                                             | 50/75 [07:46<03:54,  9.40s/it]"
     ]
    },
    {
     "name": "stdout",
     "output_type": "stream",
     "text": [
      "-> Fail\n",
      " (this works)\n",
      "So, the equation that equals 75 is 97 - 52 + 30.\n",
      "</think>\n",
      "<\n",
      "-> Fail\n",
      " (this works)\n",
      "So, the equation that equals 43 is 61 - 33 + 15.\n",
      "</think>\n",
      "<\n",
      "-> Success\n",
      " (not 42)\n",
      "- 87 + 72 - 28 - 1 = 159 - 28\n",
      "-> Fail\n",
      " (this works)\n",
      "So, the equation that equals 23 is 30 - 20 + 13.\n",
      "</think>\n",
      "<\n"
     ]
    },
    {
     "name": "stderr",
     "output_type": "stream",
     "text": [
      "\r",
      " 68%|████████████████████████████████████████████████████████████████████████████████████████████████████████████████████████████▍                                                          | 51/75 [07:54<03:39,  9.13s/it]"
     ]
    },
    {
     "name": "stdout",
     "output_type": "stream",
     "text": [
      "-> Fail\n",
      " (this works)\n",
      "So, the equation that equals 80 is 99 - 42 + 23.\n",
      "</think>\n",
      "<\n",
      "-> Fail\n",
      " (this works)\n",
      "So, the equation that equals 24 is 45 - 36 + 15.\n",
      "</think>\n",
      "<\n",
      "-> Fail\n",
      " (this works)\n",
      "So, the equation that equals 97 is 94 + 4 - 1.\n",
      "</think>\n",
      "<answer>\n",
      "-> Fail\n",
      " (this works)\n",
      "So, the equation that equals 83 is 75 + 48 - 40.\n",
      "</think>\n",
      "<\n"
     ]
    },
    {
     "name": "stderr",
     "output_type": "stream",
     "text": [
      "\r",
      " 69%|██████████████████████████████████████████████████████████████████████████████████████████████████████████████████████████████▉                                                        | 52/75 [08:05<03:40,  9.59s/it]"
     ]
    },
    {
     "name": "stdout",
     "output_type": "stream",
     "text": [
      "-> Fail\n",
      " (this works)\n",
      "So, the equation that equals 50 is 91 - 34 - 7.\n",
      "</think>\n",
      "<answer\n",
      "-> Fail\n",
      " (this works)\n",
      "So, the equation that equals 54 is 90 - 87 + 51.\n",
      "</think>\n",
      "<\n",
      "-> Fail\n",
      " (this works)\n",
      "So, the equation that equals 79 is 57 + 37 + 25 - 40.\n",
      "\n",
      "-> Fail\n",
      " (this works)\n",
      "So, the equation that equals 47 is 56 - 60 + 51.\n",
      "</think>\n",
      "<\n"
     ]
    },
    {
     "name": "stderr",
     "output_type": "stream",
     "text": [
      "\r",
      " 71%|█████████████████████████████████████████████████████████████████████████████████████████████████████████████████████████████████▎                                                     | 53/75 [08:14<03:27,  9.41s/it]"
     ]
    },
    {
     "name": "stdout",
     "output_type": "stream",
     "text": [
      "-> Fail\n",
      " (this works)\n",
      "So, the equation that equals 58 is 40 + 22 - 4.\n",
      "</think>\n",
      "<answer\n",
      "-> Fail\n",
      " (this works)\n",
      "So, the equation that equals 53 is 50 - 31 + 34.\n",
      "</think>\n",
      "<\n",
      "-> Fail\n",
      " (this works)\n",
      "So, the equation that equals 50 is 75 - 31 + 6.\n",
      "</think>\n",
      "<answer\n",
      "-> Fail\n",
      " (this works)\n",
      "So, the equation that equals 81 is 57 + 47 - 23.\n",
      "</think>\n",
      "<\n"
     ]
    },
    {
     "name": "stderr",
     "output_type": "stream",
     "text": [
      "\r",
      " 72%|███████████████████████████████████████████████████████████████████████████████████████████████████████████████████████████████████▊                                                   | 54/75 [08:22<03:09,  9.01s/it]"
     ]
    },
    {
     "name": "stdout",
     "output_type": "stream",
     "text": [
      "-> Success\n",
      " (not 74)\n",
      "- 89 - 76 + 61 = 13 + 61 = 74\n",
      "-> Fail\n",
      " (this works)\n",
      "So, the equation that equals 15 is 99 - 64 - 20.\n",
      "</think>\n",
      "<\n",
      "-> Fail\n",
      " (this works)\n",
      "So, the equation that equals 16 is 81 - 71 + 6.\n",
      "</think>\n",
      "<answer\n",
      "-> Success\n",
      " (not 75)\n",
      "- 79 - 51 + 47 = 28 + 47 = 75\n"
     ]
    },
    {
     "name": "stderr",
     "output_type": "stream",
     "text": [
      "\r",
      " 73%|██████████████████████████████████████████████████████████████████████████████████████████████████████████████████████████████████████▏                                                | 55/75 [08:30<02:57,  8.88s/it]"
     ]
    },
    {
     "name": "stdout",
     "output_type": "stream",
     "text": [
      "-> Fail\n",
      " (this works)\n",
      "So, the equation that equals 98 is 91 + 34 - 27.\n",
      "</think>\n",
      "<\n",
      "-> Fail\n",
      " (this works)\n",
      "So, the equation that equals 24 is 55 - 48 + 17.\n",
      "</think>\n",
      "<\n",
      "-> Success\n",
      " (not 12)\n",
      "- 72 - 59 - 30 + 29 = 13 - 30\n",
      "-> Fail\n",
      " (this works)\n",
      "So, the equation that equals 21 is 83 - 57 - 5.\n",
      "</think>\n",
      "<answer\n"
     ]
    },
    {
     "name": "stderr",
     "output_type": "stream",
     "text": [
      "\r",
      " 75%|████████████████████████████████████████████████████████████████████████████████████████████████████████████████████████████████████████▋                                              | 56/75 [08:41<02:56,  9.29s/it]"
     ]
    },
    {
     "name": "stdout",
     "output_type": "stream",
     "text": [
      "-> Fail\n",
      " (this works)\n",
      "So, the equation that equals 90 is 93 - 76 + 73.\n",
      "</think>\n",
      "<\n",
      "-> Fail\n",
      " (this works)\n",
      "So, the equation that equals 29 is 20 + 10 - 1.\n",
      "</think>\n",
      "<answer\n",
      "-> Fail\n",
      " (this works)\n",
      "So, the equation that equals 41 is 58 - 52 + 35.\n",
      "</think>\n",
      "<\n",
      "-> Success\n",
      " (not 72)\n",
      "- 45 + 28 - 2 + 1 = 73 - 2 + 1\n"
     ]
    },
    {
     "name": "stderr",
     "output_type": "stream",
     "text": [
      "\r",
      " 76%|███████████████████████████████████████████████████████████████████████████████████████████████████████████████████████████████████████████                                            | 57/75 [08:52<02:56,  9.80s/it]"
     ]
    },
    {
     "name": "stdout",
     "output_type": "stream",
     "text": [
      "-> Fail\n",
      " (this works)\n",
      "So, the equation that equals 70 is 92 + 26 - 48.\n",
      "</think>\n",
      "<\n",
      "-> Fail\n",
      " (this works)\n",
      "So, the equation that equals 13 is 49 - 21 - 15.\n",
      "</think>\n",
      "<\n",
      "-> Fail\n",
      " (this works)\n",
      "So, the equation that equals 46 is 72 + 18 - 44.\n",
      "</think>\n",
      "<\n",
      "-> Fail\n",
      " (this works)\n",
      "So, the equation that equals 40 is 60 + 34 + 32 - 86.\n",
      "\n"
     ]
    },
    {
     "name": "stderr",
     "output_type": "stream",
     "text": [
      "\r",
      " 77%|█████████████████████████████████████████████████████████████████████████████████████████████████████████████████████████████████████████████▌                                         | 58/75 [09:02<02:51, 10.11s/it]"
     ]
    },
    {
     "name": "stdout",
     "output_type": "stream",
     "text": [
      "-> Fail\n",
      " (this works)\n",
      "So, the equation that equals 73 is 59 - 26 + 40.\n",
      "</think>\n",
      "<\n",
      "-> Fail\n",
      " (this works)\n",
      "So, the equation that equals 66 is 68 - 37 + 35.\n",
      "</think>\n",
      "<\n",
      "-> Fail\n",
      " (this works)\n",
      "So, the equation that equals 91 is 63 * 3 - 98.\n",
      "</think>\n",
      "<answer\n",
      "-> Success\n",
      " (not 43)\n",
      "- 86 + 11 + 54 = 97 + 54 = 15\n"
     ]
    },
    {
     "name": "stderr",
     "output_type": "stream",
     "text": [
      "\r",
      " 79%|███████████████████████████████████████████████████████████████████████████████████████████████████████████████████████████████████████████████▉                                       | 59/75 [09:13<02:44, 10.26s/it]"
     ]
    },
    {
     "name": "stdout",
     "output_type": "stream",
     "text": [
      "-> Fail\n",
      " (this works)\n",
      "So, the equation that equals 68 is 51 + 35 - 18.\n",
      "</think>\n",
      "<\n",
      "-> Fail\n",
      " (this works)\n",
      "So, the equation that equals 68 is 49 + 33 - 19 + 5.\n",
      "</\n",
      "-> Fail\n",
      " (this works)\n",
      "So, the equation that equals 68 is 78 - 51 + 41.\n",
      "</think>\n",
      "<\n",
      "-> Fail\n",
      " (this works)\n",
      "So, the equation that equals 60 is 52 + 45 - 37.\n",
      "</think>\n",
      "<\n"
     ]
    },
    {
     "name": "stderr",
     "output_type": "stream",
     "text": [
      "\r",
      " 80%|██████████████████████████████████████████████████████████████████████████████████████████████████████████████████████████████████████████████████▍                                    | 60/75 [09:24<02:37, 10.47s/it]"
     ]
    },
    {
     "name": "stdout",
     "output_type": "stream",
     "text": [
      "-> Fail\n",
      " (this works)\n",
      "So, the equation that equals 39 is 79 - 32 - 8.\n",
      "</think>\n",
      "<answer\n",
      "-> Fail\n",
      " (this works)\n",
      "So, the equation that equals 67 is 42 + 45 - 20.\n",
      "</think>\n",
      "<\n",
      "-> Success\n",
      " (not 54 - 57 + 41)\n",
      "- 70 - 57 + 41 = 54\n",
      "-> Fail\n",
      " (this works)\n",
      "So, the equation that equals 64 is 71 - 43 + 36.\n",
      "</think>\n",
      "<\n"
     ]
    },
    {
     "name": "stderr",
     "output_type": "stream",
     "text": [
      "\r",
      " 81%|████████████████████████████████████████████████████████████████████████████████████████████████████████████████████████████████████████████████████▊                                  | 61/75 [09:32<02:18,  9.87s/it]"
     ]
    },
    {
     "name": "stdout",
     "output_type": "stream",
     "text": [
      "-> Fail\n",
      " (this works)\n",
      "So, the equation that equals 28 is 78 - 77 + 27.\n",
      "</think>\n",
      "<\n",
      "-> Fail\n",
      " (this works)\n",
      "So, the equation that equals 92 is 53 + 41 - 2.\n",
      "</think>\n",
      "<answer\n",
      "-> Fail\n",
      " (this works)\n",
      "So, the equation that equals 18 is 42 - 48 + 24.\n",
      "</think>\n",
      "<\n",
      "-> Success\n",
      " (not 70)\n",
      "- 86 - 77 + 61 = 9 + 61 = 70 (\n"
     ]
    },
    {
     "name": "stderr",
     "output_type": "stream",
     "text": [
      "\r",
      " 83%|███████████████████████████████████████████████████████████████████████████████████████████████████████████████████████████████████████████████████████▎                               | 62/75 [09:41<02:03,  9.48s/it]"
     ]
    },
    {
     "name": "stdout",
     "output_type": "stream",
     "text": [
      "-> Fail\n",
      " (this works)\n",
      "So, the equation that equals 82 is 96 - 29 + 15.\n",
      "</think>\n",
      "<\n",
      "-> Fail\n",
      " (this works)\n",
      "So, the equation that equals 67 is 91 - 54 + 30.\n",
      "</think>\n",
      "<\n",
      "-> Fail\n",
      " (this works)\n",
      "So, the equation that equals 92 is 42 + 27 + 23.\n",
      "</think>\n",
      "<\n",
      "-> Fail\n",
      " (this works)\n",
      "So, the equation that equals 21 is 69 - 46 - 6 + 4.\n",
      "</think\n"
     ]
    },
    {
     "name": "stderr",
     "output_type": "stream",
     "text": [
      "\r",
      " 84%|█████████████████████████████████████████████████████████████████████████████████████████████████████████████████████████████████████████████████████████▋                             | 63/75 [09:50<01:52,  9.37s/it]"
     ]
    },
    {
     "name": "stdout",
     "output_type": "stream",
     "text": [
      "-> Fail\n",
      " (this works)\n",
      "So, the equation that equals 71 is 50 - 4 + 26 - 1.\n",
      "</think\n",
      "-> Fail\n",
      " (this works)\n",
      "So, the equation that equals 66 is 84 - 59 - 18 + 59.\n",
      "\n",
      "-> Fail\n",
      " (this works)\n",
      "So, the equation that equals 26 is 16 + 18 - 8.\n",
      "</think>\n",
      "<answer\n",
      "-> Fail\n",
      " (this works)\n",
      "So, the equation that equals 80 is 70 + 11 - 1.\n",
      "</think>\n",
      "<answer\n"
     ]
    },
    {
     "name": "stderr",
     "output_type": "stream",
     "text": [
      "\r",
      " 85%|████████████████████████████████████████████████████████████████████████████████████████████████████████████████████████████████████████████████████████████▏                          | 64/75 [10:01<01:47,  9.76s/it]"
     ]
    },
    {
     "name": "stdout",
     "output_type": "stream",
     "text": [
      "-> Fail\n",
      " (this works)\n",
      "So, the equation that equals 80 is 90 - 86 + 76.\n",
      "</think>\n",
      "<\n",
      "-> Success\n",
      " (not 21)\n",
      "- 88 - 89 + 20 = -1 + 20 = 19 (\n",
      "-> Fail\n",
      " (this works)\n",
      "So, the equation that equals 77 is 93 - 57 + 41.\n",
      "</think>\n",
      "<\n",
      "-> Fail\n",
      " (this works)\n",
      "So, the equation that equals 95 is 85 + 80 - 50 - 20.\n",
      "\n"
     ]
    },
    {
     "name": "stderr",
     "output_type": "stream",
     "text": [
      "\r",
      " 87%|██████████████████████████████████████████████████████████████████████████████████████████████████████████████████████████████████████████████████████████████▌                        | 65/75 [10:11<01:38,  9.89s/it]"
     ]
    },
    {
     "name": "stdout",
     "output_type": "stream",
     "text": [
      "-> Fail\n",
      " (this works)\n",
      "So, the equation that equals 40 is 69 - 46 + 17.\n",
      "</think>\n",
      "<\n",
      "-> Success\n",
      " (not 90)\n",
      "- 91 + 61 - 60 = 152 - 60 = 9\n",
      "-> Fail\n",
      " (this works)\n",
      "So, the equation that equals 34 is 76 - 47 + 42 - 37.\n",
      "\n",
      "-> Fail\n",
      " (this works)\n",
      "So, the equation that equals 15 is 31 - 33 + 17.\n",
      "</think>\n",
      "<\n"
     ]
    },
    {
     "name": "stderr",
     "output_type": "stream",
     "text": [
      "\r",
      " 88%|█████████████████████████████████████████████████████████████████████████████████████████████████████████████████████████████████████████████████████████████████                      | 66/75 [10:19<01:24,  9.35s/it]"
     ]
    },
    {
     "name": "stdout",
     "output_type": "stream",
     "text": [
      "-> Fail\n",
      " (this works)\n",
      "So, the equation that equals 30 is 84 - 50 - 12 + 8.\n",
      "</\n",
      "-> Fail\n",
      " (this works)\n",
      "So, the equation that equals 75 is 86 - 62 + 51.\n",
      "</think>\n",
      "<\n",
      "-> Fail\n",
      " (this works)\n",
      "So, the equation that equals 44 is 40 - 7 + 11.\n",
      "</think>\n",
      "<answer\n",
      "-> Fail\n",
      " (this works)\n",
      "So, the equation that equals 98 is 90 + 12 - 4.\n",
      "</think>\n",
      "<answer\n"
     ]
    },
    {
     "name": "stderr",
     "output_type": "stream",
     "text": [
      "\r",
      " 89%|███████████████████████████████████████████████████████████████████████████████████████████████████████████████████████████████████████████████████████████████████▍                   | 67/75 [10:28<01:14,  9.28s/it]"
     ]
    },
    {
     "name": "stdout",
     "output_type": "stream",
     "text": [
      "-> Fail\n",
      " (this works)\n",
      "So, the equation that equals 46 is 74 - 61 + 33.\n",
      "</think>\n",
      "<\n",
      "-> Fail\n",
      " (this works)\n",
      "So, the equation that equals 16 is 75 - 53 - 7 + 1.\n",
      "</think\n",
      "-> Success\n",
      " (not 17)\n",
      "- 98 - 83 + 63 - 65 = 15 + 63\n",
      "-> Fail\n",
      " (this works)\n",
      "So, the equation that equals 67 is 46 + 45 - 24.\n",
      "</think>\n",
      "<\n"
     ]
    },
    {
     "name": "stderr",
     "output_type": "stream",
     "text": [
      "\r",
      " 91%|█████████████████████████████████████████████████████████████████████████████████████████████████████████████████████████████████████████████████████████████████████▉                 | 68/75 [10:37<01:03,  9.04s/it]"
     ]
    },
    {
     "name": "stdout",
     "output_type": "stream",
     "text": [
      "-> Fail\n",
      " (this works)\n",
      "So, the equation that equals 28 is 86 - 37 - 21.\n",
      "</think>\n",
      "<\n",
      "-> Fail\n",
      " (this works)\n",
      "So, the equation that equals 55 is 60 + 15 - 20.\n",
      "</think>\n",
      "<\n",
      "-> Fail\n",
      " (this works)\n",
      "So, the equation that equals 20 is 93 - 65 - 10 + 2.\n",
      "</\n",
      "-> Fail\n",
      " (this works)\n",
      "So, the equation that equals 73 is 20 * 4 - 7.\n",
      "</think>\n",
      "<answer>\n"
     ]
    },
    {
     "name": "stderr",
     "output_type": "stream",
     "text": [
      "\r",
      " 92%|████████████████████████████████████████████████████████████████████████████████████████████████████████████████████████████████████████████████████████████████████████▎              | 69/75 [10:47<00:56,  9.50s/it]"
     ]
    },
    {
     "name": "stdout",
     "output_type": "stream",
     "text": [
      "-> Fail\n",
      " (this works)\n",
      "So, the equation that equals 12 is 95 - 85 + 18 - 16.\n",
      "\n",
      "-> Fail\n",
      " (this works)\n",
      "So, the equation that equals 84 is 60 + 34 - 10.\n",
      "</think>\n",
      "<\n",
      "-> Success\n",
      " (not 78)\n",
      "- 81 + 40 + 80 - 43 = 121 + 8\n",
      "-> OOD (success); offending token(s): ['but', 'close', 'let', 's', 'try', 'another', 'combination']\n",
      " (not 18, but close, let's try another combination)\n",
      "- 82 - 41 + 23 = 4\n"
     ]
    },
    {
     "name": "stderr",
     "output_type": "stream",
     "text": [
      "\r",
      " 93%|██████████████████████████████████████████████████████████████████████████████████████████████████████████████████████████████████████████████████████████████████████████▊            | 70/75 [10:58<00:48,  9.74s/it]"
     ]
    },
    {
     "name": "stdout",
     "output_type": "stream",
     "text": [
      "-> Success\n",
      " (not 82)\n",
      "- 94 - 66 + 54 = 28 + 54 = 82\n",
      "-> Fail\n",
      " (this works)\n",
      "So, the equation that equals 79 is 50 - 15 - 12 + 56.\n",
      "\n",
      "-> Fail\n",
      " (this works)\n",
      "So, the equation that equals 73 is 86 - 19 + 8 - 2.\n",
      "</think\n",
      "-> Fail\n",
      " (this works)\n",
      "So, the equation that equals 97 is 90 + 58 - 51.\n",
      "</think>\n",
      "<\n"
     ]
    },
    {
     "name": "stderr",
     "output_type": "stream",
     "text": [
      "\r",
      " 95%|█████████████████████████████████████████████████████████████████████████████████████████████████████████████████████████████████████████████████████████████████████████████▏         | 71/75 [11:08<00:40, 10.03s/it]"
     ]
    },
    {
     "name": "stdout",
     "output_type": "stream",
     "text": [
      "-> Fail\n",
      " (this works)\n",
      "So, the equation that equals 71 is 82 - 18 + 7.\n",
      "</think>\n",
      "<answer\n",
      "-> Fail\n",
      " (this works)\n",
      "So, the equation that equals 17 is 97 - 75 - 5.\n",
      "</think>\n",
      "<answer\n",
      "-> Fail\n",
      " (this works)\n",
      "So, the equation that equals 80 is 99 - 50 + 31.\n",
      "</think>\n",
      "<\n",
      "-> Success\n",
      " (not 78)\n",
      "- 87 + 97 - 88 = 184 - 88 = 9\n"
     ]
    },
    {
     "name": "stderr",
     "output_type": "stream",
     "text": [
      "\r",
      " 96%|███████████████████████████████████████████████████████████████████████████████████████████████████████████████████████████████████████████████████████████████████████████████▋       | 72/75 [11:18<00:29,  9.85s/it]"
     ]
    },
    {
     "name": "stdout",
     "output_type": "stream",
     "text": [
      "-> Success\n",
      " (not 58)\n",
      "- 73 + 64 - 53 - 4 = 137 - 53\n",
      "-> Success\n",
      " (not 85)\n",
      "- 95 - 84 + 94 = 11 + 94 = 10\n",
      "-> Fail\n",
      " (this works)\n",
      "So, the equation that equals 66 is 62 + 7 - 3.\n",
      "</think>\n",
      "<answer>\n",
      "-> Fail\n",
      " (this works)\n",
      "So, the equation that equals 87 is 67 + 53 - 33.\n",
      "</think>\n",
      "<\n"
     ]
    },
    {
     "name": "stderr",
     "output_type": "stream",
     "text": [
      "\r",
      " 97%|██████████████████████████████████████████████████████████████████████████████████████████████████████████████████████████████████████████████████████████████████████████████████     | 73/75 [11:26<00:18,  9.40s/it]"
     ]
    },
    {
     "name": "stdout",
     "output_type": "stream",
     "text": [
      "-> Fail\n",
      " (this works)\n",
      "So, the equation that equals 59 is 73 - 44 + 30.\n",
      "</think>\n",
      "<\n",
      "-> Fail\n",
      " (this works)\n",
      "So, the equation that equals 17 is 49 - 26 - 6.\n",
      "</think>\n",
      "<answer\n",
      "-> Fail\n",
      " (this works)\n",
      "So, the equation that equals 34 is 24 + 15 - 5.\n",
      "</think>\n",
      "<answer\n",
      "-> Fail\n",
      " (this works)\n",
      "So, the equation that equals 30 is 58 - 53 + 49 - 24.\n",
      "\n"
     ]
    },
    {
     "name": "stderr",
     "output_type": "stream",
     "text": [
      "\r",
      " 99%|████████████████████████████████████████████████████████████████████████████████████████████████████████████████████████████████████████████████████████████████████████████████████▌  | 74/75 [11:35<00:09,  9.32s/it]"
     ]
    },
    {
     "name": "stdout",
     "output_type": "stream",
     "text": [
      "-> Fail\n",
      " (this works)\n",
      "So, the equation that equals 56 is 95 - 42 + 3.\n",
      "</think>\n",
      "<answer\n",
      "-> Fail\n",
      " (this works)\n",
      "So, the equation that equals 63 is 51 + 16 - 4.\n",
      "</think>\n",
      "<answer\n",
      "-> Fail\n",
      " (this works)\n",
      "So, the equation that equals 34 is 59 - 35 + 10.\n",
      "</think>\n",
      "<\n",
      "-> Fail\n",
      " (this works)\n",
      "So, the equation that equals 97 is 53 + 49 - 5.\n",
      "</think>\n",
      "<answer\n"
     ]
    },
    {
     "name": "stderr",
     "output_type": "stream",
     "text": [
      "100%|███████████████████████████████████████████████████████████████████████████████████████████████████████████████████████████████████████████████████████████████████████████████████████| 75/75 [11:44<00:00,  9.39s/it]"
     ]
    },
    {
     "name": "stdout",
     "output_type": "stream",
     "text": [
      "-> Fail\n",
      " (this works)\n",
      "So, the equation that equals 92 is 84 + 27 - 19.\n",
      "</think>\n",
      "<\n",
      "-> Fail\n",
      " (this works)\n",
      "So, the equation that equals 91 is 4 + 3 * 29.\n",
      "</think>\n",
      "<answer>\n",
      "-> Fail\n",
      " (this works)\n",
      "So, the equation that equals 71 is 84 - 60 + 47.\n",
      "</think>\n",
      "<\n",
      "-> Fail\n",
      " (this works)\n",
      "So, the equation that equals 77 is 94 - 41 + 24.\n",
      "</think>\n",
      "<\n",
      "MLP 1 success: 0.16333333333333333\n",
      "MLP 1 mix: 0.01\n",
      "MLP 1 fail: 0.8266666666666667\n"
     ]
    },
    {
     "name": "stderr",
     "output_type": "stream",
     "text": [
      "\n"
     ]
    }
   ],
   "source": [
    "\n",
    "# MLP (only [1]):\n",
    "\n",
    "print(\"Running MLP (only [1])\")\n",
    "hook_config = build_mlp_hook_config(actor, probe_model, [1], list(range(18, 36)), 50)\n",
    "mlp_1_success, mlp_1_mix, mlp_1_fail = run(\n",
    "  actor,\n",
    "  samples,\n",
    "  hook_config,\n",
    "  batch_size,\n",
    ")\n",
    "print(f\"MLP 1 success: {mlp_1_success}\")\n",
    "print(f\"MLP 1 mix: {mlp_1_mix}\")\n",
    "print(f\"MLP 1 fail: {mlp_1_fail}\")"
   ]
  },
  {
   "cell_type": "code",
   "execution_count": 47,
   "id": "f696fd58",
   "metadata": {},
   "outputs": [
    {
     "name": "stdout",
     "output_type": "stream",
     "text": [
      "Running MLP (both [0, 1])\n"
     ]
    },
    {
     "name": "stderr",
     "output_type": "stream",
     "text": [
      "  1%|██▍                                                                                                                                                                                     | 1/75 [00:08<11:05,  9.00s/it]"
     ]
    },
    {
     "name": "stdout",
     "output_type": "stream",
     "text": [
      "-> Success\n",
      " (not 36)\n",
      "- 79 - 60 + 17 = 19 + 17 = 36\n",
      "-> Success\n",
      " (not 28)\n",
      "- 40 * 14 - 20 = 560 - 20 = 5\n",
      "-> Success\n",
      " (not 39)\n",
      "- 84 - 83 + 72 - 34 = 1 + 72 -\n",
      "-> Success\n",
      " (not 73)\n",
      "- 78 + 45 + 50 = 123 + 50 = 1\n"
     ]
    },
    {
     "name": "stderr",
     "output_type": "stream",
     "text": [
      "\r",
      "  3%|████▉                                                                                                                                                                                   | 2/75 [00:17<10:46,  8.86s/it]"
     ]
    },
    {
     "name": "stdout",
     "output_type": "stream",
     "text": [
      "-> Fail\n",
      " (this works)\n",
      "So, the equation that equals 77 is 38 + 31 + 8.\n",
      "</think>\n",
      "<answer\n",
      "-> Success\n",
      " (not 77)\n",
      "- 80 + 54 - 51 = 134 - 51 = 8\n",
      "-> Success\n",
      " (not 83 - 67 + 60)\n",
      "- 90 - 67 + 60 = 83\n",
      "-> OOD (success); offending token(s): ['but', 'close', 'let', 's', 'try', 'another', 'combination']\n",
      " (not 48, but close, let's try another combination)\n",
      "- 91 - 36 + 7 = 55\n"
     ]
    },
    {
     "name": "stderr",
     "output_type": "stream",
     "text": [
      "\r",
      "  4%|███████▎                                                                                                                                                                                | 3/75 [00:26<10:21,  8.63s/it]"
     ]
    },
    {
     "name": "stdout",
     "output_type": "stream",
     "text": [
      "-> Fail\n",
      " (this works)\n",
      "So, the equation that equals 76 is 96 - 19 - 1.\n",
      "</think>\n",
      "<answer\n",
      "-> Success\n",
      " (not 53)\n",
      "- 96 + 69 - 26 = 165 - 26 = 1\n",
      "-> Success\n",
      " (not 58)\n",
      "- 98 - 57 + 97 = 41 + 97 = 13\n",
      "-> Fail\n",
      " (this works)\n",
      "So, the equation that equals 71 is 57 + 10 + 4.\n",
      "</think>\n",
      "<answer\n"
     ]
    },
    {
     "name": "stderr",
     "output_type": "stream",
     "text": [
      "\r",
      "  5%|█████████▊                                                                                                                                                                              | 4/75 [00:34<10:14,  8.66s/it]"
     ]
    },
    {
     "name": "stdout",
     "output_type": "stream",
     "text": [
      "-> Success\n",
      " (not 86)\n",
      "- 83 - 27 + 51 - 21 = 56 + 51\n",
      "-> Fail\n",
      " (this works)\n",
      "So, the equation that equals 13 is 85 - 61 - 11.\n",
      "</think>\n",
      "<\n",
      "-> Success\n",
      " (not 84)\n",
      "- 82 + 72 - 70 = 154 - 70 = 8\n",
      "-> Success\n",
      " (not 46)\n",
      "- 95 - 69 + 20 = 26 + 20 = 46\n"
     ]
    },
    {
     "name": "stderr",
     "output_type": "stream",
     "text": [
      "\r",
      "  7%|████████████▎                                                                                                                                                                           | 5/75 [00:45<10:54,  9.35s/it]"
     ]
    },
    {
     "name": "stdout",
     "output_type": "stream",
     "text": [
      "-> Success\n",
      " (not 28)\n",
      "- 85 - 81 + 25 - 1 = 4 + 25 - \n",
      "-> Success\n",
      " (not 44 - 33 + 31)\n",
      "- 46 - 33 + 31 = 44\n",
      "-> Success\n",
      " (not 86)\n",
      "- 99 + 67 - 56 - 2 = 166 - 56\n",
      "-> Fail\n",
      " (this works)\n",
      "So, the equation that equals 21 is 49 - 34 + 6.\n",
      "</think>\n",
      "<answer\n"
     ]
    },
    {
     "name": "stderr",
     "output_type": "stream",
     "text": [
      "\r",
      "  8%|██████████████▋                                                                                                                                                                         | 6/75 [00:54<10:35,  9.21s/it]"
     ]
    },
    {
     "name": "stdout",
     "output_type": "stream",
     "text": [
      "-> Fail\n",
      " (this works)\n",
      "So, the equation that equals 97 is 62 + 3 + 32.\n",
      "</think>\n",
      "<answer\n",
      "-> Success\n",
      " (not 18)\n",
      "- 61 - 27 + 16 = 34 + 16 = 50\n",
      "-> Success\n",
      " (not 86)\n",
      "- 91 + 61 + 66 = 152 + 66 = 2\n",
      "-> Fail\n",
      " (this works)\n",
      "So, the equation that equals 78 is 52 + 51 - 25.\n",
      "</think>\n",
      "<\n"
     ]
    },
    {
     "name": "stderr",
     "output_type": "stream",
     "text": [
      "\r",
      "  9%|█████████████████▏                                                                                                                                                                      | 7/75 [01:03<10:20,  9.13s/it]"
     ]
    },
    {
     "name": "stdout",
     "output_type": "stream",
     "text": [
      "-> Fail\n",
      " (this works)\n",
      "So, the equation that equals 62 is 55 + 46 - 39.\n",
      "</think>\n",
      "<\n",
      "-> Fail\n",
      " (this works)\n",
      "So, the equation that equals 32 is 98 - 82 + 16.\n",
      "</think>\n",
      "<\n",
      "-> Fail\n",
      " (this works)\n",
      "So, the equation that equals 94 is 55 + 11 + 28.\n",
      "</think>\n",
      "<\n",
      "-> Fail\n",
      " (this works)\n",
      "So, the equation that equals 93 is 60 - 18 + 51.\n",
      "</think>\n",
      "<\n"
     ]
    },
    {
     "name": "stderr",
     "output_type": "stream",
     "text": [
      "\r",
      " 11%|███████████████████▋                                                                                                                                                                    | 8/75 [01:12<10:09,  9.10s/it]"
     ]
    },
    {
     "name": "stdout",
     "output_type": "stream",
     "text": [
      "-> Success\n",
      " (not 85)\n",
      "- 78 + 64 - 57 = 142 - 57 = 8\n",
      "-> Fail\n",
      " (this works)\n",
      "So, the equation that equals 100 is 80 + 53 - 33.\n",
      "</think>\n",
      "\n",
      "-> Fail\n",
      " (this works)\n",
      "So, the equation that equals 12 is 22 - 27 + 23 - 6.\n",
      "</\n",
      "-> Success\n",
      " (not 88)\n",
      "- 73 + 53 + 38 = 126 + 38 = 1\n"
     ]
    },
    {
     "name": "stderr",
     "output_type": "stream",
     "text": [
      "\r",
      " 12%|██████████████████████                                                                                                                                                                  | 9/75 [01:20<09:50,  8.95s/it]"
     ]
    },
    {
     "name": "stdout",
     "output_type": "stream",
     "text": [
      "-> Success\n",
      " (not 36)\n",
      "- 75 - 67 + 28 = 8 + 28 = 36 (\n",
      "-> Success\n",
      " (not 22)\n",
      "- 84 - 33 + 29 = 51 + 29 = 80\n",
      "-> Success\n",
      " (not 36)\n",
      "- 72 + 11 + 47 = 83 + 47 = 13\n",
      "-> Fail\n",
      " (this works)\n",
      "So, the equation that equals 71 is 99 - 78 + 50.\n",
      "</think>\n",
      "<\n"
     ]
    },
    {
     "name": "stderr",
     "output_type": "stream",
     "text": [
      "\r",
      " 13%|████████████████████████▍                                                                                                                                                              | 10/75 [01:31<10:20,  9.55s/it]"
     ]
    },
    {
     "name": "stdout",
     "output_type": "stream",
     "text": [
      "-> Fail\n",
      " (this works)\n",
      "So, the equation that equals 34 is 94 - 75 + 65 - 50.\n",
      "\n",
      "-> Success\n",
      " (not 69 - 66 = 13, not 69)\n",
      "- 78 - 66 + 5\n",
      "-> Fail\n",
      " (this works)\n",
      "So, the equation that equals 31 is 20 + 27 + 13 - 29.\n",
      "\n",
      "-> Fail\n",
      " (this works)\n",
      "So, the equation that equals 19 is 75 - 42 - 19 + 5.\n",
      "</\n"
     ]
    },
    {
     "name": "stderr",
     "output_type": "stream",
     "text": [
      "\r",
      " 15%|██████████████████████████▊                                                                                                                                                            | 11/75 [01:42<10:38,  9.97s/it]"
     ]
    },
    {
     "name": "stdout",
     "output_type": "stream",
     "text": [
      "-> Success\n",
      " (not 97)\n",
      "- 70 / 1 + 27 = 70 + 27 = 97 (\n",
      "-> Success\n",
      " (not 93)\n",
      "- 86 + 49 + 42 = 135 + 42 = 1\n",
      "-> Fail\n",
      " (this works)\n",
      "So, the equation that equals 43 is 10 * 4 + 3.\n",
      "</think>\n",
      "<answer>\n",
      "-> Fail\n",
      " (this works)\n",
      "So, the equation that equals 100 is 84 + 57 - 31 - 10\n"
     ]
    },
    {
     "name": "stderr",
     "output_type": "stream",
     "text": [
      "\r",
      " 16%|█████████████████████████████▎                                                                                                                                                         | 12/75 [01:51<10:03,  9.58s/it]"
     ]
    },
    {
     "name": "stdout",
     "output_type": "stream",
     "text": [
      "-> Success\n",
      " (not 51)\n",
      "- 84 - 70 + 37 = 14 + 37 = 51\n",
      "-> Fail\n",
      " (this works)\n",
      "So, the equation that equals 20 is 18 + 2 * 1.\n",
      "</think>\n",
      "<answer>\n",
      "-> Fail\n",
      " (this works)\n",
      "So, the equation that equals 100 is 93 + 49 - 42.\n",
      "</think>\n",
      "\n",
      "-> Fail\n",
      " (this works)\n",
      "So, the equation that equals 89 is 89 - 29 - 29 + 29.\n",
      "\n"
     ]
    },
    {
     "name": "stderr",
     "output_type": "stream",
     "text": [
      "\r",
      " 17%|███████████████████████████████▋                                                                                                                                                       | 13/75 [02:00<09:40,  9.36s/it]"
     ]
    },
    {
     "name": "stdout",
     "output_type": "stream",
     "text": [
      "-> Success\n",
      " (not 68 - 73 + 66 = -66 + 66 = 0)\n",
      "- 73 -\n",
      "-> Success\n",
      " (not 21)\n",
      "- 32 + 13 - 24 = 45 - 24 = 21\n",
      "-> Fail\n",
      " (this works)\n",
      "So, the equation that equals 81 is 56 + 17 + 8.\n",
      "</think>\n",
      "<answer\n",
      "-> Fail\n",
      " (this works)\n",
      "So, the equation that equals 76 is 77 - 11 + 10.\n",
      "</think>\n",
      "<\n"
     ]
    },
    {
     "name": "stderr",
     "output_type": "stream",
     "text": [
      "\r",
      " 19%|██████████████████████████████████▏                                                                                                                                                    | 14/75 [02:09<09:21,  9.20s/it]"
     ]
    },
    {
     "name": "stdout",
     "output_type": "stream",
     "text": [
      "-> Fail\n",
      " (this works)\n",
      "So, the equation that equals 78 is 49 + 26 + 3.\n",
      "</think>\n",
      "<answer\n",
      "-> Fail\n",
      " (this works)\n",
      "So, the equation that equals 90 is 79 - 45 + 56.\n",
      "</think>\n",
      "<\n",
      "-> Fail\n",
      " (this works)\n",
      "So, the equation that equals 86 is 85 + 26 - 25.\n",
      "</think>\n",
      "<\n",
      "-> Fail\n",
      " (this works)\n",
      "So, the equation that equals 77 is 58 + 18 + 1.\n",
      "</think>\n",
      "<answer\n"
     ]
    },
    {
     "name": "stderr",
     "output_type": "stream",
     "text": [
      "\r",
      " 20%|████████████████████████████████████▌                                                                                                                                                  | 15/75 [02:18<09:10,  9.17s/it]"
     ]
    },
    {
     "name": "stdout",
     "output_type": "stream",
     "text": [
      "-> Fail\n",
      " (this works)\n",
      "So, the equation that equals 51 is 48 + 31 - 28.\n",
      "</think>\n",
      "<\n",
      "-> Success\n",
      " (not 72)\n",
      "- 51 + 12 * 9 = 51 + 108 = 15\n",
      "-> Fail\n",
      " (this works)\n",
      "So, the equation that equals 91 is 68 + 41 - 18.\n",
      "</think>\n",
      "<\n",
      "-> Fail\n",
      " (this works)\n",
      "So, the equation that equals 33 is 98 - 92 + 27.\n",
      "</think>\n",
      "<\n"
     ]
    },
    {
     "name": "stderr",
     "output_type": "stream",
     "text": [
      "\r",
      " 21%|███████████████████████████████████████                                                                                                                                                | 16/75 [02:27<08:57,  9.10s/it]"
     ]
    },
    {
     "name": "stdout",
     "output_type": "stream",
     "text": [
      "-> Success\n",
      " (not 56)\n",
      "- 46 + 34 - 44 = 80 - 44 = 36\n",
      "-> Success\n",
      " (not 43 - 90 + 35)\n",
      "- 98 - 90 + 35 = 43\n",
      "-> Fail\n",
      " (this works)\n",
      "So, the equation that equals 11 is 56 - 39 - 16 + 10.\n",
      "\n",
      "-> Fail\n",
      " (this works)\n",
      "So, the equation that equals 55 is 81 + 18 - 44.\n",
      "</think>\n",
      "<\n"
     ]
    },
    {
     "name": "stderr",
     "output_type": "stream",
     "text": [
      "\r",
      " 23%|█████████████████████████████████████████▍                                                                                                                                             | 17/75 [02:37<09:00,  9.31s/it]"
     ]
    },
    {
     "name": "stdout",
     "output_type": "stream",
     "text": [
      "-> Fail\n",
      " (this works)\n",
      "So, the equation that equals 74 is 75 + 15 - 16.\n",
      "</think>\n",
      "<\n",
      "-> Fail\n",
      " (this works)\n",
      "So, the equation that equals 45 is 80 - 73 + 38.\n",
      "</think>\n",
      "<\n",
      "-> Fail\n",
      " (this works)\n",
      "So, the equation that equals 50 is 94 - 72 + 39 - 11.\n",
      "\n",
      "-> Success\n",
      " (not 76)\n",
      "- 99 + 39 + 62 = 138 + 62 = 2\n"
     ]
    },
    {
     "name": "stderr",
     "output_type": "stream",
     "text": [
      "\r",
      " 24%|███████████████████████████████████████████▉                                                                                                                                           | 18/75 [02:46<08:59,  9.47s/it]"
     ]
    },
    {
     "name": "stdout",
     "output_type": "stream",
     "text": [
      "-> Fail\n",
      " (this works)\n",
      "So, the equation that equals 75 is 74 + 25 - 24.\n",
      "</think>\n",
      "<\n",
      "-> Fail\n",
      " (this works)\n",
      "So, the equation that equals 59 is 75 - 42 + 26.\n",
      "</think>\n",
      "<\n",
      "-> Fail\n",
      " (this works)\n",
      "So, the equation that equals 26 is 90 - 73 + 9.\n",
      "</think>\n",
      "<answer\n",
      "-> Fail\n",
      " (this works)\n",
      "So, the equation that equals 45 is 20 + 18 + 7.\n",
      "</think>\n",
      "<answer\n"
     ]
    },
    {
     "name": "stderr",
     "output_type": "stream",
     "text": [
      "\r",
      " 25%|██████████████████████████████████████████████▎                                                                                                                                        | 19/75 [02:57<09:16,  9.94s/it]"
     ]
    },
    {
     "name": "stdout",
     "output_type": "stream",
     "text": [
      "-> Fail\n",
      " (not 04, try again)\n",
      "- 59 - 15 + 42 = 86 (this works)\n",
      "So\n",
      "-> Success\n",
      " (not 96)\n",
      "- 87 - 74 + 83 = 13 + 83 = 96\n",
      "-> Fail\n",
      " (this works)\n",
      "So, the equation that equals 87 is 80 + 32 - 25.\n",
      "</think>\n",
      "<\n",
      "-> Success\n",
      " (not 100)\n",
      "- 85 + 77 - 38 - 24 = 162 - \n"
     ]
    },
    {
     "name": "stderr",
     "output_type": "stream",
     "text": [
      "\r",
      " 27%|████████████████████████████████████████████████▊                                                                                                                                      | 20/75 [03:06<08:49,  9.63s/it]"
     ]
    },
    {
     "name": "stdout",
     "output_type": "stream",
     "text": [
      "-> Success\n",
      " (not 92)\n",
      "- 92 - 82 + 62 - 20 = 10 + 62\n",
      "-> Success\n",
      " (not 43)\n",
      "- 93 - 86 + 36 = 7 + 36 = 43 (\n",
      "-> Success\n",
      " (not 75)\n",
      "- 72 + 60 + 57 = 132 + 57 = 1\n",
      "-> Fail\n",
      " (this works)\n",
      "So, the equation that equals 100 is 57 + 52 - 9.\n",
      "</think>\n",
      "<\n"
     ]
    },
    {
     "name": "stderr",
     "output_type": "stream",
     "text": [
      "\r",
      " 28%|███████████████████████████████████████████████████▏                                                                                                                                   | 21/75 [03:15<08:30,  9.45s/it]"
     ]
    },
    {
     "name": "stdout",
     "output_type": "stream",
     "text": [
      "-> Success\n",
      " (not 74)\n",
      "- 69 + 63 - 58 = 132 - 58 = 7\n",
      "-> OOD (mix); offending token(s): ['correct', 'combination']\n",
      " (not 35 (correct combination))\n",
      "So, the equation that equals 35 is 42 - 47 + 40\n",
      "-> Success\n",
      " (not 84 - 64 = 23, not 87 - 61 = 26, not 8\n",
      "-> Fail\n",
      " (this works)\n",
      "So, the equation that equals 25 is 75 - 32 - 25 + 7.\n",
      "</\n"
     ]
    },
    {
     "name": "stderr",
     "output_type": "stream",
     "text": [
      "\r",
      " 29%|█████████████████████████████████████████████████████▋                                                                                                                                 | 22/75 [03:26<08:43,  9.89s/it]"
     ]
    },
    {
     "name": "stdout",
     "output_type": "stream",
     "text": [
      "-> Fail\n",
      " (this works)\n",
      "So, the equation that equals 79 is 94 + 68 - 60 - 23.\n",
      "\n",
      "-> Fail\n",
      " (this works)\n",
      "So, the equation that equals 95 is 69 + 48 - 22.\n",
      "</think>\n",
      "<\n",
      "-> Success\n",
      " (not 54 - 40 + 20)\n",
      "- 74 - 40 + 20 = 54\n",
      "-> Success\n",
      " (not 75)\n",
      "- 83 + 42 - 34 = 125 - 34 = 9\n"
     ]
    },
    {
     "name": "stderr",
     "output_type": "stream",
     "text": [
      "\r",
      " 31%|████████████████████████████████████████████████████████                                                                                                                               | 23/75 [03:37<08:54, 10.28s/it]"
     ]
    },
    {
     "name": "stdout",
     "output_type": "stream",
     "text": [
      "-> Success\n",
      " (not 49)\n",
      "- 31 * 16 / 2 = 496 / 2 = 248\n",
      "-> Success\n",
      " (not 52)\n",
      "- 30 + 14 + 10 + 2 = 44 + 10 +\n",
      "-> Success\n",
      " (not 58)\n",
      "- 73 + 48 - 34 - 1 = 121 - 34\n",
      "-> Fail\n",
      " (this works)\n",
      "So, the equation that equals 85 is 65 + 62 - 42.\n",
      "</think>\n",
      "<\n"
     ]
    },
    {
     "name": "stderr",
     "output_type": "stream",
     "text": [
      "\r",
      " 32%|██████████████████████████████████████████████████████████▌                                                                                                                            | 24/75 [03:47<08:31, 10.04s/it]"
     ]
    },
    {
     "name": "stdout",
     "output_type": "stream",
     "text": [
      "-> Fail\n",
      " (this works)\n",
      "So, the equation that equals 96 is 61 + 15 + 20.\n",
      "</think>\n",
      "<\n",
      "-> Success\n",
      " (not 57)\n",
      "- 59 - 25 + 23 = 34 + 23 = 57\n",
      "-> Fail\n",
      " (this works)\n",
      "So, the equation that equals 75 is 37 + 29 + 9.\n",
      "</think>\n",
      "<answer\n",
      "-> OOD (success); offending token(s): ['correct', 'combination']\n",
      " (not correct combination)\n",
      "- 70 - 58 + 23 - 8 = 12 + 23 - \n"
     ]
    },
    {
     "name": "stderr",
     "output_type": "stream",
     "text": [
      "\r",
      " 33%|█████████████████████████████████████████████████████████████                                                                                                                          | 25/75 [03:56<08:06,  9.73s/it]"
     ]
    },
    {
     "name": "stdout",
     "output_type": "stream",
     "text": [
      "-> Success\n",
      " (not 96)\n",
      "- 82 + 66 - 52 = 148 - 52 = 9\n",
      "-> Fail\n",
      " (this works)\n",
      "So, the equation that equals 33 is 81 - 54 + 6.\n",
      "</think>\n",
      "<answer\n",
      "-> Fail\n",
      " (this works)\n",
      "So, the equation that equals 72 is 97 - 27 + 2.\n",
      "</think>\n",
      "<answer\n",
      "-> Success\n",
      " (not 54)\n",
      "- 49 + 42 - 37 = 91 - 37 = 54\n"
     ]
    },
    {
     "name": "stderr",
     "output_type": "stream",
     "text": [
      "\r",
      " 35%|███████████████████████████████████████████████████████████████▍                                                                                                                       | 26/75 [04:03<07:21,  9.00s/it]"
     ]
    },
    {
     "name": "stdout",
     "output_type": "stream",
     "text": [
      "-> Fail\n",
      " (this works)\n",
      "So, the equation that equals 89 is 74 - 54 + 69.\n",
      "</think>\n",
      "<\n",
      "-> Success\n",
      " (not 62 - 60 = 6)\n",
      "- 84 - 60 + 38 = 24 +\n",
      "-> Success\n",
      " (not 81)\n",
      "- 81 - 55 + 13 = 26 + 13 = 39\n",
      "-> Success\n",
      " (not 92 - 25 = 67)\n",
      "- 83 - 67 + 58 = 16\n"
     ]
    },
    {
     "name": "stderr",
     "output_type": "stream",
     "text": [
      "\r",
      " 36%|█████████████████████████████████████████████████████████████████▉                                                                                                                     | 27/75 [04:12<07:10,  8.98s/it]"
     ]
    },
    {
     "name": "stdout",
     "output_type": "stream",
     "text": [
      "-> Success\n",
      " (not 52)\n",
      "- 39 + 35 - 22 = 74 - 22 = 52\n",
      "-> Fail\n",
      " (this works)\n",
      "So, the equation that equals 48 is 51 - 9 + 6.\n",
      "</think>\n",
      "<answer>\n",
      "-> Fail\n",
      " (this works)\n",
      "So, the equation that equals 40 is 50 - 26 + 16.\n",
      "</think>\n",
      "<\n",
      "-> Success\n",
      " (not 80)\n",
      "- 81 - 77 + 38 = 4 + 38 = 42 (\n"
     ]
    },
    {
     "name": "stderr",
     "output_type": "stream",
     "text": [
      "\r",
      " 37%|████████████████████████████████████████████████████████████████████▎                                                                                                                  | 28/75 [04:20<06:52,  8.78s/it]"
     ]
    },
    {
     "name": "stdout",
     "output_type": "stream",
     "text": [
      "-> Fail\n",
      " (this works)\n",
      "So, the equation that equals 47 is 71 - 41 + 17.\n",
      "</think>\n",
      "<\n",
      "-> Success\n",
      " (not 60)\n",
      "- 89 - 36 - 16 + 23 = 53 - 16\n",
      "-> Success\n",
      " (not 27)\n",
      "- 96 - 83 + 14 = 13 + 14 = 27\n",
      "-> Success\n",
      " (not 32)\n",
      "- 58 - 25 + 1 = 33 + 1 = 34 (not\n"
     ]
    },
    {
     "name": "stderr",
     "output_type": "stream",
     "text": [
      "\r",
      " 39%|██████████████████████████████████████████████████████████████████████▊                                                                                                                | 29/75 [04:29<06:45,  8.81s/it]"
     ]
    },
    {
     "name": "stdout",
     "output_type": "stream",
     "text": [
      "-> Success\n",
      " (not 82)\n",
      "- 78 + 60 + 56 = 138 + 56 = 1\n",
      "-> Fail\n",
      " (this works)\n",
      "So, the equation that equals 89 is 82 + 43 - 36.\n",
      "</think>\n",
      "<\n",
      "-> Fail\n",
      " (this works)\n",
      "So, the equation that equals 13 is 83 - 71 + 1.\n",
      "</think>\n",
      "<answer\n",
      "-> Fail\n",
      " (this works)\n",
      "So, the equation that equals 35 is 33 + 12 - 10.\n",
      "</think>\n",
      "<\n"
     ]
    },
    {
     "name": "stderr",
     "output_type": "stream",
     "text": [
      "\r",
      " 40%|█████████████████████████████████████████████████████████████████████████▏                                                                                                             | 30/75 [04:38<06:33,  8.76s/it]"
     ]
    },
    {
     "name": "stdout",
     "output_type": "stream",
     "text": [
      "-> Success\n",
      " (not 67)\n",
      "- 72 - 56 + 51 = 16 + 51 = 67\n",
      "-> Fail\n",
      " (this works)\n",
      "So, the equation that equals 22 is 64 - 38 - 7 + 3.\n",
      "</think\n",
      "-> Fail\n",
      " (this works)\n",
      "So, the equation that equals 58 is 39 + 16 + 3.\n",
      "</think>\n",
      "<answer\n",
      "-> Success\n",
      " (not 45 - 67 + 26)\n",
      "- 86 - 67 + 26 = 19\n"
     ]
    },
    {
     "name": "stderr",
     "output_type": "stream",
     "text": [
      "\r",
      " 41%|███████████████████████████████████████████████████████████████████████████▋                                                                                                           | 31/75 [04:49<06:56,  9.47s/it]"
     ]
    },
    {
     "name": "stdout",
     "output_type": "stream",
     "text": [
      "-> Fail\n",
      " (this works)\n",
      "So, the equation that equals 94 is 60 + 56 - 43 + 21.\n",
      "\n",
      "-> OOD (success); offending token(s): ['correct', 'order']\n",
      " (not correct order)\n",
      "- 96 + 76 - 54 + 37 = 172 - 54\n",
      "-> Fail\n",
      " (this works)\n",
      "So, the equation that equals 41 is 52 - 25 + 14.\n",
      "</think>\n",
      "<\n",
      "-> Success\n",
      " (not 91)\n",
      "- 99 - 61 + 53 = 38 + 53 = 91\n"
     ]
    },
    {
     "name": "stderr",
     "output_type": "stream",
     "text": [
      "\r",
      " 43%|██████████████████████████████████████████████████████████████████████████████                                                                                                         | 32/75 [04:59<06:50,  9.55s/it]"
     ]
    },
    {
     "name": "stdout",
     "output_type": "stream",
     "text": [
      "-> Fail\n",
      " (this works)\n",
      "So, the equation that equals 96 is 80 + 61 - 45.\n",
      "</think>\n",
      "<\n",
      "-> Fail\n",
      " (this works)\n",
      "So, the equation that equals 80 is 60 + 37 - 18 + 1.\n",
      "</\n",
      "-> Fail\n",
      " (this works)\n",
      "So, the equation that equals 41 is 84 - 79 + 51 - 15.\n",
      "\n",
      "-> Success\n",
      " (not 55)\n",
      "- (34 - 3) * 7 = (31) * 7 = 217\n"
     ]
    },
    {
     "name": "stderr",
     "output_type": "stream",
     "text": [
      "\r",
      " 44%|████████████████████████████████████████████████████████████████████████████████▌                                                                                                      | 33/75 [05:08<06:33,  9.38s/it]"
     ]
    },
    {
     "name": "stdout",
     "output_type": "stream",
     "text": [
      "-> Fail\n",
      " (this works)\n",
      "So, the equation that equals 65 is 92 + 26 - 53.\n",
      "</think>\n",
      "<\n",
      "-> Success\n",
      " (not 80)\n",
      "- 64 + 57 - 87 = 121 - 87 = 3\n",
      "-> Fail\n",
      " (this works)\n",
      "So, the equation that equals 36 is 57 - 25 + 4.\n",
      "</think>\n",
      "<answer\n",
      "-> Success\n",
      " (not 80)\n",
      "- 67 + 40 + 27 = 107 + 27 = 1\n"
     ]
    },
    {
     "name": "stderr",
     "output_type": "stream",
     "text": [
      "\r",
      " 45%|██████████████████████████████████████████████████████████████████████████████████▉                                                                                                    | 34/75 [05:18<06:36,  9.67s/it]"
     ]
    },
    {
     "name": "stdout",
     "output_type": "stream",
     "text": [
      "-> Fail\n",
      " (this works)\n",
      "So, the equation that equals 73 is 37 + 39 - 3.\n",
      "</think>\n",
      "<answer\n",
      "-> Fail\n",
      " (this works)\n",
      "So, the equation that equals 80 is 61 + 29 - 10.\n",
      "</think>\n",
      "<\n",
      "-> OOD (mix); offending token(s): ['correct', 'combination']\n",
      " (not 66)\n",
      "So, the correct combination is 96 * 55 / 80 = 66.\n",
      "</think\n",
      "-> Fail\n",
      " (this works)\n",
      "So, the equation that equals 97 is 78 + 76 - 57.\n",
      "</think>\n",
      "<\n"
     ]
    },
    {
     "name": "stderr",
     "output_type": "stream",
     "text": [
      "\r",
      " 47%|█████████████████████████████████████████████████████████████████████████████████████▍                                                                                                 | 35/75 [05:27<06:16,  9.42s/it]"
     ]
    },
    {
     "name": "stdout",
     "output_type": "stream",
     "text": [
      "-> Success\n",
      " (not 35)\n",
      "- 90 - 41 + 96 = 49 + 96 = 14\n",
      "-> Fail\n",
      " (this works)\n",
      "So, the equation that equals 20 is 67 - 49 + 2.\n",
      "</think>\n",
      "<answer\n",
      "-> Fail\n",
      " (this works)\n",
      "So, the equation that equals 31 is 54 - 69 + 26 + 20.\n",
      "\n",
      "-> Fail\n",
      " (this works)\n",
      "So, the equation that equals 59 is 87 - 34 + 6.\n",
      "</think>\n",
      "<answer\n"
     ]
    },
    {
     "name": "stderr",
     "output_type": "stream",
     "text": [
      "\r",
      " 48%|███████████████████████████████████████████████████████████████████████████████████████▊                                                                                               | 36/75 [05:35<05:50,  8.98s/it]"
     ]
    },
    {
     "name": "stdout",
     "output_type": "stream",
     "text": [
      "-> Fail\n",
      " (this works)\n",
      "So, the equation that equals 25 is 93 - 78 + 10.\n",
      "</think>\n",
      "<\n",
      "-> Success\n",
      " (not 38 - 16 = 22)\n",
      "- 99 - 45 + 16 = 54\n",
      "-> Fail\n",
      " (this works)\n",
      "So, the equation that equals 20 is 57 - 39 + 2.\n",
      "</think>\n",
      "<answer\n",
      "-> Mix\n",
      " (not 28)\n",
      "- 69 - 49 + 8 = 20 + 8 = 28 (equals\n"
     ]
    },
    {
     "name": "stderr",
     "output_type": "stream",
     "text": [
      "\r",
      " 49%|██████████████████████████████████████████████████████████████████████████████████████████▎                                                                                            | 37/75 [05:45<05:58,  9.43s/it]"
     ]
    },
    {
     "name": "stdout",
     "output_type": "stream",
     "text": [
      "-> Success\n",
      " (not 93 - 57 = 36)\n",
      "- 99 - 57 + 51 = 42\n",
      "-> Fail\n",
      " (this works)\n",
      "So, the equation that equals 82 is 99 - 60 + 43.\n",
      "</think>\n",
      "<\n",
      "-> Fail\n",
      " (this works)\n",
      "So, the equation that equals 91 is 51 + 30 + 13 - 3.\n",
      "</\n",
      "-> Fail\n",
      " (this works)\n",
      "So, the equation that equals 43 is 92 - 16 - 43 + 10.\n",
      "\n"
     ]
    },
    {
     "name": "stderr",
     "output_type": "stream",
     "text": [
      "\r",
      " 51%|████████████████████████████████████████████████████████████████████████████████████████████▋                                                                                          | 38/75 [05:55<05:49,  9.43s/it]"
     ]
    },
    {
     "name": "stdout",
     "output_type": "stream",
     "text": [
      "-> Fail\n",
      " (this works)\n",
      "So, the equation that equals 30 is 94 - 46 - 36 + 18.\n",
      "\n",
      "-> Fail\n",
      " (this works)\n",
      "So, the equation that equals 50 is 60 - 22 + 12 + 12.\n",
      "\n",
      "-> Fail\n",
      " (this works)\n",
      "So, the equation that equals 97 is 64 + 62 - 29.\n",
      "</think>\n",
      "<\n",
      "-> Success\n",
      " (not 0)\n",
      "- 91 + 85 - 91 - 4 = 176 - 91 -\n"
     ]
    },
    {
     "name": "stderr",
     "output_type": "stream",
     "text": [
      "\r",
      " 52%|███████████████████████████████████████████████████████████████████████████████████████████████▏                                                                                       | 39/75 [06:05<05:43,  9.53s/it]"
     ]
    },
    {
     "name": "stdout",
     "output_type": "stream",
     "text": [
      "-> Fail\n",
      " (this works)\n",
      "So, the equation that equals 25 is 61 - 45 + 9.\n",
      "</think>\n",
      "<answer\n",
      "-> Fail\n",
      " (this works)\n",
      "So, the equation that equals 69 is 71 - 13 + 11.\n",
      "</think>\n",
      "<\n",
      "-> Fail\n",
      " (this works)\n",
      "So, the equation that equals 83 is 69 + 32 - 18.\n",
      "</think>\n",
      "<\n",
      "-> Success\n",
      " (not 23)\n",
      "- 70 + 59 - 34 - 22 = 129 - 3\n"
     ]
    },
    {
     "name": "stderr",
     "output_type": "stream",
     "text": [
      "\r",
      " 53%|█████████████████████████████████████████████████████████████████████████████████████████████████▌                                                                                     | 40/75 [06:13<05:21,  9.19s/it]"
     ]
    },
    {
     "name": "stdout",
     "output_type": "stream",
     "text": [
      "-> Fail\n",
      " (this works)\n",
      "So, the equation that equals 28 is 83 - 82 + 68 - 41.\n",
      "\n",
      "-> Fail\n",
      " (this works)\n",
      "So, the equation that equals 37 is 88 - 82 + 80 - 49.\n",
      "\n",
      "-> Fail\n",
      " (this works)\n",
      "So, the equation that equals 74 is 56 + 17 + 1.\n",
      "</think>\n",
      "<answer\n",
      "-> Success\n",
      " (not 95 - 17 = 78)\n",
      "- 56 + 17 + 56 = 12\n"
     ]
    },
    {
     "name": "stderr",
     "output_type": "stream",
     "text": [
      "\r",
      " 55%|████████████████████████████████████████████████████████████████████████████████████████████████████                                                                                   | 41/75 [06:23<05:19,  9.39s/it]"
     ]
    },
    {
     "name": "stdout",
     "output_type": "stream",
     "text": [
      "-> Fail\n",
      " (this works)\n",
      "So, the equation that equals 98 is 92 + 1 + 5.\n",
      "</think>\n",
      "<answer>\n",
      "-> Fail\n",
      " (this works)\n",
      "So, the equation that equals 42 is 99 - 75 + 18.\n",
      "</think>\n",
      "<\n",
      "-> Success\n",
      " (not 76)\n",
      "- 46 * 1 - 29 = 46 - 29 = 17 (\n",
      "-> OOD (mix); offending token(s): ['correct', 'combination', 'which']\n",
      " (not 38)\n",
      "So, the correct combination is 21 + 13 + 4, which equals 38.\n",
      "</\n"
     ]
    },
    {
     "name": "stderr",
     "output_type": "stream",
     "text": [
      "\r",
      " 56%|██████████████████████████████████████████████████████████████████████████████████████████████████████▍                                                                                | 42/75 [06:33<05:14,  9.54s/it]"
     ]
    },
    {
     "name": "stdout",
     "output_type": "stream",
     "text": [
      "-> Success\n",
      " (not 46)\n",
      "- 71 + 65 - 26 - 14 = 136 - 2\n",
      "-> Fail\n",
      " (this works)\n",
      "So, the equation that equals 89 is 96 - 35 - 28.\n",
      "</think>\n",
      "<\n",
      "-> Success\n",
      " (not 87)\n",
      "- 71 + 49 + 33 = 110 + 33 = 1\n",
      "-> OOD (success); offending token(s): ['this', 'actually']\n",
      " (not 25 - this is actually 35)\n",
      "- 59 - 47 + 13 = 12 +\n"
     ]
    },
    {
     "name": "stderr",
     "output_type": "stream",
     "text": [
      "\r",
      " 57%|████████████████████████████████████████████████████████████████████████████████████████████████████████▉                                                                              | 43/75 [06:42<04:59,  9.37s/it]"
     ]
    },
    {
     "name": "stdout",
     "output_type": "stream",
     "text": [
      "-> Fail\n",
      " (this works)\n",
      "So, the equation that equals 49 is 91 - 47 + 5.\n",
      "</think>\n",
      "<answer\n",
      "-> Mix\n",
      " (not 64)\n",
      "So, the equation that equals 85 is 53 + 53 - 21.\n",
      "</think\n",
      "-> Success\n",
      " (not 89)\n",
      "- 78 + 67 - 56 = 145 - 56 = 8\n",
      "-> Success\n",
      " (not 76)\n",
      "- 68 + 54 - 46 = 122 - 46 = 7\n"
     ]
    },
    {
     "name": "stderr",
     "output_type": "stream",
     "text": [
      "\r",
      " 59%|███████████████████████████████████████████████████████████████████████████████████████████████████████████▎                                                                           | 44/75 [06:51<04:45,  9.22s/it]"
     ]
    },
    {
     "name": "stdout",
     "output_type": "stream",
     "text": [
      "-> Fail\n",
      " (this works)\n",
      "So, the equation that equals 77 is 76 + 3 - 2.\n",
      "</think>\n",
      "<answer>\n",
      "-> Success\n",
      " (not 63 - 49 = 12 - 32 = -20)\n",
      "- 80 - 49\n",
      "-> Fail\n",
      " (this works)\n",
      "So, the equation that equals 14 is (20 / 2) + 4.\n",
      "</think>\n",
      "<answer\n",
      "-> Fail\n",
      " (this works)\n",
      "So, the equation that equals 94 is 87 + 22 - 15.\n",
      "</think>\n",
      "<\n"
     ]
    },
    {
     "name": "stderr",
     "output_type": "stream",
     "text": [
      "\r",
      " 60%|█████████████████████████████████████████████████████████████████████████████████████████████████████████████▊                                                                         | 45/75 [06:59<04:31,  9.04s/it]"
     ]
    },
    {
     "name": "stdout",
     "output_type": "stream",
     "text": [
      "-> Fail\n",
      " (this works)\n",
      "So, the equation that equals 79 is 64 + 43 - 28.\n",
      "</think>\n",
      "<\n",
      "-> Success\n",
      " (not 27)\n",
      "- 66 - 59 + 20 = 7 + 20 = 27 (\n",
      "-> Success\n",
      " (not 38)\n",
      "- 49 - 41 + 30 = 8 + 30 = 38 (\n",
      "-> Success\n",
      " (not 90)\n",
      "- 98 - 86 + 78 = 12 + 78 = 90\n"
     ]
    },
    {
     "name": "stderr",
     "output_type": "stream",
     "text": [
      "\r",
      " 61%|████████████████████████████████████████████████████████████████████████████████████████████████████████████████▏                                                                      | 46/75 [07:10<04:37,  9.57s/it]"
     ]
    },
    {
     "name": "stdout",
     "output_type": "stream",
     "text": [
      "-> Fail\n",
      " (this works)\n",
      "So, the equation that equals 53 is 55 + 35 - 25 - 12.\n",
      "\n",
      "-> Fail\n",
      " (this works)\n",
      "So, the equation that equals 100 is 97 + 35 - 32.\n",
      "</think>\n",
      "\n",
      "-> Fail\n",
      " (this works)\n",
      "So, the equation that equals 82 is 86 - 23 + 19.\n",
      "</think>\n",
      "<\n",
      "-> Fail\n",
      " (this works)\n",
      "So, the equation that equals 88 is 78 + 52 - 63 + 21.\n",
      "\n"
     ]
    },
    {
     "name": "stderr",
     "output_type": "stream",
     "text": [
      "\r",
      " 63%|██████████████████████████████████████████████████████████████████████████████████████████████████████████████████▋                                                                    | 47/75 [07:19<04:23,  9.40s/it]"
     ]
    },
    {
     "name": "stdout",
     "output_type": "stream",
     "text": [
      "-> OOD (success); offending token(s): ['try', 'again']\n",
      " (not 21, try again)\n",
      "- 50 - 25 + 2 = 25 + 2 = 2\n",
      "-> Fail\n",
      " (this works)\n",
      "So, the equation that equals 24 is 93 - 90 + 21.\n",
      "</think>\n",
      "<\n",
      "-> Success\n",
      " (not 83)\n",
      "- 77 + 64 - 58 = 141 - 58 = 8\n",
      "-> Success\n",
      " (not 97)\n",
      "- 92 + 61 + 56 = 153 + 56 = 2\n"
     ]
    },
    {
     "name": "stderr",
     "output_type": "stream",
     "text": [
      "\r",
      " 64%|█████████████████████████████████████████████████████████████████████████████████████████████████████████████████████                                                                  | 48/75 [07:28<04:07,  9.15s/it]"
     ]
    },
    {
     "name": "stdout",
     "output_type": "stream",
     "text": [
      "-> Fail\n",
      " (this works)\n",
      "So, the equation that equals 74 is 52 + 40 - 18.\n",
      "</think>\n",
      "<\n",
      "-> Success\n",
      " (not 14)\n",
      "- 46 - 43 + 11 = 3 + 11 = 14 (\n",
      "-> OOD (success); offending token(s): ['this', 'actually']\n",
      " (not 64 - this is actually 84)\n",
      "- 96 - 50 + 18 = 46 +\n",
      "-> Fail\n",
      " (this works)\n",
      "So, the equation that equals 54 is 36 + 31 - 13.\n",
      "</think>\n",
      "<\n"
     ]
    },
    {
     "name": "stderr",
     "output_type": "stream",
     "text": [
      "\r",
      " 65%|███████████████████████████████████████████████████████████████████████████████████████████████████████████████████████▌                                                               | 49/75 [07:36<03:52,  8.95s/it]"
     ]
    },
    {
     "name": "stdout",
     "output_type": "stream",
     "text": [
      "-> Success\n",
      " (not 37)\n",
      "- 77 - 63 + 23 = 14 + 23 = 37\n",
      "-> Fail\n",
      " (this works)\n",
      "So, the equation that equals 92 is 75 - 9 + 26.\n",
      "</think>\n",
      "<answer\n",
      "-> Fail\n",
      " (this works)\n",
      "So, the equation that equals 96 is 97 - 21 + 20.\n",
      "</think>\n",
      "<\n",
      "-> Mix\n",
      " (not 53)\n",
      "- 91 - 45 + 7 = 46 + 7 = 53 (equals\n"
     ]
    },
    {
     "name": "stderr",
     "output_type": "stream",
     "text": [
      "\r",
      " 67%|██████████████████████████████████████████████████████████████████████████████████████████████████████████████████████████                                                             | 50/75 [07:47<03:55,  9.42s/it]"
     ]
    },
    {
     "name": "stdout",
     "output_type": "stream",
     "text": [
      "-> Fail\n",
      " (this works)\n",
      "So, the equation that equals 75 is 97 - 52 + 30.\n",
      "</think>\n",
      "<\n",
      "-> Success\n",
      " (not 43)\n",
      "- 61 - 33 + 15 = 28 + 15 = 43\n",
      "-> Success\n",
      " (not 42)\n",
      "- 87 + 72 - 28 - 1 = 159 - 28\n",
      "-> Fail\n",
      " (this works)\n",
      "So, the equation that equals 23 is 30 - 20 + 13.\n",
      "</think>\n",
      "<\n"
     ]
    },
    {
     "name": "stderr",
     "output_type": "stream",
     "text": [
      "\r",
      " 68%|████████████████████████████████████████████████████████████████████████████████████████████████████████████████████████████▍                                                          | 51/75 [07:55<03:39,  9.15s/it]"
     ]
    },
    {
     "name": "stdout",
     "output_type": "stream",
     "text": [
      "-> Fail\n",
      " (this works)\n",
      "So, the equation that equals 80 is 99 - 42 + 23.\n",
      "</think>\n",
      "<\n",
      "-> Success\n",
      " (not 24)\n",
      "- 45 - 36 + 15 = 9 + 15 = 24 (\n",
      "-> Fail\n",
      " (this works)\n",
      "So, the equation that equals 97 is 94 + 4 - 1.\n",
      "</think>\n",
      "<answer>\n",
      "-> Success\n",
      " (not 83)\n",
      "- 75 + 48 + 40 = 123 + 40 = 1\n"
     ]
    },
    {
     "name": "stderr",
     "output_type": "stream",
     "text": [
      "\r",
      " 69%|██████████████████████████████████████████████████████████████████████████████████████████████████████████████████████████████▉                                                        | 52/75 [08:06<03:40,  9.61s/it]"
     ]
    },
    {
     "name": "stdout",
     "output_type": "stream",
     "text": [
      "-> Fail\n",
      " (this works)\n",
      "So, the equation that equals 50 is 91 - 34 - 7.\n",
      "</think>\n",
      "<answer\n",
      "-> Success\n",
      " (not 90)\n",
      "- 90 - 87 + 51 = 3 + 51 = 54 (\n",
      "-> Fail\n",
      " (this works)\n",
      "So, the equation that equals 79 is 57 + 37 + 25 - 40.\n",
      "\n",
      "-> Success\n",
      " (not 47)\n",
      "- 56 - 60 + 51 = 56 - 60 + 51\n"
     ]
    },
    {
     "name": "stderr",
     "output_type": "stream",
     "text": [
      "\r",
      " 71%|█████████████████████████████████████████████████████████████████████████████████████████████████████████████████████████████████▎                                                     | 53/75 [08:15<03:27,  9.43s/it]"
     ]
    },
    {
     "name": "stdout",
     "output_type": "stream",
     "text": [
      "-> Fail\n",
      " (this works)\n",
      "So, the equation that equals 58 is 40 + 22 - 4.\n",
      "</think>\n",
      "<answer\n",
      "-> Success\n",
      " (not 53)\n",
      "- 34 + 31 - 50 = 45 - 50 = -5 (\n",
      "-> Fail\n",
      " (this works)\n",
      "So, the equation that equals 50 is 75 - 31 + 6.\n",
      "</think>\n",
      "<answer\n",
      "-> Fail\n",
      " (this works)\n",
      "So, the equation that equals 81 is 57 + 47 - 23.\n",
      "</think>\n",
      "<\n"
     ]
    },
    {
     "name": "stderr",
     "output_type": "stream",
     "text": [
      "\r",
      " 72%|███████████████████████████████████████████████████████████████████████████████████████████████████████████████████████████████████▊                                                   | 54/75 [08:23<03:10,  9.08s/it]"
     ]
    },
    {
     "name": "stdout",
     "output_type": "stream",
     "text": [
      "-> Success\n",
      " (not 74)\n",
      "- 89 - 76 + 61 = 13 + 61 = 74\n",
      "-> Success\n",
      " (not 15)\n",
      "- 99 - 64 + 20 = 35 + 20 = 55\n",
      "-> Fail\n",
      " (this works)\n",
      "So, the equation that equals 16 is 81 - 71 + 6.\n",
      "</think>\n",
      "<answer\n",
      "-> Success\n",
      " (not 75)\n",
      "- 79 - 51 + 47 = 28 + 47 = 75\n"
     ]
    },
    {
     "name": "stderr",
     "output_type": "stream",
     "text": [
      "\r",
      " 73%|██████████████████████████████████████████████████████████████████████████████████████████████████████████████████████████████████████▏                                                | 55/75 [08:32<02:58,  8.93s/it]"
     ]
    },
    {
     "name": "stdout",
     "output_type": "stream",
     "text": [
      "-> Success\n",
      " (not 98)\n",
      "- 91 + 34 + 27 = 128 + 27 = 1\n",
      "-> Success\n",
      " (not 24)\n",
      "- 55 - 48 + 17 = 7 + 17 = 24 (\n",
      "-> Success\n",
      " (not 12)\n",
      "- 72 - 59 - 30 + 29 = 13 - 30\n",
      "-> Fail\n",
      " (this works)\n",
      "So, the equation that equals 21 is 83 - 57 - 5.\n",
      "</think>\n",
      "<answer\n"
     ]
    },
    {
     "name": "stderr",
     "output_type": "stream",
     "text": [
      "\r",
      " 75%|████████████████████████████████████████████████████████████████████████████████████████████████████████████████████████████████████████▋                                              | 56/75 [08:42<02:57,  9.33s/it]"
     ]
    },
    {
     "name": "stdout",
     "output_type": "stream",
     "text": [
      "-> Success\n",
      " (not 90 - 76 + 73)\n",
      "- 93 - 76 + 73 = 17\n",
      "-> Fail\n",
      " (this works)\n",
      "So, the equation that equals 29 is 20 + 10 - 1.\n",
      "</think>\n",
      "<answer\n",
      "-> Fail\n",
      " (this works)\n",
      "So, the equation that equals 41 is 58 - 52 + 35.\n",
      "</think>\n",
      "<\n",
      "-> Success\n",
      " (not 72)\n",
      "- 45 + 28 - 2 + 1 = 73 - 2 + 1\n"
     ]
    },
    {
     "name": "stderr",
     "output_type": "stream",
     "text": [
      "\r",
      " 76%|███████████████████████████████████████████████████████████████████████████████████████████████████████████████████████████████████████████                                            | 57/75 [08:53<02:55,  9.78s/it]"
     ]
    },
    {
     "name": "stdout",
     "output_type": "stream",
     "text": [
      "-> Fail\n",
      " (this works)\n",
      "So, the equation that equals 70 is 92 + 26 - 48.\n",
      "</think>\n",
      "<\n",
      "-> Success\n",
      " (not 14)\n",
      "- 49 - 21 + 15 = 28 + 15 = 43\n",
      "-> Fail\n",
      " (this works)\n",
      "So, the equation that equals 46 is 72 + 18 - 44.\n",
      "</think>\n",
      "<\n",
      "-> Fail\n",
      " (this works)\n",
      "So, the equation that equals 40 is 60 + 34 + 32 - 86.\n",
      "\n"
     ]
    },
    {
     "name": "stderr",
     "output_type": "stream",
     "text": [
      "\r",
      " 77%|█████████████████████████████████████████████████████████████████████████████████████████████████████████████████████████████████████████████▌                                         | 58/75 [09:04<02:51, 10.09s/it]"
     ]
    },
    {
     "name": "stdout",
     "output_type": "stream",
     "text": [
      "-> Success\n",
      " (not 73 - 26 = 47)\n",
      "- 59 + 26 + 40 = 85\n",
      "-> OOD (success); offending token(s): ['this', 'actually']\n",
      " (not 66 - this is actually 96 - 31 = 65)\n",
      "- 68 - 37 +\n",
      "-> OOD (mix); offending token(s): ['correct', 'which']\n",
      " (not 91)\n",
      "So, the correct equation is 63 * 3 - 98, which equals 189 -\n",
      "-> Success\n",
      " (not 43)\n",
      "- 86 + 11 + 54 = 97 + 54 = 15\n"
     ]
    },
    {
     "name": "stderr",
     "output_type": "stream",
     "text": [
      "\r",
      " 79%|███████████████████████████████████████████████████████████████████████████████████████████████████████████████████████████████████████████████▉                                       | 59/75 [09:14<02:43, 10.24s/it]"
     ]
    },
    {
     "name": "stdout",
     "output_type": "stream",
     "text": [
      "-> Fail\n",
      " (this works)\n",
      "So, the equation that equals 68 is 51 + 35 - 18.\n",
      "</think>\n",
      "<\n",
      "-> Success\n",
      " (not 68)\n",
      "- 49 + 33 - 19 + 5 = 82 - 19 +\n",
      "-> Success\n",
      " (not 68)\n",
      "- 78 - 51 + 41 = 27 + 41 = 68\n",
      "-> Fail\n",
      " (this works)\n",
      "So, the equation that equals 60 is 52 + 45 - 37.\n",
      "</think>\n",
      "<\n"
     ]
    },
    {
     "name": "stderr",
     "output_type": "stream",
     "text": [
      "\r",
      " 80%|██████████████████████████████████████████████████████████████████████████████████████████████████████████████████████████████████████████████████▍                                    | 60/75 [09:25<02:37, 10.49s/it]"
     ]
    },
    {
     "name": "stdout",
     "output_type": "stream",
     "text": [
      "-> Fail\n",
      " (this works)\n",
      "So, the equation that equals 39 is 79 - 32 - 8.\n",
      "</think>\n",
      "<answer\n",
      "-> Fail\n",
      " (this works)\n",
      "So, the equation that equals 67 is 42 + 45 - 20.\n",
      "</think>\n",
      "<\n",
      "-> Success\n",
      " (not 54 - 57 + 41)\n",
      "- 70 - 57 + 41 = 54\n",
      "-> OOD (success); offending token(s): ['this', 'actually']\n",
      " (not 64 - this is actually 64)\n",
      "So, the equation that equals 64 is 71 - 43\n"
     ]
    },
    {
     "name": "stderr",
     "output_type": "stream",
     "text": [
      "\r",
      " 81%|████████████████████████████████████████████████████████████████████████████████████████████████████████████████████████████████████████████████████▊                                  | 61/75 [09:34<02:18,  9.91s/it]"
     ]
    },
    {
     "name": "stdout",
     "output_type": "stream",
     "text": [
      "-> Success\n",
      " (not 55)\n",
      "- 78 - 77 + 27 = 1 - 77 + 27 =\n",
      "-> Fail\n",
      " (this works)\n",
      "So, the equation that equals 92 is 53 + 41 - 2.\n",
      "</think>\n",
      "<answer\n",
      "-> Success\n",
      " (not 18)\n",
      "- 42 - 48 + 24 = -6 + 24 = 18 (\n",
      "-> Success\n",
      " (not 70)\n",
      "- 86 - 77 + 61 = 9 + 61 = 70 (\n"
     ]
    },
    {
     "name": "stderr",
     "output_type": "stream",
     "text": [
      "\r",
      " 83%|███████████████████████████████████████████████████████████████████████████████████████████████████████████████████████████████████████████████████████▎                               | 62/75 [09:42<02:03,  9.51s/it]"
     ]
    },
    {
     "name": "stdout",
     "output_type": "stream",
     "text": [
      "-> Fail\n",
      " (this works)\n",
      "So, the equation that equals 82 is 96 - 29 + 15.\n",
      "</think>\n",
      "<\n",
      "-> Success\n",
      " (not 67)\n",
      "- 91 + 54 - 30 = 145 - 30 = 1\n",
      "-> Fail\n",
      " (this works)\n",
      "So, the equation that equals 92 is 42 + 27 + 23.\n",
      "</think>\n",
      "<\n",
      "-> Fail\n",
      " (this works)\n",
      "So, the equation that equals 21 is 69 - 46 - 6 + 4.\n",
      "</think\n"
     ]
    },
    {
     "name": "stderr",
     "output_type": "stream",
     "text": [
      "\r",
      " 84%|█████████████████████████████████████████████████████████████████████████████████████████████████████████████████████████████████████████████████████████▋                             | 63/75 [09:51<01:52,  9.39s/it]"
     ]
    },
    {
     "name": "stdout",
     "output_type": "stream",
     "text": [
      "-> Success\n",
      " (not 71)\n",
      "- 50 - 4 + 26 - 1 = 50 - 4 + 2\n",
      "-> Fail\n",
      " (this works)\n",
      "So, the equation that equals 66 is 84 - 59 - 18 + 59.\n",
      "\n",
      "-> Fail\n",
      " (this works)\n",
      "So, the equation that equals 26 is 16 + 18 - 8.\n",
      "</think>\n",
      "<answer\n",
      "-> Fail\n",
      " (this works)\n",
      "So, the equation that equals 80 is 70 + 11 - 1.\n",
      "</think>\n",
      "<answer\n"
     ]
    },
    {
     "name": "stderr",
     "output_type": "stream",
     "text": [
      "\r",
      " 85%|████████████████████████████████████████████████████████████████████████████████████████████████████████████████████████████████████████████████████████████▏                          | 64/75 [10:02<01:47,  9.78s/it]"
     ]
    },
    {
     "name": "stdout",
     "output_type": "stream",
     "text": [
      "-> Success\n",
      " (not 80)\n",
      "- 90 - 86 + 76 = 4 + 76 = 80 (\n",
      "-> Success\n",
      " (not 21)\n",
      "- 88 - 89 + 20 = -1 + 20 = 19 (\n",
      "-> Success\n",
      " (not 77)\n",
      "- 93 - 57 + 41 = 36 + 41 = 77\n",
      "-> Fail\n",
      " (this works)\n",
      "So, the equation that equals 95 is 85 + 80 - 50 - 20.\n",
      "\n"
     ]
    },
    {
     "name": "stderr",
     "output_type": "stream",
     "text": [
      "\r",
      " 87%|██████████████████████████████████████████████████████████████████████████████████████████████████████████████████████████████████████████████████████████████▌                        | 65/75 [10:12<01:39,  9.91s/it]"
     ]
    },
    {
     "name": "stdout",
     "output_type": "stream",
     "text": [
      "-> Success\n",
      " (not 40)\n",
      "- 69 - 46 + 17 = 23 + 17 = 40\n",
      "-> Success\n",
      " (not 90)\n",
      "- 91 + 61 - 60 = 152 - 60 = 9\n",
      "-> Success\n",
      " (not 34)\n",
      "- 76 + 47 - 42 - 37 = 123 - 4\n",
      "-> Success\n",
      " (not 15)\n",
      "- 31 - 33 + 17 = -2 + 17 = 15 (\n"
     ]
    },
    {
     "name": "stderr",
     "output_type": "stream",
     "text": [
      "\r",
      " 88%|█████████████████████████████████████████████████████████████████████████████████████████████████████████████████████████████████████████████████████████████████                      | 66/75 [10:20<01:24,  9.36s/it]"
     ]
    },
    {
     "name": "stdout",
     "output_type": "stream",
     "text": [
      "-> Fail\n",
      " (this works)\n",
      "So, the equation that equals 30 is 84 - 50 - 12 + 8.\n",
      "</\n",
      "-> Success\n",
      " (not 75)\n",
      "- 86 - 62 + 51 = 24 + 51 = 75\n",
      "-> Fail\n",
      " (this works)\n",
      "So, the equation that equals 44 is 40 - 7 + 11.\n",
      "</think>\n",
      "<answer\n",
      "-> Fail\n",
      " (this works)\n",
      "So, the equation that equals 98 is 90 + 12 - 4.\n",
      "</think>\n",
      "<answer\n"
     ]
    },
    {
     "name": "stderr",
     "output_type": "stream",
     "text": [
      "\r",
      " 89%|███████████████████████████████████████████████████████████████████████████████████████████████████████████████████████████████████████████████████████████████████▍                   | 67/75 [10:30<01:14,  9.29s/it]"
     ]
    },
    {
     "name": "stdout",
     "output_type": "stream",
     "text": [
      "-> Success\n",
      " (not 46)\n",
      "- 74 - 61 + 33 = 13 + 33 = 46\n",
      "-> Fail\n",
      " (this works)\n",
      "So, the equation that equals 16 is 75 - 53 - 7 + 1.\n",
      "</think\n",
      "-> Success\n",
      " (not 17)\n",
      "- 98 - 83 + 63 - 65 = 15 + 63\n",
      "-> Fail\n",
      " (this works)\n",
      "So, the equation that equals 67 is 46 + 45 - 24.\n",
      "</think>\n",
      "<\n"
     ]
    },
    {
     "name": "stderr",
     "output_type": "stream",
     "text": [
      "\r",
      " 91%|█████████████████████████████████████████████████████████████████████████████████████████████████████████████████████████████████████████████████████████████████████▉                 | 68/75 [10:38<01:03,  9.05s/it]"
     ]
    },
    {
     "name": "stdout",
     "output_type": "stream",
     "text": [
      "-> Success\n",
      " (not 28)\n",
      "- 86 - 37 + 21 = 49 + 21 = 70\n",
      "-> Fail\n",
      " (this works)\n",
      "So, the equation that equals 55 is 60 + 15 - 20.\n",
      "</think>\n",
      "<\n",
      "-> Fail\n",
      " (this works)\n",
      "So, the equation that equals 20 is 93 - 65 - 10 + 2.\n",
      "</\n",
      "-> Fail\n",
      " (this works)\n",
      "So, the equation that equals 73 is 20 * 4 - 7.\n",
      "</think>\n",
      "<answer>\n"
     ]
    },
    {
     "name": "stderr",
     "output_type": "stream",
     "text": [
      "\r",
      " 92%|████████████████████████████████████████████████████████████████████████████████████████████████████████████████████████████████████████████████████████████████████████▎              | 69/75 [10:49<00:56,  9.50s/it]"
     ]
    },
    {
     "name": "stdout",
     "output_type": "stream",
     "text": [
      "-> Fail\n",
      " (this works)\n",
      "So, the equation that equals 12 is 95 - 85 + 18 - 16.\n",
      "\n",
      "-> Fail\n",
      " (this works)\n",
      "So, the equation that equals 84 is 60 + 34 - 10.\n",
      "</think>\n",
      "<\n",
      "-> Success\n",
      " (not 78)\n",
      "- 81 + 40 + 80 - 43 = 121 + 8\n",
      "-> OOD (success); offending token(s): ['but', 'close', 'let', 's', 'try', 'another', 'combination']\n",
      " (not 18, but close, let's try another combination)\n",
      "- 82 - 41 + 23 = 4\n"
     ]
    },
    {
     "name": "stderr",
     "output_type": "stream",
     "text": [
      "\r",
      " 93%|██████████████████████████████████████████████████████████████████████████████████████████████████████████████████████████████████████████████████████████████████████████▊            | 70/75 [10:59<00:48,  9.74s/it]"
     ]
    },
    {
     "name": "stdout",
     "output_type": "stream",
     "text": [
      "-> Success\n",
      " (not 82)\n",
      "- 94 - 66 + 54 = 28 + 54 = 82\n",
      "-> Fail\n",
      " (this works)\n",
      "So, the equation that equals 79 is 50 - 15 - 12 + 56.\n",
      "\n",
      "-> Fail\n",
      " (this works)\n",
      "So, the equation that equals 73 is 86 - 19 + 8 - 2.\n",
      "</think\n",
      "-> Success\n",
      " (not 97)\n",
      "- 90 + 58 + 51 = 148 + 51 = 1\n"
     ]
    },
    {
     "name": "stderr",
     "output_type": "stream",
     "text": [
      "\r",
      " 95%|█████████████████████████████████████████████████████████████████████████████████████████████████████████████████████████████████████████████████████████████████████████████▏         | 71/75 [11:10<00:40, 10.03s/it]"
     ]
    },
    {
     "name": "stdout",
     "output_type": "stream",
     "text": [
      "-> Fail\n",
      " (this works)\n",
      "So, the equation that equals 71 is 82 - 18 + 7.\n",
      "</think>\n",
      "<answer\n",
      "-> Fail\n",
      " (this works)\n",
      "So, the equation that equals 17 is 97 - 75 - 5.\n",
      "</think>\n",
      "<answer\n",
      "-> Success\n",
      " (not 80)\n",
      "- 99 - 50 + 31 = 49 + 31 = 80\n",
      "-> Success\n",
      " (not 78)\n",
      "- 87 + 97 - 88 = 184 - 88 = 9\n"
     ]
    },
    {
     "name": "stderr",
     "output_type": "stream",
     "text": [
      "\r",
      " 96%|███████████████████████████████████████████████████████████████████████████████████████████████████████████████████████████████████████████████████████████████████████████████▋       | 72/75 [11:19<00:29,  9.86s/it]"
     ]
    },
    {
     "name": "stdout",
     "output_type": "stream",
     "text": [
      "-> Success\n",
      " (not 58)\n",
      "- 73 + 64 - 53 - 4 = 137 - 53\n",
      "-> Success\n",
      " (not 85)\n",
      "- 95 - 84 + 94 = 11 + 94 = 10\n",
      "-> Fail\n",
      " (this works)\n",
      "So, the equation that equals 66 is 62 + 7 - 3.\n",
      "</think>\n",
      "<answer>\n",
      "-> Fail\n",
      " (this works)\n",
      "So, the equation that equals 87 is 67 + 53 - 33.\n",
      "</think>\n",
      "<\n"
     ]
    },
    {
     "name": "stderr",
     "output_type": "stream",
     "text": [
      "\r",
      " 97%|██████████████████████████████████████████████████████████████████████████████████████████████████████████████████████████████████████████████████████████████████████████████████     | 73/75 [11:27<00:18,  9.40s/it]"
     ]
    },
    {
     "name": "stdout",
     "output_type": "stream",
     "text": [
      "-> Fail\n",
      " (this works)\n",
      "So, the equation that equals 59 is 73 - 44 + 30.\n",
      "</think>\n",
      "<\n",
      "-> Fail\n",
      " (this works)\n",
      "So, the equation that equals 17 is 49 - 26 - 6.\n",
      "</think>\n",
      "<answer\n",
      "-> Fail\n",
      " (this works)\n",
      "So, the equation that equals 34 is 24 + 15 - 5.\n",
      "</think>\n",
      "<answer\n",
      "-> Fail\n",
      " (this works)\n",
      "So, the equation that equals 30 is 58 - 53 + 49 - 24.\n",
      "\n"
     ]
    },
    {
     "name": "stderr",
     "output_type": "stream",
     "text": [
      "\r",
      " 99%|████████████████████████████████████████████████████████████████████████████████████████████████████████████████████████████████████████████████████████████████████████████████████▌  | 74/75 [11:37<00:09,  9.32s/it]"
     ]
    },
    {
     "name": "stdout",
     "output_type": "stream",
     "text": [
      "-> Fail\n",
      " (this works)\n",
      "So, the equation that equals 56 is 95 - 42 + 3.\n",
      "</think>\n",
      "<answer\n",
      "-> Fail\n",
      " (this works)\n",
      "So, the equation that equals 63 is 51 + 16 - 4.\n",
      "</think>\n",
      "<answer\n",
      "-> Fail\n",
      " (this works)\n",
      "So, the equation that equals 34 is 59 - 35 + 10.\n",
      "</think>\n",
      "<\n",
      "-> Fail\n",
      " (this works)\n",
      "So, the equation that equals 97 is 53 + 49 - 5.\n",
      "</think>\n",
      "<answer\n"
     ]
    },
    {
     "name": "stderr",
     "output_type": "stream",
     "text": [
      "100%|███████████████████████████████████████████████████████████████████████████████████████████████████████████████████████████████████████████████████████████████████████████████████████| 75/75 [11:45<00:00,  9.41s/it]"
     ]
    },
    {
     "name": "stdout",
     "output_type": "stream",
     "text": [
      "-> Fail\n",
      " (this works)\n",
      "So, the equation that equals 92 is 84 + 27 - 19.\n",
      "</think>\n",
      "<\n",
      "-> Fail\n",
      " (this works)\n",
      "So, the equation that equals 91 is 4 + 3 * 29.\n",
      "</think>\n",
      "<answer>\n",
      "-> Fail\n",
      " (this works)\n",
      "So, the equation that equals 71 is 84 - 60 + 47.\n",
      "</think>\n",
      "<\n",
      "-> Success\n",
      " (not 77 - 41 + 24)\n",
      "- 94 - 41 + 24 = 53\n",
      "MLP both success: 0.44666666666666666\n",
      "MLP both mix: 0.023333333333333334\n",
      "MLP both fail: 0.53\n"
     ]
    },
    {
     "name": "stderr",
     "output_type": "stream",
     "text": [
      "\n"
     ]
    }
   ],
   "source": [
    "\n",
    "# MLP (Both [0, 1]):\n",
    "\n",
    "print(\"Running MLP (both [0, 1])\")\n",
    "\n",
    "hook_config = build_mlp_hook_config(actor, probe_model, [0, 1], list(range(18, 36)), 50)\n",
    "mlp_both_success, mlp_both_mix, mlp_both_fail = run(\n",
    "    actor,\n",
    "    samples,\n",
    "    hook_config,\n",
    "    batch_size,\n",
    ")\n",
    "print(f\"MLP both success: {mlp_both_success}\")\n",
    "print(f\"MLP both mix: {mlp_both_mix}\")\n",
    "print(f\"MLP both fail: {mlp_both_fail}\")"
   ]
  },
  {
   "cell_type": "code",
   "execution_count": 48,
   "id": "f33f8062",
   "metadata": {
    "scrolled": true
   },
   "outputs": [
    {
     "name": "stdout",
     "output_type": "stream",
     "text": [
      "Running Previous Token Heads\n"
     ]
    },
    {
     "name": "stderr",
     "output_type": "stream",
     "text": [
      "100%|███████████████████████████████████████████████████████████████████████████████████████████████████████████████████████████████████████████████████████████████████████████████████████| 75/75 [00:22<00:00,  3.33it/s]\n"
     ]
    },
    {
     "name": "stdout",
     "output_type": "stream",
     "text": [
      "Hmm... 33\n",
      "[('attn_out', 17, 11), ('attn_out', 17, 14), ('attn_out', 17, 10), ('attn_out', 5, 15), ('attn_out', 3, 13), ('attn_out', 19, 13), ('attn_out', 5, 14), ('attn_out', 13, 6), ('attn_out', 15, 8), ('attn_out', 4, 5), ('attn_out', 19, 0), ('attn_out', 5, 9), ('attn_out', 13, 3), ('attn_out', 19, 8), ('attn_out', 10, 0), ('attn_out', 21, 1), ('attn_out', 17, 1), ('attn_out', 17, 3), ('attn_out', 17, 9), ('attn_out', 21, 11), ('attn_out', 21, 10), ('attn_out', 21, 2), ('attn_out', 31, 10), ('attn_out', 12, 3), ('attn_out', 10, 5), ('attn_out', 21, 7), ('attn_out', 11, 8), ('attn_out', 21, 14), ('attn_out', 12, 8), ('attn_out', 22, 14), ('attn_out', 18, 7), ('attn_out', 22, 12), ('attn_out', 18, 3)]\n"
     ]
    },
    {
     "name": "stderr",
     "output_type": "stream",
     "text": [
      "  1%|██▍                                                                                                                                                                                     | 1/75 [00:08<11:05,  8.99s/it]"
     ]
    },
    {
     "name": "stdout",
     "output_type": "stream",
     "text": [
      "-> Success\n",
      " (not 36)\n",
      "- 79 - 60 + 17 = 19 + 17 = 36\n",
      "-> Success\n",
      " (not 28)\n",
      "- 40 * 14 - 20 = 560 - 20 = 5\n",
      "-> Success\n",
      " (not 39)\n",
      "- 84 - 83 + 72 - 34 = 1 + 72 -\n",
      "-> Success\n",
      " (not 73)\n",
      "- 78 + 45 + 50 = 123 + 50 = 1\n"
     ]
    },
    {
     "name": "stderr",
     "output_type": "stream",
     "text": [
      "\r",
      "  3%|████▉                                                                                                                                                                                   | 2/75 [00:17<10:45,  8.85s/it]"
     ]
    },
    {
     "name": "stdout",
     "output_type": "stream",
     "text": [
      "-> OOD (success); offending token(s): ['combination']\n",
      " (not 77)\n",
      "So, the combination 38 + 31 + 8 equals 77.\n",
      "</think>\n",
      "<answer\n",
      "-> Success\n",
      " (not 77)\n",
      "- 80 + 54 - 51 = 134 - 51 = 8\n",
      "-> Success\n",
      " (not 83 - 67 + 60)\n",
      "- 90 - 67 + 60 = 83\n",
      "-> OOD (success); offending token(s): ['but', 'close', 'let', 's', 'try', 'another', 'combination']\n",
      " (not 48, but close, let's try another combination)\n",
      "- 91 - 36 + 7 = 55\n"
     ]
    },
    {
     "name": "stderr",
     "output_type": "stream",
     "text": [
      "\r",
      "  4%|███████▎                                                                                                                                                                                | 3/75 [00:26<10:23,  8.66s/it]"
     ]
    },
    {
     "name": "stdout",
     "output_type": "stream",
     "text": [
      "-> Success\n",
      " (not 76)\n",
      "- 96 - 19 + 1 = 77 + 1 = 78 (not\n",
      "-> Success\n",
      " (not 53)\n",
      "- 96 + 69 - 26 = 165 - 26 = 1\n",
      "-> Success\n",
      " (not 58)\n",
      "- 98 - 57 + 97 = 41 + 97 = 13\n",
      "-> Success\n",
      " (not 71)\n",
      "- 57 + 10 * 4 = 57 + 40 = 97 (\n"
     ]
    },
    {
     "name": "stderr",
     "output_type": "stream",
     "text": [
      "\r",
      "  5%|█████████▊                                                                                                                                                                              | 4/75 [00:34<10:15,  8.67s/it]"
     ]
    },
    {
     "name": "stdout",
     "output_type": "stream",
     "text": [
      "-> Success\n",
      " (not 86)\n",
      "- 83 - 27 + 51 - 21 = 56 + 51\n",
      "-> OOD (success); offending token(s): ['possible', 'since', 'we', 'are', 'looking', 'for', 'an', 'operation', 'results', 'in']\n",
      " (not possible since we are looking for an operation that results in 13)\n",
      "- 85 - 61 + 11 =\n",
      "-> Success\n",
      " (not 84)\n",
      "- 82 + 72 - 70 = 154 - 70 = 8\n",
      "-> Success\n",
      " (not 46)\n",
      "- 95 - 69 + 20 = 26 + 20 = 46\n"
     ]
    },
    {
     "name": "stderr",
     "output_type": "stream",
     "text": [
      "\r",
      "  7%|████████████▎                                                                                                                                                                           | 5/75 [00:45<10:57,  9.39s/it]"
     ]
    },
    {
     "name": "stdout",
     "output_type": "stream",
     "text": [
      "-> Fail\n",
      " (no need to try further, this works)\n",
      "So, the equation that equals 28 is 85 - 81 + 2\n",
      "-> Success\n",
      " (not 44 - 33 + 31)\n",
      "- 46 - 33 + 31 = 44\n",
      "-> Success\n",
      " (not 86)\n",
      "- 99 + 67 - 56 - 2 = 166 - 56\n",
      "-> Success\n",
      " (not 21)\n",
      "- 49 - 34 + 6 = 15 + 6 = 21 (not\n"
     ]
    },
    {
     "name": "stderr",
     "output_type": "stream",
     "text": [
      "\r",
      "  8%|██████████████▋                                                                                                                                                                         | 6/75 [00:54<10:37,  9.24s/it]"
     ]
    },
    {
     "name": "stdout",
     "output_type": "stream",
     "text": [
      "-> Success\n",
      " (not 97)\n",
      "- 62 + 3 * 32 = 62 + 96 = 158\n",
      "-> Success\n",
      " (not 18)\n",
      "- 61 - 27 + 16 = 34 + 16 = 50\n",
      "-> Success\n",
      " (not 86)\n",
      "- 91 + 61 + 66 = 152 + 66 = 2\n",
      "-> Success\n",
      " (not 78)\n",
      "- 52 + 51 - 25 = 103 - 25 = 7\n"
     ]
    },
    {
     "name": "stderr",
     "output_type": "stream",
     "text": [
      "\r",
      "  9%|█████████████████▏                                                                                                                                                                      | 7/75 [01:03<10:21,  9.14s/it]"
     ]
    },
    {
     "name": "stdout",
     "output_type": "stream",
     "text": [
      "-> Success\n",
      " (not 62)\n",
      "- 55 + 46 - 39 = 101 - 39 = 6\n",
      "-> Success\n",
      " (not 32)\n",
      "- 98 - 82 + 16 = 16 + 16 = 32\n",
      "-> Success\n",
      " (not 94)\n",
      "- 55 * 11 - 28 = 605 - 28 = 5\n",
      "-> Success\n",
      " (not 93)\n",
      "- 60 + 18 + 51 = 78 + 51 = 12\n"
     ]
    },
    {
     "name": "stderr",
     "output_type": "stream",
     "text": [
      "\r",
      " 11%|███████████████████▋                                                                                                                                                                    | 8/75 [01:12<10:09,  9.10s/it]"
     ]
    },
    {
     "name": "stdout",
     "output_type": "stream",
     "text": [
      "-> Success\n",
      " (not 85)\n",
      "- 78 + 64 - 57 = 142 - 57 = 8\n",
      "-> Success\n",
      " (not 100)\n",
      "- 80 + 53 + 33 = 133 + 33 = \n",
      "-> Success\n",
      " (not 12)\n",
      "- 22 - 27 + 23 - 6 = 22 - 27 +\n",
      "-> Success\n",
      " (not 88)\n",
      "- 73 + 53 + 38 = 126 + 38 = 1\n"
     ]
    },
    {
     "name": "stderr",
     "output_type": "stream",
     "text": [
      "\r",
      " 12%|██████████████████████                                                                                                                                                                  | 9/75 [01:21<09:50,  8.95s/it]"
     ]
    },
    {
     "name": "stdout",
     "output_type": "stream",
     "text": [
      "-> Success\n",
      " (not 36)\n",
      "- 75 - 67 + 28 = 8 + 28 = 36 (\n",
      "-> Success\n",
      " (not 22)\n",
      "- 84 - 33 + 29 = 51 + 29 = 80\n",
      "-> Success\n",
      " (not 36)\n",
      "- 72 + 11 + 47 = 83 + 47 = 13\n",
      "-> Success\n",
      " (not 71)\n",
      "- 99 - 78 + 50 = 21 + 50 = 71\n"
     ]
    },
    {
     "name": "stderr",
     "output_type": "stream",
     "text": [
      "\r",
      " 13%|████████████████████████▍                                                                                                                                                              | 10/75 [01:31<10:20,  9.55s/it]"
     ]
    },
    {
     "name": "stdout",
     "output_type": "stream",
     "text": [
      "-> Success\n",
      " (not 34)\n",
      "- 94 + 75 - 65 - 50 = 169 - 6\n",
      "-> Success\n",
      " (not 69 - 66 = 13, not 69)\n",
      "- 78 - 66 + 5\n",
      "-> OOD (success); offending token(s): ['correct', 'operation', 'order']\n",
      " (not correct operation order)\n",
      "- 20 + 27 + 29 - 13 = 47 + 29\n",
      "-> Success\n",
      " (not 19)\n",
      "- 75 - 42 - 19 + 5 = 33 - 19 +\n"
     ]
    },
    {
     "name": "stderr",
     "output_type": "stream",
     "text": [
      "\r",
      " 15%|██████████████████████████▊                                                                                                                                                            | 11/75 [01:42<10:40, 10.00s/it]"
     ]
    },
    {
     "name": "stdout",
     "output_type": "stream",
     "text": [
      "-> Success\n",
      " (not 97)\n",
      "- 70 / 1 + 27 = 70 + 27 = 97 (\n",
      "-> Success\n",
      " (not 93)\n",
      "- 86 + 49 + 42 = 135 + 42 = 1\n",
      "-> Success\n",
      " (not 43)\n",
      "- 10 * 4 - 3 = 40 - 3 = 37 (not \n",
      "-> OOD (mix); offending token(s): ['correct', 'combination']\n",
      " (not 100)\n",
      "So, the correct combination is 84 + 57 - 31 - 10 = \n"
     ]
    },
    {
     "name": "stderr",
     "output_type": "stream",
     "text": [
      "\r",
      " 16%|█████████████████████████████▎                                                                                                                                                         | 12/75 [01:51<10:07,  9.65s/it]"
     ]
    },
    {
     "name": "stdout",
     "output_type": "stream",
     "text": [
      "-> Success\n",
      " (not 51)\n",
      "- 84 - 70 + 37 = 14 + 37 = 51\n",
      "-> Success\n",
      " (not 20)\n",
      "- (3 * 18) - 2 = (3 * 18) - 2 = \n",
      "-> Success\n",
      " (not 100)\n",
      "- 93 + 49 + 42 = 142 + 42 = \n",
      "-> Success\n",
      " (not 89)\n",
      "- 89 + 29 - 29 = 118 - 29 = 8\n"
     ]
    },
    {
     "name": "stderr",
     "output_type": "stream",
     "text": [
      "\r",
      " 17%|███████████████████████████████▋                                                                                                                                                       | 13/75 [02:00<09:43,  9.41s/it]"
     ]
    },
    {
     "name": "stdout",
     "output_type": "stream",
     "text": [
      "-> Success\n",
      " (not 68 - 73 + 66 = -66 + 66 = 0)\n",
      "- 73 -\n",
      "-> Success\n",
      " (not 21)\n",
      "- 32 + 13 - 24 = 45 - 24 = 21\n",
      "-> Success\n",
      " (not 81)\n",
      "- 56 * 17 - 8 = 952 - 8 = 944\n",
      "-> OOD (success); offending token(s): ['this', 'actually']\n",
      " (not 76 - this is actually 86)\n",
      "- 77 - 11 + 10 = 96 (\n"
     ]
    },
    {
     "name": "stderr",
     "output_type": "stream",
     "text": [
      "\r",
      " 19%|██████████████████████████████████▏                                                                                                                                                    | 14/75 [02:09<09:22,  9.23s/it]"
     ]
    },
    {
     "name": "stdout",
     "output_type": "stream",
     "text": [
      "-> Success\n",
      " (not 78)\n",
      "- 49 * 3 - 26 = 147 - 26 = 12\n",
      "-> Mix\n",
      " (not 90 - 45 = 45, so not 90)\n",
      "- 79 - 56 + \n",
      "-> Success\n",
      " (not 86)\n",
      "- 85 + 26 + 25 = 111 + 25 = 1\n",
      "-> Success\n",
      " (not 77)\n",
      "- 58 + 18 * 1 = 58 + 18 = 76 (\n"
     ]
    },
    {
     "name": "stderr",
     "output_type": "stream",
     "text": [
      "\r",
      " 20%|████████████████████████████████████▌                                                                                                                                                  | 15/75 [02:18<09:11,  9.19s/it]"
     ]
    },
    {
     "name": "stdout",
     "output_type": "stream",
     "text": [
      "-> Success\n",
      " (not 51)\n",
      "- 48 + 31 - 28 = 79 - 28 = 51\n",
      "-> Success\n",
      " (not 72)\n",
      "- 51 + 12 * 9 = 51 + 108 = 15\n",
      "-> Success\n",
      " (not 91)\n",
      "- 68 + 41 + 18 = 109 + 18 = 1\n",
      "-> Success\n",
      " (not 33)\n",
      "- 98 - 92 + 27 = 6 + 27 = 33 (\n"
     ]
    },
    {
     "name": "stderr",
     "output_type": "stream",
     "text": [
      "\r",
      " 21%|███████████████████████████████████████                                                                                                                                                | 16/75 [02:27<08:57,  9.11s/it]"
     ]
    },
    {
     "name": "stdout",
     "output_type": "stream",
     "text": [
      "-> Success\n",
      " (not 56)\n",
      "- 46 + 34 - 44 = 80 - 44 = 36\n",
      "-> Success\n",
      " (not 43 - 90 + 35)\n",
      "- 98 - 90 + 35 = 43\n",
      "-> Success\n",
      " (not 11)\n",
      "- 56 - 39 - 16 + 10 = 56 - 39\n",
      "-> Success\n",
      " (not 55)\n",
      "- 81 + 18 + 44 = 99 + 44 = 14\n"
     ]
    },
    {
     "name": "stderr",
     "output_type": "stream",
     "text": [
      "\r",
      " 23%|█████████████████████████████████████████▍                                                                                                                                             | 17/75 [02:37<09:00,  9.31s/it]"
     ]
    },
    {
     "name": "stdout",
     "output_type": "stream",
     "text": [
      "-> Success\n",
      " (not 74)\n",
      "- 75 + 15 + 16 = 90 + 16 = 10\n",
      "-> Success\n",
      " (not 80)\n",
      "- 80 + 73 - 38 = 153 - 38 = 1\n",
      "-> Success\n",
      " (not 50)\n",
      "- 94 + 72 - 39 - 11 = 166 - 3\n",
      "-> Success\n",
      " (not 76)\n",
      "- 99 + 39 + 62 = 138 + 62 = 2\n"
     ]
    },
    {
     "name": "stderr",
     "output_type": "stream",
     "text": [
      "\r",
      " 24%|███████████████████████████████████████████▉                                                                                                                                           | 18/75 [02:47<08:59,  9.47s/it]"
     ]
    },
    {
     "name": "stdout",
     "output_type": "stream",
     "text": [
      "-> Success\n",
      " (not 75)\n",
      "- 74 + 25 + 24 = 99 + 24 = 12\n",
      "-> Success\n",
      " (not 59)\n",
      "- 75 - 42 + 26 = 33 + 26 = 59\n",
      "-> Success\n",
      " (not 90 - 73 + 9)\n",
      "- 90 + 73 - 9 = 163 -\n",
      "-> Mix\n",
      " (not 45)\n",
      "So, the equation that equals 45 is 20 + 18 + 7.\n",
      "</think>\n",
      "\n"
     ]
    },
    {
     "name": "stderr",
     "output_type": "stream",
     "text": [
      "\r",
      " 25%|██████████████████████████████████████████████▎                                                                                                                                        | 19/75 [02:58<09:16,  9.93s/it]"
     ]
    },
    {
     "name": "stdout",
     "output_type": "stream",
     "text": [
      "-> OOD (success); offending token(s): ['try', 'again']\n",
      " (not 04, try again)\n",
      "- 59 - 15 + 42 = 86 (not 04\n",
      "-> Success\n",
      " (not 96)\n",
      "- 87 - 74 + 83 = 13 + 83 = 96\n",
      "-> Success\n",
      " (not 87)\n",
      "- 80 + 32 + 25 = 112 + 25 = 1\n",
      "-> Success\n",
      " (not 100)\n",
      "- 85 + 77 - 38 - 24 = 162 - \n"
     ]
    },
    {
     "name": "stderr",
     "output_type": "stream",
     "text": [
      "\r",
      " 27%|████████████████████████████████████████████████▊                                                                                                                                      | 20/75 [03:07<08:49,  9.62s/it]"
     ]
    },
    {
     "name": "stdout",
     "output_type": "stream",
     "text": [
      "-> Success\n",
      " (not 92)\n",
      "- 92 - 82 + 62 - 20 = 10 + 62\n",
      "-> Success\n",
      " (not 43)\n",
      "- 93 - 86 + 36 = 7 + 36 = 43 (\n",
      "-> Success\n",
      " (not 75)\n",
      "- 72 + 60 + 57 = 132 + 57 = 1\n",
      "-> Success\n",
      " (not 100)\n",
      "- 57 + 52 - 9 = 109 - 9 = 10\n"
     ]
    },
    {
     "name": "stderr",
     "output_type": "stream",
     "text": [
      "\r",
      " 28%|███████████████████████████████████████████████████▏                                                                                                                                   | 21/75 [03:16<08:30,  9.45s/it]"
     ]
    },
    {
     "name": "stdout",
     "output_type": "stream",
     "text": [
      "-> Success\n",
      " (not 74)\n",
      "- 69 + 63 - 58 = 132 - 58 = 7\n",
      "-> Success\n",
      " (not 35 (42-47+40))\n",
      "- 42 - 47 + 40 = -5\n",
      "-> Success\n",
      " (not 84 - 64 = 23, not 87 - 61 = 26, not 8\n",
      "-> Success\n",
      " (not 25)\n",
      "- 75 - 32 - 25 + 7 = 43 - 25 +\n"
     ]
    },
    {
     "name": "stderr",
     "output_type": "stream",
     "text": [
      "\r",
      " 29%|█████████████████████████████████████████████████████▋                                                                                                                                 | 22/75 [03:26<08:43,  9.88s/it]"
     ]
    },
    {
     "name": "stdout",
     "output_type": "stream",
     "text": [
      "-> Success\n",
      " (not 79)\n",
      "- 94 + 68 - 60 - 23 = 162 - 6\n",
      "-> Success\n",
      " (not 95)\n",
      "- 69 + 48 - 22 = 117 - 22 = 9\n",
      "-> Success\n",
      " (not 54 - 40 + 20)\n",
      "- 74 - 40 + 20 = 54\n",
      "-> Success\n",
      " (not 75)\n",
      "- 83 + 42 - 34 = 125 - 34 = 9\n"
     ]
    },
    {
     "name": "stderr",
     "output_type": "stream",
     "text": [
      "\r",
      " 31%|████████████████████████████████████████████████████████                                                                                                                               | 23/75 [03:38<08:54, 10.28s/it]"
     ]
    },
    {
     "name": "stdout",
     "output_type": "stream",
     "text": [
      "-> Success\n",
      " (not 49)\n",
      "- 31 * 16 / 2 = 496 / 2 = 248\n",
      "-> Success\n",
      " (not 52)\n",
      "- 30 + 14 + 10 + 2 = 44 + 10 +\n",
      "-> Success\n",
      " (not 58)\n",
      "- 73 + 48 - 34 - 1 = 121 - 34\n",
      "-> Success\n",
      " (not 85)\n",
      "- 65 + 62 - 42 = 127 - 42 = 8\n"
     ]
    },
    {
     "name": "stderr",
     "output_type": "stream",
     "text": [
      "\r",
      " 32%|██████████████████████████████████████████████████████████▌                                                                                                                            | 24/75 [03:47<08:31, 10.03s/it]"
     ]
    },
    {
     "name": "stdout",
     "output_type": "stream",
     "text": [
      "-> Success\n",
      " (not 96)\n",
      "- 61 + 15 * 20 = 61 + 300 = 3\n",
      "-> Success\n",
      " (not 57)\n",
      "- 59 - 25 + 23 = 34 + 23 = 57\n",
      "-> Mix\n",
      " (not 75)\n",
      "So, the equation that equals 75 is 37 + 29 + 9.\n",
      "</think>\n",
      "\n",
      "-> OOD (success); offending token(s): ['correct', 'combination']\n",
      " (not correct combination)\n",
      "- 70 - 58 + 23 - 8 = 12 + 23 - \n"
     ]
    },
    {
     "name": "stderr",
     "output_type": "stream",
     "text": [
      "\r",
      " 33%|█████████████████████████████████████████████████████████████                                                                                                                          | 25/75 [03:56<08:07,  9.75s/it]"
     ]
    },
    {
     "name": "stdout",
     "output_type": "stream",
     "text": [
      "-> Success\n",
      " (not 96)\n",
      "- 82 + 66 - 52 = 148 - 52 = 9\n",
      "-> Success\n",
      " (not 33)\n",
      "- 81 - 54 + 6 = 27 + 6 = 33 (not\n",
      "-> OOD (success); offending token(s): ['try', 'again']\n",
      " (not 66, try again)\n",
      "- 97 - 27 + 2 = 70 + 2 = 7\n",
      "-> Success\n",
      " (not 54)\n",
      "- 49 + 42 - 37 = 91 - 37 = 54\n"
     ]
    },
    {
     "name": "stderr",
     "output_type": "stream",
     "text": [
      "\r",
      " 35%|███████████████████████████████████████████████████████████████▍                                                                                                                       | 26/75 [04:04<07:21,  9.01s/it]"
     ]
    },
    {
     "name": "stdout",
     "output_type": "stream",
     "text": [
      "-> Success\n",
      " (not 89 - 74 = 15, not 89)\n",
      "- 74 + 54 - 6\n",
      "-> Success\n",
      " (not 62 - 60 = 6)\n",
      "- 84 - 60 + 38 = 24 +\n",
      "-> Success\n",
      " (not 81)\n",
      "- 81 - 55 + 13 = 26 + 13 = 39\n",
      "-> Success\n",
      " (not 92 - 25 = 67)\n",
      "- 83 - 67 + 58 = 16\n"
     ]
    },
    {
     "name": "stderr",
     "output_type": "stream",
     "text": [
      "\r",
      " 36%|█████████████████████████████████████████████████████████████████▉                                                                                                                     | 27/75 [04:13<07:12,  9.01s/it]"
     ]
    },
    {
     "name": "stdout",
     "output_type": "stream",
     "text": [
      "-> Success\n",
      " (not 52)\n",
      "- 39 + 35 - 22 = 74 - 22 = 52\n",
      "-> Success\n",
      " (not 48)\n",
      "- 51 + 9 - 6 = 60 - 6 = 54 (not \n",
      "-> Success\n",
      " (not 40)\n",
      "- 50 - 26 + 16 = 24 + 16 = 40\n",
      "-> Success\n",
      " (not 80)\n",
      "- 81 - 77 + 38 = 4 + 38 = 42 (\n"
     ]
    },
    {
     "name": "stderr",
     "output_type": "stream",
     "text": [
      "\r",
      " 37%|████████████████████████████████████████████████████████████████████▎                                                                                                                  | 28/75 [04:21<06:53,  8.79s/it]"
     ]
    },
    {
     "name": "stdout",
     "output_type": "stream",
     "text": [
      "-> Success\n",
      " (not 47)\n",
      "- 71 - 41 + 17 = 30 + 17 = 47\n",
      "-> Success\n",
      " (not 60)\n",
      "- 89 - 36 - 16 + 23 = 53 - 16\n",
      "-> Success\n",
      " (not 27)\n",
      "- 96 - 83 + 14 = 13 + 14 = 27\n",
      "-> Success\n",
      " (not 32)\n",
      "- 58 - 25 + 1 = 33 + 1 = 34 (not\n"
     ]
    },
    {
     "name": "stderr",
     "output_type": "stream",
     "text": [
      "\r",
      " 39%|██████████████████████████████████████████████████████████████████████▊                                                                                                                | 29/75 [04:30<06:45,  8.82s/it]"
     ]
    },
    {
     "name": "stdout",
     "output_type": "stream",
     "text": [
      "-> Success\n",
      " (not 82)\n",
      "- 78 + 60 + 56 = 138 + 56 = 1\n",
      "-> Success\n",
      " (not 89)\n",
      "- 82 + 43 + 36 = 125 + 36 = 1\n",
      "-> OOD (success); offending token(s): ['try', 'again']\n",
      " (not 10, try again)\n",
      "- 83 - 71 + 1 = 12 + 1 = 1\n",
      "-> Success\n",
      " (not 35)\n",
      "- 33 + 12 + 10 = 45 + 10 = 55\n"
     ]
    },
    {
     "name": "stderr",
     "output_type": "stream",
     "text": [
      "\r",
      " 40%|█████████████████████████████████████████████████████████████████████████▏                                                                                                             | 30/75 [04:38<06:32,  8.71s/it]"
     ]
    },
    {
     "name": "stdout",
     "output_type": "stream",
     "text": [
      "-> Success\n",
      " (not 67)\n",
      "- 72 - 56 + 51 = 16 + 51 = 67\n",
      "-> Success\n",
      " (not 53)\n",
      "- 64 - 38 - 3 + 7 = 26 - 3 + 7\n",
      "-> Success\n",
      " (not 58)\n",
      "- 39 * 16 / 3 = 624 / 3 = 208\n",
      "-> Success\n",
      " (not 45 - 67 + 26)\n",
      "- 86 - 67 + 26 = 19\n"
     ]
    },
    {
     "name": "stderr",
     "output_type": "stream",
     "text": [
      "\r",
      " 41%|███████████████████████████████████████████████████████████████████████████▋                                                                                                           | 31/75 [04:49<06:55,  9.44s/it]"
     ]
    },
    {
     "name": "stdout",
     "output_type": "stream",
     "text": [
      "-> Success\n",
      " (not 94)\n",
      "- 60 + 56 - 43 + 21 = 116 - 4\n",
      "-> OOD (success); offending token(s): ['correct', 'order']\n",
      " (not correct order)\n",
      "- 96 + 76 - 54 + 37 = 172 - 54\n",
      "-> Success\n",
      " (not 41)\n",
      "- 52 + 25 - 14 = 77 - 14 = 63\n",
      "-> Success\n",
      " (not 91)\n",
      "- 99 - 61 + 53 = 38 + 53 = 91\n"
     ]
    },
    {
     "name": "stderr",
     "output_type": "stream",
     "text": [
      "\r",
      " 43%|██████████████████████████████████████████████████████████████████████████████                                                                                                         | 32/75 [04:59<06:49,  9.53s/it]"
     ]
    },
    {
     "name": "stdout",
     "output_type": "stream",
     "text": [
      "-> Success\n",
      " (not 96)\n",
      "- 80 + 61 - 45 = 141 - 45 = 9\n",
      "-> Success\n",
      " (not 80)\n",
      "- 60 + 37 + 18 - 1 = 97 + 18 -\n",
      "-> Success\n",
      " (not 41)\n",
      "- 84 - 79 + 51 - 15 = 5 + 51 -\n",
      "-> Success\n",
      " (not 55)\n",
      "- (10 * 34) - 7 = (340) - 7 = 3\n"
     ]
    },
    {
     "name": "stderr",
     "output_type": "stream",
     "text": [
      "\r",
      " 44%|████████████████████████████████████████████████████████████████████████████████▌                                                                                                      | 33/75 [05:08<06:34,  9.38s/it]"
     ]
    },
    {
     "name": "stdout",
     "output_type": "stream",
     "text": [
      "-> Success\n",
      " (not 65)\n",
      "- 92 + 26 + 53 = 118 + 53 = 1\n",
      "-> Success\n",
      " (not 80)\n",
      "- 64 + 57 - 87 = 121 - 87 = 3\n",
      "-> Success\n",
      " (not 36 (4 + 25 - 57))\n",
      "- 57 - 25 + 4 = 3\n",
      "-> Success\n",
      " (not 80)\n",
      "- 67 + 40 + 27 = 107 + 27 = 1\n"
     ]
    },
    {
     "name": "stderr",
     "output_type": "stream",
     "text": [
      "\r",
      " 45%|██████████████████████████████████████████████████████████████████████████████████▉                                                                                                    | 34/75 [05:18<06:37,  9.70s/it]"
     ]
    },
    {
     "name": "stdout",
     "output_type": "stream",
     "text": [
      "-> Success\n",
      " (not 73)\n",
      "- 37 + 39 - 3 = 76 - 3 = 73 (not\n",
      "-> Success\n",
      " (not 80)\n",
      "- 61 + 29 + 10 = 90 + 10 = 10\n",
      "-> OOD (mix); offending token(s): ['correct', 'combination']\n",
      " (not 66)\n",
      "So, the correct combination is 96 * 55 / 80 = 66.\n",
      "</think\n",
      "-> OOD (success); offending token(s): ['Therefore']\n",
      " (not 97)\n",
      "So, the equation that equals 97 is 78 + 76 - 57. Therefore,\n"
     ]
    },
    {
     "name": "stderr",
     "output_type": "stream",
     "text": [
      "\r",
      " 47%|█████████████████████████████████████████████████████████████████████████████████████▍                                                                                                 | 35/75 [05:27<06:17,  9.44s/it]"
     ]
    },
    {
     "name": "stdout",
     "output_type": "stream",
     "text": [
      "-> Success\n",
      " (not 35)\n",
      "- 90 - 41 + 96 = 49 + 96 = 14\n",
      "-> OOD (success); offending token(s): ['but', 'let', 's', 'check', 'other', 'combination']\n",
      " (not 20, but let's check the other combination)\n",
      "- 67 - 49 + 2 = 18 +\n",
      "-> Success\n",
      " (not -15 + 26 + 20 = -31 + 20 = -11 + 20 =\n",
      "-> Success\n",
      " (not 59)\n",
      "- 87 + 34 - 6 = 121 - 6 = 115\n"
     ]
    },
    {
     "name": "stderr",
     "output_type": "stream",
     "text": [
      "\r",
      " 48%|███████████████████████████████████████████████████████████████████████████████████████▊                                                                                               | 36/75 [05:35<05:50,  8.99s/it]"
     ]
    },
    {
     "name": "stdout",
     "output_type": "stream",
     "text": [
      "-> OOD (success); offending token(s): ['correct', 'order', 'wrong']\n",
      " (not correct, order is wrong)\n",
      "- 93 - 78 + 10 = 15 + 10 = \n",
      "-> Success\n",
      " (not 38 - 16 = 22)\n",
      "- 99 - 45 + 16 = 54\n",
      "-> OOD (success); offending token(s): ['but', 'in', 'a', 'different', 'order']\n",
      " (not 20, but in a different order)\n",
      "- 57 - 39 + 2 = 18 + 2\n",
      "-> Success\n",
      " (not 28)\n",
      "- 69 - 49 + 8 = 20 + 8 = 28 (not\n"
     ]
    },
    {
     "name": "stderr",
     "output_type": "stream",
     "text": [
      "\r",
      " 49%|██████████████████████████████████████████████████████████████████████████████████████████▎                                                                                            | 37/75 [05:46<05:58,  9.44s/it]"
     ]
    },
    {
     "name": "stdout",
     "output_type": "stream",
     "text": [
      "-> Success\n",
      " (not 93 - 57 = 36)\n",
      "- 99 - 57 + 51 = 42\n",
      "-> Success\n",
      " (not 82)\n",
      "- 99 + 60 - 43 = 159 - 43 = 1\n",
      "-> Success\n",
      " (not 91)\n",
      "- 51 + 30 + 30 - 13 = 81 + 30\n",
      "-> Success\n",
      " (not 43)\n",
      "- 92 - 16 - 43 + 10 = 76 - 43\n"
     ]
    },
    {
     "name": "stderr",
     "output_type": "stream",
     "text": [
      "\r",
      " 51%|████████████████████████████████████████████████████████████████████████████████████████████▋                                                                                          | 38/75 [05:55<05:49,  9.44s/it]"
     ]
    },
    {
     "name": "stdout",
     "output_type": "stream",
     "text": [
      "-> OOD (success); offending token(s): ['but']\n",
      " (not 38, but 30)\n",
      "So, the equation that equals 30 is 94 - 46 - \n",
      "-> Success\n",
      " (not 50)\n",
      "- 60 / 12 + 22 - 12 = 5 + 22 -\n",
      "-> Success\n",
      " (not 97)\n",
      "- 64 + 62 - 29 = 126 - 29 = 9\n",
      "-> Success\n",
      " (not 0)\n",
      "- 91 + 85 - 91 - 4 = 176 - 91 -\n"
     ]
    },
    {
     "name": "stderr",
     "output_type": "stream",
     "text": [
      "\r",
      " 52%|███████████████████████████████████████████████████████████████████████████████████████████████▏                                                                                       | 39/75 [06:05<05:44,  9.58s/it]"
     ]
    },
    {
     "name": "stdout",
     "output_type": "stream",
     "text": [
      "-> Success\n",
      " (not 25)\n",
      "- 61 - 45 + 9 = 16 + 9 = 25 (not\n",
      "-> OOD (success); offending token(s): ['this', 'closer', 'but', 'exact']\n",
      " (not 69 - this is closer but not exact)\n",
      "- 71 - 13 + 11 = 89 (\n",
      "-> Success\n",
      " (not 83)\n",
      "- 69 + 32 + 18 = 101 + 18 = 1\n",
      "-> Success\n",
      " (not 23)\n",
      "- 70 + 59 - 34 - 22 = 129 - 3\n"
     ]
    },
    {
     "name": "stderr",
     "output_type": "stream",
     "text": [
      "\r",
      " 53%|█████████████████████████████████████████████████████████████████████████████████████████████████▌                                                                                     | 40/75 [06:14<05:23,  9.24s/it]"
     ]
    },
    {
     "name": "stdout",
     "output_type": "stream",
     "text": [
      "-> Success\n",
      " (not 28)\n",
      "- 83 - 82 + 68 - 41 = 1 + 68 -\n",
      "-> Success\n",
      " (not 37)\n",
      "- 88 - 82 + 80 - 49 = 6 + 80 -\n",
      "-> Success\n",
      " (not 74)\n",
      "- 56 * 1 - 17 = 56 - 17 = 39 (\n",
      "-> Success\n",
      " (not 95 - 17 = 78)\n",
      "- 56 + 17 + 56 = 12\n"
     ]
    },
    {
     "name": "stderr",
     "output_type": "stream",
     "text": [
      "\r",
      " 55%|████████████████████████████████████████████████████████████████████████████████████████████████████                                                                                   | 41/75 [06:24<05:21,  9.45s/it]"
     ]
    },
    {
     "name": "stdout",
     "output_type": "stream",
     "text": [
      "-> Success\n",
      " (not 98)\n",
      "- 92 + 1 * 5 = 92 + 5 = 97 (not \n",
      "-> Success\n",
      " (not 42)\n",
      "- 99 - 75 + 18 = 24 + 18 = 42\n",
      "-> Success\n",
      " (not 76)\n",
      "- 46 * 1 - 29 = 46 - 29 = 17 (\n",
      "-> OOD (mix); offending token(s): ['correct', 'combination', 'which']\n",
      " (not 38)\n",
      "So, the correct combination is 21 + 13 + 4, which equals 38.\n",
      "</\n"
     ]
    },
    {
     "name": "stderr",
     "output_type": "stream",
     "text": [
      "\r",
      " 56%|██████████████████████████████████████████████████████████████████████████████████████████████████████▍                                                                                | 42/75 [06:33<05:15,  9.57s/it]"
     ]
    },
    {
     "name": "stdout",
     "output_type": "stream",
     "text": [
      "-> Success\n",
      " (not 46)\n",
      "- 71 + 65 - 26 - 14 = 136 - 2\n",
      "-> Success\n",
      " (not 89)\n",
      "- 96 + 35 - 28 = 131 - 28 = 1\n",
      "-> Success\n",
      " (not 87)\n",
      "- 71 + 49 + 33 = 110 + 33 = 1\n",
      "-> OOD (success); offending token(s): ['this', 'actually']\n",
      " (not 25 - this is actually 35)\n",
      "- 59 - 47 + 13 = 12 +\n"
     ]
    },
    {
     "name": "stderr",
     "output_type": "stream",
     "text": [
      "\r",
      " 57%|████████████████████████████████████████████████████████████████████████████████████████████████████████▉                                                                              | 43/75 [06:42<05:00,  9.39s/it]"
     ]
    },
    {
     "name": "stdout",
     "output_type": "stream",
     "text": [
      "-> OOD (success); offending token(s): ['but', 'close', 'let', 's', 'try', 'another', 'combination']\n",
      " (not 49, but close, let's try another combination)\n",
      "- 91 - 47 + 5 = 44\n",
      "-> Mix\n",
      " (not 64)\n",
      "So, the equation that equals 85 is 53 + 53 - 21.\n",
      "</think\n",
      "-> Success\n",
      " (not 89)\n",
      "- 78 + 67 - 56 = 145 - 56 = 8\n",
      "-> Success\n",
      " (not 76)\n",
      "- 68 + 54 - 46 = 122 - 46 = 7\n"
     ]
    },
    {
     "name": "stderr",
     "output_type": "stream",
     "text": [
      "\r",
      " 59%|███████████████████████████████████████████████████████████████████████████████████████████████████████████▎                                                                           | 44/75 [06:51<04:47,  9.28s/it]"
     ]
    },
    {
     "name": "stdout",
     "output_type": "stream",
     "text": [
      "-> Success\n",
      " (not 77)\n",
      "- 76 + 3 + 2 = 79 + 2 = 81 (not \n",
      "-> Success\n",
      " (not 63 - 49 = 12 - 32 = -20)\n",
      "- 80 - 49\n",
      "-> Success\n",
      " (not 14)\n",
      "- (5 * 4) - 20 = (20) - 20 = 0 (\n",
      "-> Success\n",
      " (not 94)\n",
      "- 87 + 22 + 15 = 109 + 15 = 1\n"
     ]
    },
    {
     "name": "stderr",
     "output_type": "stream",
     "text": [
      "\r",
      " 60%|█████████████████████████████████████████████████████████████████████████████████████████████████████████████▊                                                                         | 45/75 [07:00<04:32,  9.08s/it]"
     ]
    },
    {
     "name": "stdout",
     "output_type": "stream",
     "text": [
      "-> Success\n",
      " (not 79)\n",
      "- 64 + 43 + 28 = 107 + 28 = 1\n",
      "-> Success\n",
      " (not 27)\n",
      "- 66 - 59 + 20 = 7 + 20 = 27 (\n",
      "-> Success\n",
      " (not 38)\n",
      "- 49 - 41 + 30 = 8 + 30 = 38 (\n",
      "-> Success\n",
      " (not 90)\n",
      "- 98 - 86 + 78 = 12 + 78 = 90\n"
     ]
    },
    {
     "name": "stderr",
     "output_type": "stream",
     "text": [
      "\r",
      " 61%|████████████████████████████████████████████████████████████████████████████████████████████████████████████████▏                                                                      | 46/75 [07:11<04:38,  9.59s/it]"
     ]
    },
    {
     "name": "stdout",
     "output_type": "stream",
     "text": [
      "-> Success\n",
      " (not 53)\n",
      "- 55 + 35 - 25 - 12 = 90 - 25\n",
      "-> Success\n",
      " (not 100)\n",
      "- 97 + 35 + 32 = 132 + 32 = \n",
      "-> Success\n",
      " (not 82 - 23 + 19)\n",
      "- 86 + 23 - 19 = 10\n",
      "-> Success\n",
      " (not 88)\n",
      "- 78 + 52 - 63 + 21 = 130 - 6\n"
     ]
    },
    {
     "name": "stderr",
     "output_type": "stream",
     "text": [
      "\r",
      " 63%|██████████████████████████████████████████████████████████████████████████████████████████████████████████████████▋                                                                    | 47/75 [07:20<04:23,  9.41s/it]"
     ]
    },
    {
     "name": "stdout",
     "output_type": "stream",
     "text": [
      "-> OOD (success); offending token(s): ['try', 'again']\n",
      " (not 21, try again)\n",
      "- 50 - 25 + 2 = 25 + 2 = 2\n",
      "-> Mix\n",
      " (not -18)\n",
      "So, the equation that equals 24 is 93 - 90 + 21.\n",
      "</think\n",
      "-> Success\n",
      " (not 83)\n",
      "- 77 + 64 - 58 = 141 - 58 = 8\n",
      "-> Success\n",
      " (not 97)\n",
      "- 92 + 61 + 56 = 153 + 56 = 2\n"
     ]
    },
    {
     "name": "stderr",
     "output_type": "stream",
     "text": [
      "\r",
      " 64%|█████████████████████████████████████████████████████████████████████████████████████████████████████████████████████                                                                  | 48/75 [07:28<04:07,  9.16s/it]"
     ]
    },
    {
     "name": "stdout",
     "output_type": "stream",
     "text": [
      "-> Success\n",
      " (not 74)\n",
      "- 52 + 40 + 18 = 92 + 18 = 11\n",
      "-> Success\n",
      " (not 14)\n",
      "- 46 - 43 + 11 = 3 + 11 = 14 (\n",
      "-> OOD (success); offending token(s): ['this', 'actually']\n",
      " (not 64 - this is actually 84)\n",
      "- 96 - 50 + 18 = 46 +\n",
      "-> Success\n",
      " (not 54)\n",
      "- 36 + 31 - 13 = 67 - 13 = 54\n"
     ]
    },
    {
     "name": "stderr",
     "output_type": "stream",
     "text": [
      "\r",
      " 65%|███████████████████████████████████████████████████████████████████████████████████████████████████████████████████████▌                                                               | 49/75 [07:37<03:54,  9.01s/it]"
     ]
    },
    {
     "name": "stdout",
     "output_type": "stream",
     "text": [
      "-> Success\n",
      " (not 37)\n",
      "- 77 - 63 + 23 = 14 + 23 = 37\n",
      "-> OOD (success); offending token(s): ['this', 'closer', 'but', 'exact']\n",
      " (not 92 - this is closer but not exact)\n",
      "- 75 + 9 + 26 = 100 +\n",
      "-> Success\n",
      " (not 96)\n",
      "- 97 + 21 - 20 = 118 - 20 = 9\n",
      "-> Success\n",
      " (not 53)\n",
      "- 91 - 45 + 7 = 46 + 7 = 53 (not\n"
     ]
    },
    {
     "name": "stderr",
     "output_type": "stream",
     "text": [
      "\r",
      " 67%|██████████████████████████████████████████████████████████████████████████████████████████████████████████████████████████                                                             | 50/75 [07:47<03:56,  9.47s/it]"
     ]
    },
    {
     "name": "stdout",
     "output_type": "stream",
     "text": [
      "-> OOD (success); offending token(s): ['this']\n",
      " (not 75 - this is 105)\n",
      "- 97 - 52 + 30 = 45 +\n",
      "-> Success\n",
      " (not 43)\n",
      "- 61 - 33 + 15 = 28 + 15 = 43\n",
      "-> Success\n",
      " (not 42)\n",
      "- 87 + 72 - 28 - 1 = 159 - 28\n",
      "-> Success\n",
      " (not 23)\n",
      "- 30 + 20 - 13 = 50 - 13 = 37\n"
     ]
    },
    {
     "name": "stderr",
     "output_type": "stream",
     "text": [
      "\r",
      " 68%|████████████████████████████████████████████████████████████████████████████████████████████████████████████████████████████▍                                                          | 51/75 [07:56<03:40,  9.20s/it]"
     ]
    },
    {
     "name": "stdout",
     "output_type": "stream",
     "text": [
      "-> Success\n",
      " (not 80)\n",
      "- 99 + 42 - 23 = 141 - 23 = 1\n",
      "-> Success\n",
      " (not 24)\n",
      "- 45 - 36 + 15 = 9 + 15 = 24 (\n",
      "-> Success\n",
      " (not 97)\n",
      "- 94 + 4 + 1 = 98 + 1 = 99 (not \n",
      "-> Success\n",
      " (not 83)\n",
      "- 75 + 48 + 40 = 123 + 40 = 1\n"
     ]
    },
    {
     "name": "stderr",
     "output_type": "stream",
     "text": [
      "\r",
      " 69%|██████████████████████████████████████████████████████████████████████████████████████████████████████████████████████████████▉                                                        | 52/75 [08:07<03:41,  9.64s/it]"
     ]
    },
    {
     "name": "stdout",
     "output_type": "stream",
     "text": [
      "-> OOD (success); offending token(s): ['try', 'again']\n",
      " (not 40, try again)\n",
      "- 91 - 34 + 7 = 57 + 7 = 6\n",
      "-> Success\n",
      " (not 90)\n",
      "- 90 - 87 + 51 = 3 + 51 = 54 (\n",
      "-> Success\n",
      " (not 79)\n",
      "- 57 + 37 + 40 - 25 = 94 + 40\n",
      "-> Success\n",
      " (not 47)\n",
      "- 56 - 60 + 51 = 56 - 60 + 51\n"
     ]
    },
    {
     "name": "stderr",
     "output_type": "stream",
     "text": [
      "\r",
      " 71%|█████████████████████████████████████████████████████████████████████████████████████████████████████████████████████████████████▎                                                     | 53/75 [08:16<03:29,  9.51s/it]"
     ]
    },
    {
     "name": "stdout",
     "output_type": "stream",
     "text": [
      "-> Success\n",
      " (not 58)\n",
      "- 40 + 22 + 4 = 62 + 4 = 66 (not\n",
      "-> Success\n",
      " (not 53)\n",
      "- 34 + 31 - 50 = 45 - 50 = -5 (\n",
      "-> OOD (success); offending token(s): ['but', 'close', 'let', 's', 'try', 'another', 'combination']\n",
      " (not 50, but close, let's try another combination)\n",
      "- 75 - 31 + 6 = 44\n",
      "-> OOD (success); offending token(s): ['correct', 'order']\n",
      " (not correct order)\n",
      "- 57 + 47 - 23 = 104 - 23 = 81\n"
     ]
    },
    {
     "name": "stderr",
     "output_type": "stream",
     "text": [
      "\r",
      " 72%|███████████████████████████████████████████████████████████████████████████████████████████████████████████████████████████████████▊                                                   | 54/75 [08:24<03:11,  9.11s/it]"
     ]
    },
    {
     "name": "stdout",
     "output_type": "stream",
     "text": [
      "-> Success\n",
      " (not 74)\n",
      "- 89 - 76 + 61 = 13 + 61 = 74\n",
      "-> Success\n",
      " (not 15)\n",
      "- 99 - 64 + 20 = 35 + 20 = 55\n",
      "-> Success\n",
      " (not 16)\n",
      "- 81 - 71 + 6 = 10 + 6 = 16 (not\n",
      "-> Success\n",
      " (not 75)\n",
      "- 79 - 51 + 47 = 28 + 47 = 75\n"
     ]
    },
    {
     "name": "stderr",
     "output_type": "stream",
     "text": [
      "\r",
      " 73%|██████████████████████████████████████████████████████████████████████████████████████████████████████████████████████████████████████▏                                                | 55/75 [08:33<02:59,  8.95s/it]"
     ]
    },
    {
     "name": "stdout",
     "output_type": "stream",
     "text": [
      "-> Success\n",
      " (not 98)\n",
      "- 91 + 34 + 27 = 128 + 27 = 1\n",
      "-> Success\n",
      " (not 24)\n",
      "- 55 - 48 + 17 = 7 + 17 = 24 (\n",
      "-> Success\n",
      " (not 12)\n",
      "- 72 - 59 - 30 + 29 = 13 - 30\n",
      "-> OOD (success); offending token(s): ['as', 'we', 'need', 'to', 'try', 'all', 'combinations']\n",
      " (not 21, as we need to try all combinations)\n",
      "- 83 - 57 + 5 = 26 +\n"
     ]
    },
    {
     "name": "stderr",
     "output_type": "stream",
     "text": [
      "\r",
      " 75%|████████████████████████████████████████████████████████████████████████████████████████████████████████████████████████████████████████▋                                              | 56/75 [08:45<03:08,  9.92s/it]"
     ]
    },
    {
     "name": "stdout",
     "output_type": "stream",
     "text": [
      "-> Success\n",
      " (not 90 - 76 + 73)\n",
      "- 93 - 76 + 73 = 17\n",
      "-> Success\n",
      " (not 29)\n",
      "- 20 + 10 + 1 = 31 (not 29)\n",
      "- 2\n",
      "-> Success\n",
      " (not 41)\n",
      "- 58 - 52 + 35 = 6 + 35 = 41 (\n",
      "-> Success\n",
      " (not 72)\n",
      "- 45 + 28 - 2 + 1 = 73 - 2 + 1\n"
     ]
    },
    {
     "name": "stderr",
     "output_type": "stream",
     "text": [
      "\r",
      " 76%|███████████████████████████████████████████████████████████████████████████████████████████████████████████████████████████████████████████                                            | 57/75 [08:56<03:07, 10.42s/it]"
     ]
    },
    {
     "name": "stdout",
     "output_type": "stream",
     "text": [
      "-> Success\n",
      " (not 70)\n",
      "- 92 + 26 + 48 = 118 + 48 = 1\n",
      "-> Success\n",
      " (not 14)\n",
      "- 49 - 21 + 15 = 28 + 15 = 43\n",
      "-> Success\n",
      " (not 46)\n",
      "- 72 + 18 + 44 = 84 + 44 = 12\n",
      "-> Success\n",
      " (not 40)\n",
      "- 60 + 34 + 86 - 32 = 94 + 86\n"
     ]
    },
    {
     "name": "stderr",
     "output_type": "stream",
     "text": [
      "\r",
      " 77%|█████████████████████████████████████████████████████████████████████████████████████████████████████████████████████████████████████████████▌                                         | 58/75 [09:07<02:59, 10.55s/it]"
     ]
    },
    {
     "name": "stdout",
     "output_type": "stream",
     "text": [
      "-> Success\n",
      " (not 73 - 26 = 47)\n",
      "- 59 + 26 + 40 = 85\n",
      "-> OOD (success); offending token(s): ['this', 'actually']\n",
      " (not 66 - this is actually 96 - 31 = 65)\n",
      "- 68 - 37 +\n",
      "-> OOD (mix); offending token(s): ['correct', 'which']\n",
      " (not 91)\n",
      "So, the correct equation is 63 * 3 - 98, which equals 189 -\n",
      "-> Success\n",
      " (not 43)\n",
      "- 86 + 11 + 54 = 97 + 54 = 15\n"
     ]
    },
    {
     "name": "stderr",
     "output_type": "stream",
     "text": [
      "\r",
      " 79%|███████████████████████████████████████████████████████████████████████████████████████████████████████████████████████████████████████████████▉                                       | 59/75 [09:18<02:48, 10.56s/it]"
     ]
    },
    {
     "name": "stdout",
     "output_type": "stream",
     "text": [
      "-> Success\n",
      " (not 68)\n",
      "- 51 + 35 + 18 = 86 + 18 = 10\n",
      "-> Success\n",
      " (not 68)\n",
      "- 49 + 33 - 19 + 5 = 82 - 19 +\n",
      "-> Success\n",
      " (not 68)\n",
      "- 78 - 51 + 41 = 27 + 41 = 68\n",
      "-> Success\n",
      " (not 60)\n",
      "- 52 + 45 - 37 = 97 - 37 = 60\n"
     ]
    },
    {
     "name": "stderr",
     "output_type": "stream",
     "text": [
      "\r",
      " 80%|██████████████████████████████████████████████████████████████████████████████████████████████████████████████████████████████████████████████████▍                                    | 60/75 [09:29<02:40, 10.71s/it]"
     ]
    },
    {
     "name": "stdout",
     "output_type": "stream",
     "text": [
      "-> Success\n",
      " (not 31)\n",
      "- 79 - 32 + 8 = 47 + 8 = 55 (not\n",
      "-> Success\n",
      " (not 67)\n",
      "- 42 + 45 - 20 = 87 - 20 = 67\n",
      "-> Success\n",
      " (not 54 - 57 + 41)\n",
      "- 70 - 57 + 41 = 54\n",
      "-> OOD (success); offending token(s): ['this', 'actually']\n",
      " (not 64 - this is actually 64)\n",
      "So, the equation that equals 64 is 71 - 43\n"
     ]
    },
    {
     "name": "stderr",
     "output_type": "stream",
     "text": [
      "\r",
      " 81%|████████████████████████████████████████████████████████████████████████████████████████████████████████████████████████████████████████████████████▊                                  | 61/75 [09:37<02:20, 10.06s/it]"
     ]
    },
    {
     "name": "stdout",
     "output_type": "stream",
     "text": [
      "-> Success\n",
      " (not 55)\n",
      "- 78 - 77 + 27 = 1 - 77 + 27 =\n",
      "-> Success\n",
      " (not 92)\n",
      "- 53 + 41 + 2 = 94 + 2 = 96 (not\n",
      "-> Success\n",
      " (not 18)\n",
      "- 42 - 48 + 24 = -6 + 24 = 18 (\n",
      "-> Success\n",
      " (not 70)\n",
      "- 86 - 77 + 61 = 9 + 61 = 70 (\n"
     ]
    },
    {
     "name": "stderr",
     "output_type": "stream",
     "text": [
      "\r",
      " 83%|███████████████████████████████████████████████████████████████████████████████████████████████████████████████████████████████████████████████████████▎                               | 62/75 [09:46<02:05,  9.62s/it]"
     ]
    },
    {
     "name": "stdout",
     "output_type": "stream",
     "text": [
      "-> OOD (success); offending token(s): ['try', 'again']\n",
      " (not 31, try again)\n",
      "- 96 - 29 + 15 = 67 + 15 =\n",
      "-> Success\n",
      " (not 67)\n",
      "- 91 + 54 - 30 = 145 - 30 = 1\n",
      "-> Success\n",
      " (not 92)\n",
      "- 42 * 27 / 23 = 1134 / 23 = \n",
      "-> Success\n",
      " (not 21)\n",
      "- 69 - 46 - 6 + 4 = 23 - 6 + 4\n"
     ]
    },
    {
     "name": "stderr",
     "output_type": "stream",
     "text": [
      "\r",
      " 84%|█████████████████████████████████████████████████████████████████████████████████████████████████████████████████████████████████████████████████████████▋                             | 63/75 [09:55<01:53,  9.46s/it]"
     ]
    },
    {
     "name": "stdout",
     "output_type": "stream",
     "text": [
      "-> Success\n",
      " (not 71)\n",
      "- 50 - 4 + 26 - 1 = 50 - 4 + 2\n",
      "-> Success\n",
      " (not 66)\n",
      "- 84 - 59 - 18 + 59 = 25 - 18\n",
      "-> Success\n",
      " (not 26)\n",
      "- 16 + 18 * 8 = 16 + 144 = 16\n",
      "-> Success\n",
      " (not 80)\n",
      "- 70 + 11 * 1 = 70 + 11 * 1 = \n"
     ]
    },
    {
     "name": "stderr",
     "output_type": "stream",
     "text": [
      "\r",
      " 85%|████████████████████████████████████████████████████████████████████████████████████████████████████████████████████████████████████████████████████████████▏                          | 64/75 [10:06<01:48,  9.82s/it]"
     ]
    },
    {
     "name": "stdout",
     "output_type": "stream",
     "text": [
      "-> Success\n",
      " (not 80)\n",
      "- 90 - 86 + 76 = 4 + 76 = 80 (\n",
      "-> Success\n",
      " (not 21)\n",
      "- 88 - 89 + 20 = -1 + 20 = 19 (\n",
      "-> Success\n",
      " (not 77)\n",
      "- 93 - 57 + 41 = 36 + 41 = 77\n",
      "-> Success\n",
      " (not 95)\n",
      "- 85 + 80 - 50 - 20 = 165 - 5\n"
     ]
    },
    {
     "name": "stderr",
     "output_type": "stream",
     "text": [
      "\r",
      " 87%|██████████████████████████████████████████████████████████████████████████████████████████████████████████████████████████████████████████████████████████████▌                        | 65/75 [10:16<01:39,  9.94s/it]"
     ]
    },
    {
     "name": "stdout",
     "output_type": "stream",
     "text": [
      "-> Success\n",
      " (not 40)\n",
      "- 69 - 46 + 17 = 23 + 17 = 40\n",
      "-> Success\n",
      " (not 90)\n",
      "- 91 + 61 - 60 = 152 - 60 = 9\n",
      "-> Success\n",
      " (not 34)\n",
      "- 76 + 47 - 42 - 37 = 123 - 4\n",
      "-> Success\n",
      " (not 15)\n",
      "- 31 - 33 + 17 = -2 + 17 = 15 (\n"
     ]
    },
    {
     "name": "stderr",
     "output_type": "stream",
     "text": [
      "\r",
      " 88%|█████████████████████████████████████████████████████████████████████████████████████████████████████████████████████████████████████████████████████████████████                      | 66/75 [10:24<01:24,  9.40s/it]"
     ]
    },
    {
     "name": "stdout",
     "output_type": "stream",
     "text": [
      "-> Success\n",
      " (not 30)\n",
      "- 84 - 50 - 12 + 8 = 34 - 12 +\n",
      "-> Success\n",
      " (not 75)\n",
      "- 86 - 62 + 51 = 24 + 51 = 75\n",
      "-> OOD (success); offending token(s): ['this']\n",
      " (not 44 - this is 44)\n",
      "- 40 + 7 + 11 = 58 (not \n",
      "-> Success\n",
      " (not 98)\n",
      "- 90 + 12 + 4 = 102 + 4 = 106\n"
     ]
    },
    {
     "name": "stderr",
     "output_type": "stream",
     "text": [
      "\r",
      " 89%|███████████████████████████████████████████████████████████████████████████████████████████████████████████████████████████████████████████████████████████████████▍                   | 67/75 [10:33<01:14,  9.31s/it]"
     ]
    },
    {
     "name": "stdout",
     "output_type": "stream",
     "text": [
      "-> Success\n",
      " (not 46)\n",
      "- 74 - 61 + 33 = 13 + 33 = 46\n",
      "-> Success\n",
      " (not 16)\n",
      "- 75 - 53 - 7 + 1 = 22 - 7 + 1\n",
      "-> Success\n",
      " (not 17)\n",
      "- 98 - 83 + 63 - 65 = 15 + 63\n",
      "-> Success\n",
      " (not 67)\n",
      "- 46 + 45 - 24 = 91 - 24 = 67\n"
     ]
    },
    {
     "name": "stderr",
     "output_type": "stream",
     "text": [
      "\r",
      " 91%|█████████████████████████████████████████████████████████████████████████████████████████████████████████████████████████████████████████████████████████████████████▉                 | 68/75 [10:42<01:03,  9.09s/it]"
     ]
    },
    {
     "name": "stdout",
     "output_type": "stream",
     "text": [
      "-> Success\n",
      " (not 28)\n",
      "- 86 - 37 + 21 = 49 + 21 = 70\n",
      "-> Success\n",
      " (not 55)\n",
      "- 60 + 15 + 20 = 75 + 20 = 95\n",
      "-> Success\n",
      " (not 43)\n",
      "- 93 - 65 - 10 + 2 = 28 - 10 +\n",
      "-> Success\n",
      " (not 73)\n",
      "- 20 * 4 + 7 = 80 + 7 = 87 (not \n"
     ]
    },
    {
     "name": "stderr",
     "output_type": "stream",
     "text": [
      "\r",
      " 92%|████████████████████████████████████████████████████████████████████████████████████████████████████████████████████████████████████████████████████████████████████████▎              | 69/75 [10:52<00:57,  9.53s/it]"
     ]
    },
    {
     "name": "stdout",
     "output_type": "stream",
     "text": [
      "-> Success\n",
      " (not 12)\n",
      "- 95 - 85 + 18 + 16 = 10 + 18\n",
      "-> Success\n",
      " (not 84)\n",
      "- 60 + 34 + 10 = 94 + 10 = 10\n",
      "-> Success\n",
      " (not 78)\n",
      "- 81 + 40 + 80 - 43 = 121 + 8\n",
      "-> OOD (success); offending token(s): ['but', 'close', 'let', 's', 'try', 'another', 'combination']\n",
      " (not 18, but close, let's try another combination)\n",
      "- 82 - 41 + 23 = 4\n"
     ]
    },
    {
     "name": "stderr",
     "output_type": "stream",
     "text": [
      "\r",
      " 93%|██████████████████████████████████████████████████████████████████████████████████████████████████████████████████████████████████████████████████████████████████████████▊            | 70/75 [11:03<00:48,  9.76s/it]"
     ]
    },
    {
     "name": "stdout",
     "output_type": "stream",
     "text": [
      "-> Success\n",
      " (not 82)\n",
      "- 94 - 66 + 54 = 28 + 54 = 82\n",
      "-> Success\n",
      " (not 79)\n",
      "- 50 - 15 - 12 + 56 = 35 - 12\n",
      "-> Success\n",
      " (not 73)\n",
      "- 86 + 19 - 8 + 2 = 105 - 8 + \n",
      "-> Success\n",
      " (not 97)\n",
      "- 90 + 58 + 51 = 148 + 51 = 1\n"
     ]
    },
    {
     "name": "stderr",
     "output_type": "stream",
     "text": [
      "\r",
      " 95%|█████████████████████████████████████████████████████████████████████████████████████████████████████████████████████████████████████████████████████████████████████████████▏         | 71/75 [11:13<00:40, 10.04s/it]"
     ]
    },
    {
     "name": "stdout",
     "output_type": "stream",
     "text": [
      "-> OOD (success); offending token(s): ['this', 'actually']\n",
      " (not 71 - this is actually 71)\n",
      "So, the equation that equals 71 is 82 - 18\n",
      "-> Mix\n",
      " (not 42)\n",
      "So, the equation that equals 17 is 97 - 75 - 5.\n",
      "</think>\n",
      "\n",
      "-> Success\n",
      " (not 80)\n",
      "- 99 - 50 + 31 = 49 + 31 = 80\n",
      "-> Success\n",
      " (not 78)\n",
      "- 87 + 97 - 88 = 184 - 88 = 9\n"
     ]
    },
    {
     "name": "stderr",
     "output_type": "stream",
     "text": [
      "\r",
      " 96%|███████████████████████████████████████████████████████████████████████████████████████████████████████████████████████████████████████████████████████████████████████████████▋       | 72/75 [11:23<00:29,  9.89s/it]"
     ]
    },
    {
     "name": "stdout",
     "output_type": "stream",
     "text": [
      "-> Success\n",
      " (not 58)\n",
      "- 73 + 64 - 53 - 4 = 137 - 53\n",
      "-> Success\n",
      " (not 85)\n",
      "- 95 - 84 + 94 = 11 + 94 = 10\n",
      "-> Success\n",
      " (not 66)\n",
      "- 62 + 7 * 3 = 62 + 21 = 83 (not\n",
      "-> Success\n",
      " (not 87)\n",
      "- 67 + 53 + 33 = 120 + 33 = 1\n"
     ]
    },
    {
     "name": "stderr",
     "output_type": "stream",
     "text": [
      "\r",
      " 97%|██████████████████████████████████████████████████████████████████████████████████████████████████████████████████████████████████████████████████████████████████████████████████     | 73/75 [11:32<00:18,  9.50s/it]"
     ]
    },
    {
     "name": "stdout",
     "output_type": "stream",
     "text": [
      "-> Success\n",
      " (not 59)\n",
      "- 73 - 44 + 30 = 29 + 30 = 59\n",
      "-> Success\n",
      " (not 17)\n",
      "- 49 - 26 + 6 = 23 + 6 = 29 (not\n",
      "-> Success\n",
      " (not 34)\n",
      "- 24 + 15 + 5 = 39 + 5 = 44 (not\n",
      "-> Success\n",
      " (not 30 (53-49)+58-24 = 4+58-24 = 62\n"
     ]
    },
    {
     "name": "stderr",
     "output_type": "stream",
     "text": [
      "\r",
      " 99%|████████████████████████████████████████████████████████████████████████████████████████████████████████████████████████████████████████████████████████████████████████████████████▌  | 74/75 [11:41<00:09,  9.41s/it]"
     ]
    },
    {
     "name": "stdout",
     "output_type": "stream",
     "text": [
      "-> OOD (success); offending token(s): ['this', 'actually']\n",
      " (not 56 - this is actually 56)\n",
      "So, the equation that equals 56 is 95 - 42\n",
      "-> Success\n",
      " (not 63)\n",
      "- 51 + 16 + 4 = 67 + 4 = 71 (not\n",
      "-> Success\n",
      " (not 34)\n",
      "- 59 - 35 + 10 = 24 + 10 = 34\n",
      "-> OOD (mix); offending token(s): ['correct', 'combination']\n",
      " (not 97)\n",
      "So, the correct combination is 53 + 49 - 5 = 102 - 5\n"
     ]
    },
    {
     "name": "stderr",
     "output_type": "stream",
     "text": [
      "100%|███████████████████████████████████████████████████████████████████████████████████████████████████████████████████████████████████████████████████████████████████████████████████████| 75/75 [11:50<00:00,  9.47s/it]"
     ]
    },
    {
     "name": "stdout",
     "output_type": "stream",
     "text": [
      "-> Success\n",
      " (not 92)\n",
      "- 84 + 27 + 19 = 111 + 19 = 1\n",
      "-> Success\n",
      " (not 91)\n",
      "- (3 * 4) + 29 = (12) + 29 = 41\n",
      "-> Success\n",
      " (not 71)\n",
      "- 84 + 60 - 47 = 144 - 47 = 9\n",
      "-> Success\n",
      " (not 77 - 41 + 24)\n",
      "- 94 - 41 + 24 = 53\n",
      "Attn verif success: 0.96\n",
      "Attn verif mix: 0.03666666666666667\n",
      "Attn verif fail: 0.0033333333333333335\n"
     ]
    },
    {
     "name": "stderr",
     "output_type": "stream",
     "text": [
      "\n"
     ]
    }
   ],
   "source": [
    "\n",
    "# Attention:\n",
    "\n",
    "print(\"Running Previous Token Heads\")\n",
    "hook_config, attn_pattern = build_attn_hook_config(\n",
    "   actor,\n",
    "   samples,\n",
    "   batch_size,\n",
    "   probe_model,\n",
    "   prev_token_thresh=0.1,\n",
    "   num_mlp_vecs=200,\n",
    ")\n",
    "print(hook_config)\n",
    "\n",
    "verif_attn_success, verif_attn_mix, verif_attn_fail = run(\n",
    "   actor,\n",
    "   samples,\n",
    "   hook_config,\n",
    "   batch_size,\n",
    ")\n",
    "print(f\"Attn verif success: {verif_attn_success}\")\n",
    "print(f\"Attn verif mix: {verif_attn_mix}\")\n",
    "print(f\"Attn verif fail: {verif_attn_fail}\")"
   ]
  },
  {
   "cell_type": "code",
   "execution_count": 51,
   "id": "28da3fec",
   "metadata": {
    "scrolled": true
   },
   "outputs": [
    {
     "name": "stdout",
     "output_type": "stream",
     "text": [
      "Running Verification Heads\n"
     ]
    },
    {
     "name": "stderr",
     "output_type": "stream",
     "text": [
      "  1%|██▍                                                                                                                                                                                     | 1/75 [00:14<17:16, 14.00s/it]"
     ]
    },
    {
     "name": "stdout",
     "output_type": "stream",
     "text": [
      "-> Success\n",
      " (not 36)\n",
      "- 79 - 60 + 17 = 19 + 17 = 36\n",
      "-> Success\n",
      " (not 28)\n",
      "- 40 * 14 - 20 = 560 - 20 = 5\n",
      "-> Success\n",
      " (not 39)\n",
      "- 84 - 83 + 72 - 34 = 1 + 72 -\n",
      "-> Success\n",
      " (not 73)\n",
      "- 78 + 45 + 50 = 123 + 50 = 1\n"
     ]
    },
    {
     "name": "stderr",
     "output_type": "stream",
     "text": [
      "\r",
      "  3%|████▉                                                                                                                                                                                   | 2/75 [00:22<13:15, 10.90s/it]"
     ]
    },
    {
     "name": "stdout",
     "output_type": "stream",
     "text": [
      "-> OOD (success); offending token(s): ['combination']\n",
      " (not 77)\n",
      "So, the combination 38 + 31 + 8 equals 77.\n",
      "</think>\n",
      "<answer\n",
      "-> Success\n",
      " (not 77)\n",
      "- 80 + 54 - 51 = 134 - 51 = 8\n",
      "-> Success\n",
      " (not 83 - 67 + 60)\n",
      "- 90 - 67 + 60 = 83\n",
      "-> OOD (success); offending token(s): ['but', 'close', 'let', 's', 'try', 'another', 'combination']\n",
      " (not 48, but close, let's try another combination)\n",
      "- 91 - 36 + 7 = 55\n"
     ]
    },
    {
     "name": "stderr",
     "output_type": "stream",
     "text": [
      "\r",
      "  4%|███████▎                                                                                                                                                                                | 3/75 [00:31<11:46,  9.81s/it]"
     ]
    },
    {
     "name": "stdout",
     "output_type": "stream",
     "text": [
      "-> Success\n",
      " (not 76)\n",
      "- 96 - 19 + 1 = 77 + 1 = 78 (not\n",
      "-> Success\n",
      " (not 53)\n",
      "- 96 + 69 - 26 = 165 - 26 = 1\n",
      "-> Success\n",
      " (not 58)\n",
      "- 98 - 57 + 97 = 41 + 97 = 13\n",
      "-> Success\n",
      " (not 71)\n",
      "- 57 + 10 * 4 = 57 + 40 = 97 (\n"
     ]
    },
    {
     "name": "stderr",
     "output_type": "stream",
     "text": [
      "\r",
      "  5%|█████████▊                                                                                                                                                                              | 4/75 [00:39<11:04,  9.36s/it]"
     ]
    },
    {
     "name": "stdout",
     "output_type": "stream",
     "text": [
      "-> Success\n",
      " (not 86)\n",
      "- 83 - 27 + 51 - 21 = 56 + 51\n",
      "-> OOD (success); offending token(s): ['possible', 'since', 'we', 'are', 'looking', 'for', 'an', 'operation', 'results', 'in']\n",
      " (not possible since we are looking for an operation that results in 13)\n",
      "- 85 - 61 + 11 =\n",
      "-> Success\n",
      " (not 84)\n",
      "- 82 + 72 - 70 = 154 - 70 = 8\n",
      "-> Success\n",
      " (not 46)\n",
      "- 95 - 69 + 20 = 26 + 20 = 46\n"
     ]
    },
    {
     "name": "stderr",
     "output_type": "stream",
     "text": [
      "\r",
      "  7%|████████████▎                                                                                                                                                                           | 5/75 [00:50<11:28,  9.83s/it]"
     ]
    },
    {
     "name": "stdout",
     "output_type": "stream",
     "text": [
      "-> Success\n",
      " (not 28)\n",
      "- 85 - 81 + 25 - 1 = 4 + 25 - \n",
      "-> Success\n",
      " (not 44 - 33 + 31)\n",
      "- 46 - 33 + 31 = 44\n",
      "-> Success\n",
      " (not 86)\n",
      "- 99 + 67 - 56 - 2 = 166 - 56\n",
      "-> Success\n",
      " (not 21)\n",
      "- 49 - 34 + 6 = 15 + 6 = 21 (not\n"
     ]
    },
    {
     "name": "stderr",
     "output_type": "stream",
     "text": [
      "\r",
      "  8%|██████████████▋                                                                                                                                                                         | 6/75 [00:59<10:57,  9.53s/it]"
     ]
    },
    {
     "name": "stdout",
     "output_type": "stream",
     "text": [
      "-> Success\n",
      " (not 97)\n",
      "- 62 + 3 * 32 = 62 + 96 = 158\n",
      "-> Success\n",
      " (not 18)\n",
      "- 61 - 27 + 16 = 34 + 16 = 50\n",
      "-> Success\n",
      " (not 86)\n",
      "- 91 + 61 + 66 = 152 + 66 = 2\n",
      "-> Success\n",
      " (not 78)\n",
      "- 52 + 51 - 25 = 103 - 25 = 7\n"
     ]
    },
    {
     "name": "stderr",
     "output_type": "stream",
     "text": [
      "\r",
      "  9%|█████████████████▏                                                                                                                                                                      | 7/75 [01:08<10:34,  9.34s/it]"
     ]
    },
    {
     "name": "stdout",
     "output_type": "stream",
     "text": [
      "-> Success\n",
      " (not 62)\n",
      "- 55 + 46 - 39 = 101 - 39 = 6\n",
      "-> Success\n",
      " (not 32)\n",
      "- 98 - 82 + 16 = 16 + 16 = 32\n",
      "-> Success\n",
      " (not 94)\n",
      "- 55 * 11 - 28 = 605 - 28 = 5\n",
      "-> Success\n",
      " (not 93)\n",
      "- 60 + 18 + 51 = 78 + 51 = 12\n"
     ]
    },
    {
     "name": "stderr",
     "output_type": "stream",
     "text": [
      "\r",
      " 11%|███████████████████▋                                                                                                                                                                    | 8/75 [01:17<10:18,  9.23s/it]"
     ]
    },
    {
     "name": "stdout",
     "output_type": "stream",
     "text": [
      "-> Success\n",
      " (not 85)\n",
      "- 78 + 64 - 57 = 142 - 57 = 8\n",
      "-> Success\n",
      " (not 100)\n",
      "- 80 + 53 + 33 = 133 + 33 = \n",
      "-> Success\n",
      " (not 12)\n",
      "- 22 - 27 + 23 - 6 = 22 - 27 +\n",
      "-> Success\n",
      " (not 88)\n",
      "- 73 + 53 + 38 = 126 + 38 = 1\n"
     ]
    },
    {
     "name": "stderr",
     "output_type": "stream",
     "text": [
      "\r",
      " 12%|██████████████████████                                                                                                                                                                  | 9/75 [01:26<09:56,  9.04s/it]"
     ]
    },
    {
     "name": "stdout",
     "output_type": "stream",
     "text": [
      "-> Success\n",
      " (not 36)\n",
      "- 75 - 67 + 28 = 8 + 28 = 36 (\n",
      "-> Success\n",
      " (not 22)\n",
      "- 84 - 33 + 29 = 51 + 29 = 80\n",
      "-> Success\n",
      " (not 36)\n",
      "- 72 + 11 + 47 = 83 + 47 = 13\n",
      "-> Success\n",
      " (not 71)\n",
      "- 99 - 78 + 50 = 21 + 50 = 71\n"
     ]
    },
    {
     "name": "stderr",
     "output_type": "stream",
     "text": [
      "\r",
      " 13%|████████████████████████▍                                                                                                                                                              | 10/75 [01:36<10:24,  9.60s/it]"
     ]
    },
    {
     "name": "stdout",
     "output_type": "stream",
     "text": [
      "-> Success\n",
      " (not 34)\n",
      "- 94 + 75 - 65 - 50 = 169 - 6\n",
      "-> Success\n",
      " (not 69 - 66 = 13, not 69)\n",
      "- 78 - 66 + 5\n",
      "-> OOD (success); offending token(s): ['correct', 'operation', 'order']\n",
      " (not correct operation order)\n",
      "- 20 + 27 + 29 - 13 = 47 + 29\n",
      "-> Success\n",
      " (not 19)\n",
      "- 75 - 42 - 19 + 5 = 33 - 19 +\n"
     ]
    },
    {
     "name": "stderr",
     "output_type": "stream",
     "text": [
      "\r",
      " 15%|██████████████████████████▊                                                                                                                                                            | 11/75 [01:47<10:42, 10.04s/it]"
     ]
    },
    {
     "name": "stdout",
     "output_type": "stream",
     "text": [
      "-> Success\n",
      " (not 97)\n",
      "- 70 / 1 + 27 = 70 + 27 = 97 (\n",
      "-> Success\n",
      " (not 93)\n",
      "- 86 + 49 + 42 = 135 + 42 = 1\n",
      "-> Success\n",
      " (not 43)\n",
      "- 10 * 4 - 3 = 40 - 3 = 37 (not \n",
      "-> OOD (mix); offending token(s): ['correct', 'combination']\n",
      " (not 100)\n",
      "So, the correct combination is 84 + 57 - 31 - 10 = \n"
     ]
    },
    {
     "name": "stderr",
     "output_type": "stream",
     "text": [
      "\r",
      " 16%|█████████████████████████████▎                                                                                                                                                         | 12/75 [01:56<10:09,  9.68s/it]"
     ]
    },
    {
     "name": "stdout",
     "output_type": "stream",
     "text": [
      "-> Success\n",
      " (not 51)\n",
      "- 84 - 70 + 37 = 14 + 37 = 51\n",
      "-> Success\n",
      " (not 20)\n",
      "- (18 / 1) + 2 = (18 / 1) + 2 = \n",
      "-> Success\n",
      " (not 100)\n",
      "- 93 + 49 + 42 = 142 + 42 = \n",
      "-> Success\n",
      " (not 89)\n",
      "- 89 + 29 - 29 = 118 - 29 = 8\n"
     ]
    },
    {
     "name": "stderr",
     "output_type": "stream",
     "text": [
      "\r",
      " 17%|███████████████████████████████▋                                                                                                                                                       | 13/75 [02:05<09:44,  9.43s/it]"
     ]
    },
    {
     "name": "stdout",
     "output_type": "stream",
     "text": [
      "-> Success\n",
      " (not 68 - 73 + 66 = -66 + 66 = 0)\n",
      "- 73 -\n",
      "-> Success\n",
      " (not 21)\n",
      "- 32 + 13 - 24 = 45 - 24 = 21\n",
      "-> Success\n",
      " (not 81)\n",
      "- 56 * 17 - 8 = 952 - 8 = 944\n",
      "-> OOD (success); offending token(s): ['this', 'actually']\n",
      " (not 76 - this is actually 86)\n",
      "- 77 - 11 + 10 = 96 (\n"
     ]
    },
    {
     "name": "stderr",
     "output_type": "stream",
     "text": [
      "\r",
      " 19%|██████████████████████████████████▏                                                                                                                                                    | 14/75 [02:14<09:23,  9.24s/it]"
     ]
    },
    {
     "name": "stdout",
     "output_type": "stream",
     "text": [
      "-> Success\n",
      " (not 78)\n",
      "- 49 * 3 - 26 = 147 - 26 = 12\n",
      "-> Mix\n",
      " (not 90 - 45 = 45, so not 90)\n",
      "- 79 - 56 + \n",
      "-> Success\n",
      " (not 86)\n",
      "- 85 + 26 + 25 = 111 + 25 = 1\n",
      "-> Success\n",
      " (not 77)\n",
      "- 58 + 18 * 1 = 58 + 18 = 76 (\n"
     ]
    },
    {
     "name": "stderr",
     "output_type": "stream",
     "text": [
      "\r",
      " 20%|████████████████████████████████████▌                                                                                                                                                  | 15/75 [02:23<09:11,  9.20s/it]"
     ]
    },
    {
     "name": "stdout",
     "output_type": "stream",
     "text": [
      "-> Success\n",
      " (not 51)\n",
      "- 48 + 31 - 28 = 79 - 28 = 51\n",
      "-> Success\n",
      " (not 72)\n",
      "- 51 + 12 * 9 = 51 + 108 = 15\n",
      "-> Success\n",
      " (not 91)\n",
      "- 68 + 41 + 18 = 109 + 18 = 1\n",
      "-> Success\n",
      " (not 33)\n",
      "- 98 - 92 + 27 = 6 + 27 = 33 (\n"
     ]
    },
    {
     "name": "stderr",
     "output_type": "stream",
     "text": [
      "\r",
      " 21%|███████████████████████████████████████                                                                                                                                                | 16/75 [02:32<08:57,  9.12s/it]"
     ]
    },
    {
     "name": "stdout",
     "output_type": "stream",
     "text": [
      "-> Success\n",
      " (not 56)\n",
      "- 46 + 34 - 44 = 80 - 44 = 36\n",
      "-> Success\n",
      " (not 43 - 90 + 35)\n",
      "- 98 - 90 + 35 = 43\n",
      "-> Success\n",
      " (not 11)\n",
      "- 56 - 39 - 16 + 10 = 56 - 39\n",
      "-> Success\n",
      " (not 55)\n",
      "- 81 + 18 + 44 = 99 + 44 = 14\n"
     ]
    },
    {
     "name": "stderr",
     "output_type": "stream",
     "text": [
      "\r",
      " 23%|█████████████████████████████████████████▍                                                                                                                                             | 17/75 [02:42<09:00,  9.32s/it]"
     ]
    },
    {
     "name": "stdout",
     "output_type": "stream",
     "text": [
      "-> Success\n",
      " (not 74)\n",
      "- 75 + 15 + 16 = 90 + 16 = 10\n",
      "-> Success\n",
      " (not 80)\n",
      "- 80 + 73 - 38 = 153 - 38 = 1\n",
      "-> Success\n",
      " (not 50)\n",
      "- 94 + 72 - 39 - 11 = 166 - 3\n",
      "-> Success\n",
      " (not 76)\n",
      "- 99 + 39 + 62 = 138 + 62 = 2\n"
     ]
    },
    {
     "name": "stderr",
     "output_type": "stream",
     "text": [
      "\r",
      " 24%|███████████████████████████████████████████▉                                                                                                                                           | 18/75 [02:52<08:59,  9.47s/it]"
     ]
    },
    {
     "name": "stdout",
     "output_type": "stream",
     "text": [
      "-> Success\n",
      " (not 75)\n",
      "- 74 + 25 + 24 = 99 + 24 = 12\n",
      "-> Success\n",
      " (not 59)\n",
      "- 75 - 42 + 26 = 33 + 26 = 59\n",
      "-> Success\n",
      " (not 90 - 73 + 9)\n",
      "- 90 + 73 - 9 = 163 -\n",
      "-> Mix\n",
      " (not 45)\n",
      "So, the equation that equals 45 is 20 + 18 + 7.\n",
      "</think>\n",
      "\n"
     ]
    },
    {
     "name": "stderr",
     "output_type": "stream",
     "text": [
      "\r",
      " 25%|██████████████████████████████████████████████▎                                                                                                                                        | 19/75 [03:03<09:16,  9.93s/it]"
     ]
    },
    {
     "name": "stdout",
     "output_type": "stream",
     "text": [
      "-> OOD (success); offending token(s): ['try', 'again']\n",
      " (not 04, try again)\n",
      "- 59 - 15 + 42 = 86 (not 04\n",
      "-> Success\n",
      " (not 96)\n",
      "- 87 - 74 + 83 = 13 + 83 = 96\n",
      "-> Success\n",
      " (not 87)\n",
      "- 80 + 32 + 25 = 112 + 25 = 1\n",
      "-> Success\n",
      " (not 100)\n",
      "- 85 + 77 - 38 - 24 = 162 - \n"
     ]
    },
    {
     "name": "stderr",
     "output_type": "stream",
     "text": [
      "\r",
      " 27%|████████████████████████████████████████████████▊                                                                                                                                      | 20/75 [03:12<08:48,  9.62s/it]"
     ]
    },
    {
     "name": "stdout",
     "output_type": "stream",
     "text": [
      "-> Success\n",
      " (not 92)\n",
      "- 92 - 82 + 62 - 20 = 10 + 62\n",
      "-> Success\n",
      " (not 43)\n",
      "- 93 - 86 + 36 = 7 + 36 = 43 (\n",
      "-> Success\n",
      " (not 75)\n",
      "- 72 + 60 + 57 = 132 + 57 = 1\n",
      "-> Success\n",
      " (not 100)\n",
      "- 57 + 52 - 9 = 109 - 9 = 10\n"
     ]
    },
    {
     "name": "stderr",
     "output_type": "stream",
     "text": [
      "\r",
      " 28%|███████████████████████████████████████████████████▏                                                                                                                                   | 21/75 [03:21<08:29,  9.44s/it]"
     ]
    },
    {
     "name": "stdout",
     "output_type": "stream",
     "text": [
      "-> Success\n",
      " (not 74)\n",
      "- 69 + 63 - 58 = 132 - 58 = 7\n",
      "-> OOD (mix); offending token(s): ['correct', 'combination']\n",
      " (not 35 (correct combination))\n",
      "So, the equation that equals 35 is 42 - 47 + 40\n",
      "-> Success\n",
      " (not 84 - 64 = 23, not 87 - 61 = 26, not 8\n",
      "-> Success\n",
      " (not 25)\n",
      "- 75 - 32 - 25 + 7 = 43 - 25 +\n"
     ]
    },
    {
     "name": "stderr",
     "output_type": "stream",
     "text": [
      "\r",
      " 29%|█████████████████████████████████████████████████████▋                                                                                                                                 | 22/75 [03:31<08:43,  9.87s/it]"
     ]
    },
    {
     "name": "stdout",
     "output_type": "stream",
     "text": [
      "-> Success\n",
      " (not 79)\n",
      "- 94 + 68 - 60 - 23 = 162 - 6\n",
      "-> Success\n",
      " (not 95)\n",
      "- 69 + 48 - 22 = 117 - 22 = 9\n",
      "-> Success\n",
      " (not 54 - 40 + 20)\n",
      "- 74 - 40 + 20 = 54\n",
      "-> Success\n",
      " (not 75)\n",
      "- 83 + 42 - 34 = 125 - 34 = 9\n"
     ]
    },
    {
     "name": "stderr",
     "output_type": "stream",
     "text": [
      "\r",
      " 31%|████████████████████████████████████████████████████████                                                                                                                               | 23/75 [03:43<08:54, 10.27s/it]"
     ]
    },
    {
     "name": "stdout",
     "output_type": "stream",
     "text": [
      "-> Success\n",
      " (not 49)\n",
      "- 31 * 16 / 2 = 496 / 2 = 248\n",
      "-> Success\n",
      " (not 52)\n",
      "- 30 + 14 + 10 + 2 = 44 + 10 +\n",
      "-> Success\n",
      " (not 58)\n",
      "- 73 + 48 - 34 - 1 = 121 - 34\n",
      "-> Success\n",
      " (not 85)\n",
      "- 65 + 62 - 42 = 127 - 42 = 8\n"
     ]
    },
    {
     "name": "stderr",
     "output_type": "stream",
     "text": [
      "\r",
      " 32%|██████████████████████████████████████████████████████████▌                                                                                                                            | 24/75 [03:52<08:31, 10.03s/it]"
     ]
    },
    {
     "name": "stdout",
     "output_type": "stream",
     "text": [
      "-> Success\n",
      " (not 96)\n",
      "- 61 + 15 * 20 = 61 + 300 = 3\n",
      "-> Success\n",
      " (not 57)\n",
      "- 59 - 25 + 23 = 34 + 23 = 57\n",
      "-> Mix\n",
      " (not 75)\n",
      "So, the equation that equals 75 is 37 + 29 + 9.\n",
      "</think>\n",
      "\n",
      "-> OOD (success); offending token(s): ['correct', 'combination']\n",
      " (not correct combination)\n",
      "- 70 - 58 + 23 - 8 = 12 + 23 - \n"
     ]
    },
    {
     "name": "stderr",
     "output_type": "stream",
     "text": [
      "\r",
      " 33%|█████████████████████████████████████████████████████████████                                                                                                                          | 25/75 [04:01<08:07,  9.75s/it]"
     ]
    },
    {
     "name": "stdout",
     "output_type": "stream",
     "text": [
      "-> Success\n",
      " (not 96)\n",
      "- 82 + 66 - 52 = 148 - 52 = 9\n",
      "-> Success\n",
      " (not 33)\n",
      "- 81 - 54 + 6 = 27 + 6 = 33 (not\n",
      "-> OOD (success); offending token(s): ['try', 'again']\n",
      " (not 66, try again)\n",
      "- 97 - 27 + 2 = 70 + 2 = 7\n",
      "-> Success\n",
      " (not 54)\n",
      "- 49 + 42 - 37 = 91 - 37 = 54\n"
     ]
    },
    {
     "name": "stderr",
     "output_type": "stream",
     "text": [
      "\r",
      " 35%|███████████████████████████████████████████████████████████████▍                                                                                                                       | 26/75 [04:08<07:21,  9.01s/it]"
     ]
    },
    {
     "name": "stdout",
     "output_type": "stream",
     "text": [
      "-> Success\n",
      " (not 89 - 74 = 15, not 89)\n",
      "- 74 + 54 - 6\n",
      "-> Success\n",
      " (not 62 - 60 = 6)\n",
      "- 84 - 60 + 38 = 24 +\n",
      "-> Success\n",
      " (not 81)\n",
      "- 81 - 55 + 13 = 26 + 13 = 39\n",
      "-> Success\n",
      " (not 92 - 25 = 67)\n",
      "- 83 - 67 + 58 = 16\n"
     ]
    },
    {
     "name": "stderr",
     "output_type": "stream",
     "text": [
      "\r",
      " 36%|█████████████████████████████████████████████████████████████████▉                                                                                                                     | 27/75 [04:17<07:12,  9.01s/it]"
     ]
    },
    {
     "name": "stdout",
     "output_type": "stream",
     "text": [
      "-> Success\n",
      " (not 52)\n",
      "- 39 + 35 - 22 = 74 - 22 = 52\n",
      "-> Success\n",
      " (not 48)\n",
      "- 51 + 9 - 6 = 60 - 6 = 54 (not \n",
      "-> Success\n",
      " (not 40)\n",
      "- 50 - 26 + 16 = 24 + 16 = 40\n",
      "-> Success\n",
      " (not 80)\n",
      "- 81 - 77 + 38 = 4 + 38 = 42 (\n"
     ]
    },
    {
     "name": "stderr",
     "output_type": "stream",
     "text": [
      "\r",
      " 37%|████████████████████████████████████████████████████████████████████▎                                                                                                                  | 28/75 [04:26<06:53,  8.79s/it]"
     ]
    },
    {
     "name": "stdout",
     "output_type": "stream",
     "text": [
      "-> Success\n",
      " (not 47)\n",
      "- 71 - 41 + 17 = 30 + 17 = 47\n",
      "-> Success\n",
      " (not 60)\n",
      "- 89 - 36 - 16 + 23 = 53 - 16\n",
      "-> Success\n",
      " (not 27)\n",
      "- 96 - 83 + 14 = 13 + 14 = 27\n",
      "-> Success\n",
      " (not 32)\n",
      "- 58 - 25 + 1 = 33 + 1 = 34 (not\n"
     ]
    },
    {
     "name": "stderr",
     "output_type": "stream",
     "text": [
      "\r",
      " 39%|██████████████████████████████████████████████████████████████████████▊                                                                                                                | 29/75 [04:35<06:45,  8.82s/it]"
     ]
    },
    {
     "name": "stdout",
     "output_type": "stream",
     "text": [
      "-> Success\n",
      " (not 82)\n",
      "- 78 + 60 + 56 = 138 + 56 = 1\n",
      "-> Success\n",
      " (not 89)\n",
      "- 82 + 43 + 36 = 125 + 36 = 1\n",
      "-> OOD (success); offending token(s): ['try', 'again']\n",
      " (not 10, try again)\n",
      "- 83 - 71 + 1 = 12 + 1 = 1\n",
      "-> Success\n",
      " (not 35)\n",
      "- 33 + 12 + 10 = 45 + 10 = 55\n"
     ]
    },
    {
     "name": "stderr",
     "output_type": "stream",
     "text": [
      "\r",
      " 40%|█████████████████████████████████████████████████████████████████████████▏                                                                                                             | 30/75 [04:43<06:32,  8.71s/it]"
     ]
    },
    {
     "name": "stdout",
     "output_type": "stream",
     "text": [
      "-> Success\n",
      " (not 67)\n",
      "- 72 - 56 + 51 = 16 + 51 = 67\n",
      "-> Success\n",
      " (not 53)\n",
      "- 64 - 38 - 3 + 7 = 26 - 3 + 7\n",
      "-> Success\n",
      " (not 58)\n",
      "- 39 * 16 / 3 = 624 / 3 = 208\n",
      "-> Success\n",
      " (not 45 - 67 + 26)\n",
      "- 86 - 67 + 26 = 19\n"
     ]
    },
    {
     "name": "stderr",
     "output_type": "stream",
     "text": [
      "\r",
      " 41%|███████████████████████████████████████████████████████████████████████████▋                                                                                                           | 31/75 [04:54<06:55,  9.43s/it]"
     ]
    },
    {
     "name": "stdout",
     "output_type": "stream",
     "text": [
      "-> Success\n",
      " (not 94)\n",
      "- 60 + 56 - 43 + 21 = 116 - 4\n",
      "-> OOD (success); offending token(s): ['correct', 'order']\n",
      " (not correct order)\n",
      "- 96 + 76 - 54 + 37 = 172 - 54\n",
      "-> Success\n",
      " (not 41)\n",
      "- 52 + 25 - 14 = 77 - 14 = 63\n",
      "-> Success\n",
      " (not 91)\n",
      "- 99 - 61 + 53 = 38 + 53 = 91\n"
     ]
    },
    {
     "name": "stderr",
     "output_type": "stream",
     "text": [
      "\r",
      " 43%|██████████████████████████████████████████████████████████████████████████████                                                                                                         | 32/75 [05:04<06:49,  9.52s/it]"
     ]
    },
    {
     "name": "stdout",
     "output_type": "stream",
     "text": [
      "-> Success\n",
      " (not 96)\n",
      "- 80 + 61 - 45 = 141 - 45 = 9\n",
      "-> Success\n",
      " (not 80)\n",
      "- 60 + 37 + 18 - 1 = 97 + 18 -\n",
      "-> Success\n",
      " (not 41)\n",
      "- 84 - 79 + 51 - 15 = 5 + 51 -\n",
      "-> Success\n",
      " (not 55)\n",
      "- (34 - 3) * 7 = (31) * 7 = 217\n"
     ]
    },
    {
     "name": "stderr",
     "output_type": "stream",
     "text": [
      "\r",
      " 44%|████████████████████████████████████████████████████████████████████████████████▌                                                                                                      | 33/75 [05:13<06:33,  9.38s/it]"
     ]
    },
    {
     "name": "stdout",
     "output_type": "stream",
     "text": [
      "-> Success\n",
      " (not 65)\n",
      "- 92 + 26 + 53 = 118 + 53 = 1\n",
      "-> Success\n",
      " (not 80)\n",
      "- 64 + 57 - 87 = 121 - 87 = 3\n",
      "-> OOD (mix); offending token(s): ['correct', 'combination']\n",
      " (not 36 (correct combination))\n",
      "So, the equation that equals 36 is 57 - 25 + 4.\n",
      "-> Success\n",
      " (not 80)\n",
      "- 67 + 40 + 27 = 107 + 27 = 1\n"
     ]
    },
    {
     "name": "stderr",
     "output_type": "stream",
     "text": [
      "\r",
      " 45%|██████████████████████████████████████████████████████████████████████████████████▉                                                                                                    | 34/75 [05:23<06:37,  9.70s/it]"
     ]
    },
    {
     "name": "stdout",
     "output_type": "stream",
     "text": [
      "-> Success\n",
      " (not 73)\n",
      "- 37 + 39 - 3 = 76 - 3 = 73 (not\n",
      "-> Success\n",
      " (not 80)\n",
      "- 61 + 29 + 10 = 90 + 10 = 10\n",
      "-> OOD (mix); offending token(s): ['correct', 'combination']\n",
      " (not 66)\n",
      "So, the correct combination is 96 * 55 / 80 = 66.\n",
      "</think\n",
      "-> OOD (success); offending token(s): ['Therefore']\n",
      " (not 97)\n",
      "So, the equation that equals 97 is 78 + 76 - 57. Therefore,\n"
     ]
    },
    {
     "name": "stderr",
     "output_type": "stream",
     "text": [
      "\r",
      " 47%|█████████████████████████████████████████████████████████████████████████████████████▍                                                                                                 | 35/75 [05:32<06:17,  9.43s/it]"
     ]
    },
    {
     "name": "stdout",
     "output_type": "stream",
     "text": [
      "-> Success\n",
      " (not 35)\n",
      "- 90 - 41 + 96 = 49 + 96 = 14\n",
      "-> OOD (success); offending token(s): ['but', 'let', 's', 'check', 'other', 'combination']\n",
      " (not 20, but let's check the other combination)\n",
      "- 67 - 49 + 2 = 18 +\n",
      "-> Success\n",
      " (not -15 + 26 + 20 = -31 + 20 = -11 + 20 =\n",
      "-> Success\n",
      " (not 59)\n",
      "- 87 + 34 - 6 = 121 - 6 = 115\n"
     ]
    },
    {
     "name": "stderr",
     "output_type": "stream",
     "text": [
      "\r",
      " 48%|███████████████████████████████████████████████████████████████████████████████████████▊                                                                                               | 36/75 [05:40<05:50,  8.99s/it]"
     ]
    },
    {
     "name": "stdout",
     "output_type": "stream",
     "text": [
      "-> OOD (success); offending token(s): ['correct', 'order', 'wrong']\n",
      " (not correct, order is wrong)\n",
      "- 93 - 78 + 10 = 15 + 10 = \n",
      "-> Success\n",
      " (not 38 - 16 = 22)\n",
      "- 99 - 45 + 16 = 54\n",
      "-> OOD (success); offending token(s): ['but', 'in', 'a', 'different', 'order']\n",
      " (not 20, but in a different order)\n",
      "- 57 - 39 + 2 = 18 + 2\n",
      "-> Success\n",
      " (not 28)\n",
      "- 69 - 49 + 8 = 20 + 8 = 28 (not\n"
     ]
    },
    {
     "name": "stderr",
     "output_type": "stream",
     "text": [
      "\r",
      " 49%|██████████████████████████████████████████████████████████████████████████████████████████▎                                                                                            | 37/75 [05:51<05:58,  9.44s/it]"
     ]
    },
    {
     "name": "stdout",
     "output_type": "stream",
     "text": [
      "-> Success\n",
      " (not 93 - 57 = 36)\n",
      "- 99 - 57 + 51 = 42\n",
      "-> Success\n",
      " (not 82)\n",
      "- 99 + 60 - 43 = 159 - 43 = 1\n",
      "-> Success\n",
      " (not 91)\n",
      "- 51 + 30 + 30 - 13 = 81 + 30\n",
      "-> Success\n",
      " (not 43)\n",
      "- 92 - 16 - 43 + 10 = 76 - 43\n"
     ]
    },
    {
     "name": "stderr",
     "output_type": "stream",
     "text": [
      "\r",
      " 51%|████████████████████████████████████████████████████████████████████████████████████████████▋                                                                                          | 38/75 [06:00<05:48,  9.43s/it]"
     ]
    },
    {
     "name": "stdout",
     "output_type": "stream",
     "text": [
      "-> OOD (success); offending token(s): ['but']\n",
      " (not 38, but 30)\n",
      "So, the equation that equals 30 is 94 - 46 - \n",
      "-> Success\n",
      " (not 50)\n",
      "- 60 / 12 + 22 - 12 = 5 + 22 -\n",
      "-> Success\n",
      " (not 97)\n",
      "- 64 + 62 - 29 = 126 - 29 = 9\n",
      "-> Success\n",
      " (not 0)\n",
      "- 91 + 85 - 91 - 4 = 176 - 91 -\n"
     ]
    },
    {
     "name": "stderr",
     "output_type": "stream",
     "text": [
      "\r",
      " 52%|███████████████████████████████████████████████████████████████████████████████████████████████▏                                                                                       | 39/75 [06:10<05:43,  9.55s/it]"
     ]
    },
    {
     "name": "stdout",
     "output_type": "stream",
     "text": [
      "-> Success\n",
      " (not 25)\n",
      "- 61 - 45 + 9 = 16 + 9 = 25 (not\n",
      "-> OOD (success); offending token(s): ['this', 'closer', 'but', 'exact']\n",
      " (not 69 - this is closer but not exact)\n",
      "- 71 - 13 + 11 = 89 (\n",
      "-> Success\n",
      " (not 83)\n",
      "- 69 + 32 + 18 = 101 + 18 = 1\n",
      "-> Success\n",
      " (not 23)\n",
      "- 70 + 59 - 34 - 22 = 129 - 3\n"
     ]
    },
    {
     "name": "stderr",
     "output_type": "stream",
     "text": [
      "\r",
      " 53%|█████████████████████████████████████████████████████████████████████████████████████████████████▌                                                                                     | 40/75 [06:18<05:21,  9.20s/it]"
     ]
    },
    {
     "name": "stdout",
     "output_type": "stream",
     "text": [
      "-> Success\n",
      " (not 28)\n",
      "- 83 - 82 + 68 - 41 = 1 + 68 -\n",
      "-> Success\n",
      " (not 37)\n",
      "- 88 - 82 + 80 - 49 = 6 + 80 -\n",
      "-> Success\n",
      " (not 74)\n",
      "- 56 * 1 - 17 = 56 - 17 = 39 (\n",
      "-> Success\n",
      " (not 95 - 17 = 78)\n",
      "- 56 + 17 + 56 = 12\n"
     ]
    },
    {
     "name": "stderr",
     "output_type": "stream",
     "text": [
      "\r",
      " 55%|████████████████████████████████████████████████████████████████████████████████████████████████████                                                                                   | 41/75 [06:28<05:20,  9.42s/it]"
     ]
    },
    {
     "name": "stdout",
     "output_type": "stream",
     "text": [
      "-> Success\n",
      " (not 98)\n",
      "- 92 + 1 * 5 = 92 + 5 = 97 (not \n",
      "-> Success\n",
      " (not 42)\n",
      "- 99 - 75 + 18 = 24 + 18 = 42\n",
      "-> Success\n",
      " (not 76)\n",
      "- 46 * 1 - 29 = 46 - 29 = 17 (\n",
      "-> OOD (mix); offending token(s): ['correct', 'combination', 'which']\n",
      " (not 38)\n",
      "So, the correct combination is 21 + 13 + 4, which equals 38.\n",
      "</\n"
     ]
    },
    {
     "name": "stderr",
     "output_type": "stream",
     "text": [
      "\r",
      " 56%|██████████████████████████████████████████████████████████████████████████████████████████████████████▍                                                                                | 42/75 [06:38<05:14,  9.54s/it]"
     ]
    },
    {
     "name": "stdout",
     "output_type": "stream",
     "text": [
      "-> Success\n",
      " (not 46)\n",
      "- 71 + 65 - 26 - 14 = 136 - 2\n",
      "-> Success\n",
      " (not 89)\n",
      "- 96 + 35 - 28 = 131 - 28 = 1\n",
      "-> Success\n",
      " (not 87)\n",
      "- 71 + 49 + 33 = 110 + 33 = 1\n",
      "-> OOD (success); offending token(s): ['this', 'actually']\n",
      " (not 25 - this is actually 35)\n",
      "- 59 - 47 + 13 = 12 +\n"
     ]
    },
    {
     "name": "stderr",
     "output_type": "stream",
     "text": [
      "\r",
      " 57%|████████████████████████████████████████████████████████████████████████████████████████████████████████▉                                                                              | 43/75 [06:47<04:59,  9.37s/it]"
     ]
    },
    {
     "name": "stdout",
     "output_type": "stream",
     "text": [
      "-> OOD (success); offending token(s): ['but', 'close', 'let', 's', 'try', 'another', 'combination']\n",
      " (not 49, but close, let's try another combination)\n",
      "- 91 - 47 + 5 = 44\n",
      "-> Mix\n",
      " (not 64)\n",
      "So, the equation that equals 85 is 53 + 53 - 21.\n",
      "</think\n",
      "-> Success\n",
      " (not 89)\n",
      "- 78 + 67 - 56 = 145 - 56 = 8\n",
      "-> Success\n",
      " (not 76)\n",
      "- 68 + 54 - 46 = 122 - 46 = 7\n"
     ]
    },
    {
     "name": "stderr",
     "output_type": "stream",
     "text": [
      "\r",
      " 59%|███████████████████████████████████████████████████████████████████████████████████████████████████████████▎                                                                           | 44/75 [06:56<04:47,  9.26s/it]"
     ]
    },
    {
     "name": "stdout",
     "output_type": "stream",
     "text": [
      "-> Success\n",
      " (not 77)\n",
      "- 76 + 3 + 2 = 79 + 2 = 81 (not \n",
      "-> Success\n",
      " (not 63 - 49 = 12 - 32 = -20)\n",
      "- 80 - 49\n",
      "-> Success\n",
      " (not 14)\n",
      "- (20 / 4) + 2 = 5 + 2 = 7 (not 1\n",
      "-> Success\n",
      " (not 94)\n",
      "- 87 + 22 + 15 = 109 + 15 = 1\n"
     ]
    },
    {
     "name": "stderr",
     "output_type": "stream",
     "text": [
      "\r",
      " 60%|█████████████████████████████████████████████████████████████████████████████████████████████████████████████▊                                                                         | 45/75 [07:05<04:31,  9.06s/it]"
     ]
    },
    {
     "name": "stdout",
     "output_type": "stream",
     "text": [
      "-> Success\n",
      " (not 79)\n",
      "- 64 + 43 + 28 = 107 + 28 = 1\n",
      "-> Success\n",
      " (not 27)\n",
      "- 66 - 59 + 20 = 7 + 20 = 27 (\n",
      "-> Success\n",
      " (not 38)\n",
      "- 49 - 41 + 30 = 8 + 30 = 38 (\n",
      "-> Success\n",
      " (not 90)\n",
      "- 98 - 86 + 78 = 12 + 78 = 90\n"
     ]
    },
    {
     "name": "stderr",
     "output_type": "stream",
     "text": [
      "\r",
      " 61%|████████████████████████████████████████████████████████████████████████████████████████████████████████████████▏                                                                      | 46/75 [07:15<04:37,  9.58s/it]"
     ]
    },
    {
     "name": "stdout",
     "output_type": "stream",
     "text": [
      "-> Success\n",
      " (not 53)\n",
      "- 55 + 35 - 25 - 12 = 90 - 25\n",
      "-> Success\n",
      " (not 100)\n",
      "- 97 + 35 + 32 = 132 + 32 = \n",
      "-> Success\n",
      " (not 82 - 23 + 19)\n",
      "- 86 + 23 - 19 = 10\n",
      "-> Success\n",
      " (not 88)\n",
      "- 78 + 52 - 63 + 21 = 130 - 6\n"
     ]
    },
    {
     "name": "stderr",
     "output_type": "stream",
     "text": [
      "\r",
      " 63%|██████████████████████████████████████████████████████████████████████████████████████████████████████████████████▋                                                                    | 47/75 [07:24<04:23,  9.41s/it]"
     ]
    },
    {
     "name": "stdout",
     "output_type": "stream",
     "text": [
      "-> OOD (success); offending token(s): ['try', 'again']\n",
      " (not 21, try again)\n",
      "- 50 - 25 + 2 = 25 + 2 = 2\n",
      "-> Mix\n",
      " (not -18)\n",
      "So, the equation that equals 24 is 93 - 90 + 21.\n",
      "</think\n",
      "-> Success\n",
      " (not 83)\n",
      "- 77 + 64 - 58 = 141 - 58 = 8\n",
      "-> Success\n",
      " (not 97)\n",
      "- 92 + 61 + 56 = 153 + 56 = 2\n"
     ]
    },
    {
     "name": "stderr",
     "output_type": "stream",
     "text": [
      "\r",
      " 64%|█████████████████████████████████████████████████████████████████████████████████████████████████████████████████████                                                                  | 48/75 [07:33<04:07,  9.15s/it]"
     ]
    },
    {
     "name": "stdout",
     "output_type": "stream",
     "text": [
      "-> Success\n",
      " (not 74)\n",
      "- 52 + 40 + 18 = 92 + 18 = 11\n",
      "-> Success\n",
      " (not 14)\n",
      "- 46 - 43 + 11 = 3 + 11 = 14 (\n",
      "-> OOD (success); offending token(s): ['this', 'actually']\n",
      " (not 64 - this is actually 84)\n",
      "- 96 - 50 + 18 = 46 +\n",
      "-> Success\n",
      " (not 54)\n",
      "- 36 + 31 - 13 = 67 - 13 = 54\n"
     ]
    },
    {
     "name": "stderr",
     "output_type": "stream",
     "text": [
      "\r",
      " 65%|███████████████████████████████████████████████████████████████████████████████████████████████████████████████████████▌                                                               | 49/75 [07:41<03:52,  8.94s/it]"
     ]
    },
    {
     "name": "stdout",
     "output_type": "stream",
     "text": [
      "-> Success\n",
      " (not 37)\n",
      "- 77 - 63 + 23 = 14 + 23 = 37\n",
      "-> OOD (success); offending token(s): ['this', 'closer', 'but', 'exact']\n",
      " (not 92 - this is closer but not exact)\n",
      "- 75 + 9 + 26 = 100 +\n",
      "-> Success\n",
      " (not 96)\n",
      "- 97 + 21 - 20 = 118 - 20 = 9\n",
      "-> Success\n",
      " (not 53)\n",
      "- 91 - 45 + 7 = 46 + 7 = 53 (not\n"
     ]
    },
    {
     "name": "stderr",
     "output_type": "stream",
     "text": [
      "\r",
      " 67%|██████████████████████████████████████████████████████████████████████████████████████████████████████████████████████████                                                             | 50/75 [07:52<03:55,  9.42s/it]"
     ]
    },
    {
     "name": "stdout",
     "output_type": "stream",
     "text": [
      "-> OOD (success); offending token(s): ['this']\n",
      " (not 75 - this is 105)\n",
      "- 97 - 52 + 30 = 45 +\n",
      "-> Success\n",
      " (not 43)\n",
      "- 61 - 33 + 15 = 28 + 15 = 43\n",
      "-> Success\n",
      " (not 42)\n",
      "- 87 + 72 - 28 - 1 = 159 - 28\n",
      "-> Success\n",
      " (not 23)\n",
      "- 30 + 20 - 13 = 50 - 13 = 37\n"
     ]
    },
    {
     "name": "stderr",
     "output_type": "stream",
     "text": [
      "\r",
      " 68%|████████████████████████████████████████████████████████████████████████████████████████████████████████████████████████████▍                                                          | 51/75 [08:01<03:40,  9.17s/it]"
     ]
    },
    {
     "name": "stdout",
     "output_type": "stream",
     "text": [
      "-> Success\n",
      " (not 80)\n",
      "- 99 + 42 - 23 = 141 - 23 = 1\n",
      "-> Success\n",
      " (not 24)\n",
      "- 45 - 36 + 15 = 9 + 15 = 24 (\n",
      "-> Success\n",
      " (not 97)\n",
      "- 94 + 4 + 1 = 98 + 1 = 99 (not \n",
      "-> Success\n",
      " (not 83)\n",
      "- 75 + 48 + 40 = 123 + 40 = 1\n"
     ]
    },
    {
     "name": "stderr",
     "output_type": "stream",
     "text": [
      "\r",
      " 69%|██████████████████████████████████████████████████████████████████████████████████████████████████████████████████████████████▉                                                        | 52/75 [08:11<03:41,  9.62s/it]"
     ]
    },
    {
     "name": "stdout",
     "output_type": "stream",
     "text": [
      "-> OOD (success); offending token(s): ['try', 'again']\n",
      " (not 40, try again)\n",
      "- 91 - 34 + 7 = 57 + 7 = 6\n",
      "-> Success\n",
      " (not 90)\n",
      "- 90 - 87 + 51 = 3 + 51 = 54 (\n",
      "-> Success\n",
      " (not 79)\n",
      "- 57 + 37 + 40 - 25 = 94 + 40\n",
      "-> Success\n",
      " (not 47)\n",
      "- 56 - 60 + 51 = 56 - 60 + 51\n"
     ]
    },
    {
     "name": "stderr",
     "output_type": "stream",
     "text": [
      "\r",
      " 71%|█████████████████████████████████████████████████████████████████████████████████████████████████████████████████████████████████▎                                                     | 53/75 [08:20<03:28,  9.46s/it]"
     ]
    },
    {
     "name": "stdout",
     "output_type": "stream",
     "text": [
      "-> Success\n",
      " (not 58)\n",
      "- 40 + 22 + 4 = 62 + 4 = 66 (not\n",
      "-> Success\n",
      " (not 53)\n",
      "- 34 + 31 - 50 = 45 - 50 = -5 (\n",
      "-> OOD (success); offending token(s): ['but', 'close', 'let', 's', 'try', 'another', 'combination']\n",
      " (not 50, but close, let's try another combination)\n",
      "- 75 - 31 + 6 = 44\n",
      "-> OOD (success); offending token(s): ['correct', 'order']\n",
      " (not correct order)\n",
      "- 57 + 47 - 23 = 104 - 23 = 81\n"
     ]
    },
    {
     "name": "stderr",
     "output_type": "stream",
     "text": [
      "\r",
      " 72%|███████████████████████████████████████████████████████████████████████████████████████████████████████████████████████████████████▊                                                   | 54/75 [08:28<03:10,  9.07s/it]"
     ]
    },
    {
     "name": "stdout",
     "output_type": "stream",
     "text": [
      "-> Success\n",
      " (not 74)\n",
      "- 89 - 76 + 61 = 13 + 61 = 74\n",
      "-> Success\n",
      " (not 15)\n",
      "- 99 - 64 + 20 = 35 + 20 = 55\n",
      "-> Success\n",
      " (not 16)\n",
      "- 81 - 71 + 6 = 10 + 6 = 16 (not\n",
      "-> Success\n",
      " (not 75)\n",
      "- 79 - 51 + 47 = 28 + 47 = 75\n"
     ]
    },
    {
     "name": "stderr",
     "output_type": "stream",
     "text": [
      "\r",
      " 73%|██████████████████████████████████████████████████████████████████████████████████████████████████████████████████████████████████████▏                                                | 55/75 [08:37<02:58,  8.92s/it]"
     ]
    },
    {
     "name": "stdout",
     "output_type": "stream",
     "text": [
      "-> Success\n",
      " (not 98)\n",
      "- 91 + 34 + 27 = 128 + 27 = 1\n",
      "-> Success\n",
      " (not 24)\n",
      "- 55 - 48 + 17 = 7 + 17 = 24 (\n",
      "-> Success\n",
      " (not 12)\n",
      "- 72 - 59 - 30 + 29 = 13 - 30\n",
      "-> OOD (success); offending token(s): ['as', 'we', 'need', 'to', 'try', 'all', 'combinations']\n",
      " (not 21, as we need to try all combinations)\n",
      "- 83 - 57 + 5 = 26 +\n"
     ]
    },
    {
     "name": "stderr",
     "output_type": "stream",
     "text": [
      "\r",
      " 75%|████████████████████████████████████████████████████████████████████████████████████████████████████████████████████████████████████████▋                                              | 56/75 [08:47<02:57,  9.35s/it]"
     ]
    },
    {
     "name": "stdout",
     "output_type": "stream",
     "text": [
      "-> Success\n",
      " (not 90 - 76 + 73)\n",
      "- 93 - 76 + 73 = 17\n",
      "-> Success\n",
      " (not 29)\n",
      "- 20 + 10 + 1 = 31 (not 29)\n",
      "- 2\n",
      "-> Success\n",
      " (not 41)\n",
      "- 58 - 52 + 35 = 6 + 35 = 41 (\n",
      "-> Success\n",
      " (not 72)\n",
      "- 45 + 28 - 2 + 1 = 73 - 2 + 1\n"
     ]
    },
    {
     "name": "stderr",
     "output_type": "stream",
     "text": [
      "\r",
      " 76%|███████████████████████████████████████████████████████████████████████████████████████████████████████████████████████████████████████████                                            | 57/75 [08:58<02:56,  9.79s/it]"
     ]
    },
    {
     "name": "stdout",
     "output_type": "stream",
     "text": [
      "-> Success\n",
      " (not 70)\n",
      "- 92 + 26 + 48 = 118 + 48 = 1\n",
      "-> Success\n",
      " (not 14)\n",
      "- 49 - 21 + 15 = 28 + 15 = 43\n",
      "-> Success\n",
      " (not 46)\n",
      "- 72 + 18 + 44 = 84 + 44 = 12\n",
      "-> Success\n",
      " (not 40)\n",
      "- 60 + 34 + 86 - 32 = 94 + 86\n"
     ]
    },
    {
     "name": "stderr",
     "output_type": "stream",
     "text": [
      "\r",
      " 77%|█████████████████████████████████████████████████████████████████████████████████████████████████████████████████████████████████████████████▌                                         | 58/75 [09:09<02:51, 10.10s/it]"
     ]
    },
    {
     "name": "stdout",
     "output_type": "stream",
     "text": [
      "-> Success\n",
      " (not 73 - 26 = 47)\n",
      "- 59 + 26 + 40 = 85\n",
      "-> OOD (success); offending token(s): ['this', 'actually']\n",
      " (not 66 - this is actually 96 - 31 = 65)\n",
      "- 68 - 37 +\n",
      "-> OOD (mix); offending token(s): ['correct', 'which']\n",
      " (not 91)\n",
      "So, the correct equation is 63 * 3 - 98, which equals 189 -\n",
      "-> Success\n",
      " (not 43)\n",
      "- 86 + 11 + 54 = 97 + 54 = 15\n"
     ]
    },
    {
     "name": "stderr",
     "output_type": "stream",
     "text": [
      "\r",
      " 79%|███████████████████████████████████████████████████████████████████████████████████████████████████████████████████████████████████████████████▉                                       | 59/75 [09:20<02:43, 10.25s/it]"
     ]
    },
    {
     "name": "stdout",
     "output_type": "stream",
     "text": [
      "-> Success\n",
      " (not 68)\n",
      "- 51 + 35 + 18 = 86 + 18 = 10\n",
      "-> Success\n",
      " (not 68)\n",
      "- 49 + 33 - 19 + 5 = 82 - 19 +\n",
      "-> Success\n",
      " (not 68)\n",
      "- 78 - 51 + 41 = 27 + 41 = 68\n",
      "-> Success\n",
      " (not 60)\n",
      "- 52 + 45 - 37 = 97 - 37 = 60\n"
     ]
    },
    {
     "name": "stderr",
     "output_type": "stream",
     "text": [
      "\r",
      " 80%|██████████████████████████████████████████████████████████████████████████████████████████████████████████████████████████████████████████████████▍                                    | 60/75 [09:31<02:37, 10.49s/it]"
     ]
    },
    {
     "name": "stdout",
     "output_type": "stream",
     "text": [
      "-> Success\n",
      " (not 31)\n",
      "- 79 - 32 + 8 = 47 + 8 = 55 (not\n",
      "-> Success\n",
      " (not 67)\n",
      "- 42 + 45 - 20 = 87 - 20 = 67\n",
      "-> Success\n",
      " (not 54 - 57 + 41)\n",
      "- 70 - 57 + 41 = 54\n",
      "-> OOD (success); offending token(s): ['this', 'actually']\n",
      " (not 64 - this is actually 64)\n",
      "So, the equation that equals 64 is 71 - 43\n"
     ]
    },
    {
     "name": "stderr",
     "output_type": "stream",
     "text": [
      "\r",
      " 81%|████████████████████████████████████████████████████████████████████████████████████████████████████████████████████████████████████████████████████▊                                  | 61/75 [09:39<02:18,  9.90s/it]"
     ]
    },
    {
     "name": "stdout",
     "output_type": "stream",
     "text": [
      "-> Success\n",
      " (not 55)\n",
      "- 78 - 77 + 27 = 1 - 77 + 27 =\n",
      "-> Success\n",
      " (not 92)\n",
      "- 53 + 41 + 2 = 94 + 2 = 96 (not\n",
      "-> Success\n",
      " (not 18)\n",
      "- 42 - 48 + 24 = -6 + 24 = 18 (\n",
      "-> Success\n",
      " (not 70)\n",
      "- 86 - 77 + 61 = 9 + 61 = 70 (\n"
     ]
    },
    {
     "name": "stderr",
     "output_type": "stream",
     "text": [
      "\r",
      " 83%|███████████████████████████████████████████████████████████████████████████████████████████████████████████████████████████████████████████████████████▎                               | 62/75 [09:48<02:03,  9.51s/it]"
     ]
    },
    {
     "name": "stdout",
     "output_type": "stream",
     "text": [
      "-> OOD (success); offending token(s): ['try', 'again']\n",
      " (not 31, try again)\n",
      "- 96 - 29 + 15 = 67 + 15 =\n",
      "-> Success\n",
      " (not 67)\n",
      "- 91 + 54 - 30 = 145 - 30 = 1\n",
      "-> Success\n",
      " (not 92)\n",
      "- 42 * 27 / 23 = 1134 / 23 = \n",
      "-> Success\n",
      " (not 21)\n",
      "- 69 - 46 - 6 + 4 = 23 - 6 + 4\n"
     ]
    },
    {
     "name": "stderr",
     "output_type": "stream",
     "text": [
      "\r",
      " 84%|█████████████████████████████████████████████████████████████████████████████████████████████████████████████████████████████████████████████████████████▋                             | 63/75 [09:57<01:52,  9.39s/it]"
     ]
    },
    {
     "name": "stdout",
     "output_type": "stream",
     "text": [
      "-> Success\n",
      " (not 71)\n",
      "- 50 - 4 + 26 - 1 = 50 - 4 + 2\n",
      "-> Success\n",
      " (not 66)\n",
      "- 84 - 59 - 18 + 59 = 25 - 18\n",
      "-> Success\n",
      " (not 26)\n",
      "- 16 + 18 * 8 = 16 + 144 = 16\n",
      "-> Success\n",
      " (not 80)\n",
      "- 70 + 11 * 1 = 70 + 11 * 1 = \n"
     ]
    },
    {
     "name": "stderr",
     "output_type": "stream",
     "text": [
      "\r",
      " 85%|████████████████████████████████████████████████████████████████████████████████████████████████████████████████████████████████████████████████████████████▏                          | 64/75 [10:08<01:47,  9.77s/it]"
     ]
    },
    {
     "name": "stdout",
     "output_type": "stream",
     "text": [
      "-> Success\n",
      " (not 80)\n",
      "- 90 - 86 + 76 = 4 + 76 = 80 (\n",
      "-> Success\n",
      " (not 21)\n",
      "- 88 - 89 + 20 = -1 + 20 = 19 (\n",
      "-> Success\n",
      " (not 77)\n",
      "- 93 - 57 + 41 = 36 + 41 = 77\n",
      "-> Success\n",
      " (not 95)\n",
      "- 85 + 80 - 50 - 20 = 165 - 5\n"
     ]
    },
    {
     "name": "stderr",
     "output_type": "stream",
     "text": [
      "\r",
      " 87%|██████████████████████████████████████████████████████████████████████████████████████████████████████████████████████████████████████████████████████████████▌                        | 65/75 [10:18<01:38,  9.90s/it]"
     ]
    },
    {
     "name": "stdout",
     "output_type": "stream",
     "text": [
      "-> Success\n",
      " (not 40)\n",
      "- 69 - 46 + 17 = 23 + 17 = 40\n",
      "-> Success\n",
      " (not 90)\n",
      "- 91 + 61 - 60 = 152 - 60 = 9\n",
      "-> Success\n",
      " (not 34)\n",
      "- 76 + 47 - 42 - 37 = 123 - 4\n",
      "-> Success\n",
      " (not 15)\n",
      "- 31 - 33 + 17 = -2 + 17 = 15 (\n"
     ]
    },
    {
     "name": "stderr",
     "output_type": "stream",
     "text": [
      "\r",
      " 88%|█████████████████████████████████████████████████████████████████████████████████████████████████████████████████████████████████████████████████████████████████                      | 66/75 [10:26<01:24,  9.38s/it]"
     ]
    },
    {
     "name": "stdout",
     "output_type": "stream",
     "text": [
      "-> Success\n",
      " (not 30)\n",
      "- 84 - 50 - 12 + 8 = 34 - 12 +\n",
      "-> Success\n",
      " (not 75)\n",
      "- 86 - 62 + 51 = 24 + 51 = 75\n",
      "-> OOD (success); offending token(s): ['this']\n",
      " (not 44 - this is 44)\n",
      "- 40 + 7 + 11 = 58 (not \n",
      "-> Success\n",
      " (not 98)\n",
      "- 90 + 12 + 4 = 102 + 4 = 106\n"
     ]
    },
    {
     "name": "stderr",
     "output_type": "stream",
     "text": [
      "\r",
      " 89%|███████████████████████████████████████████████████████████████████████████████████████████████████████████████████████████████████████████████████████████████████▍                   | 67/75 [10:35<01:14,  9.29s/it]"
     ]
    },
    {
     "name": "stdout",
     "output_type": "stream",
     "text": [
      "-> Success\n",
      " (not 46)\n",
      "- 74 - 61 + 33 = 13 + 33 = 46\n",
      "-> Success\n",
      " (not 16)\n",
      "- 75 - 53 - 7 + 1 = 22 - 7 + 1\n",
      "-> Success\n",
      " (not 17)\n",
      "- 98 - 83 + 63 - 65 = 15 + 63\n",
      "-> Success\n",
      " (not 67)\n",
      "- 46 + 45 - 24 = 91 - 24 = 67\n"
     ]
    },
    {
     "name": "stderr",
     "output_type": "stream",
     "text": [
      "\r",
      " 91%|█████████████████████████████████████████████████████████████████████████████████████████████████████████████████████████████████████████████████████████████████████▉                 | 68/75 [10:44<01:03,  9.07s/it]"
     ]
    },
    {
     "name": "stdout",
     "output_type": "stream",
     "text": [
      "-> Success\n",
      " (not 28)\n",
      "- 86 - 37 + 21 = 49 + 21 = 70\n",
      "-> Success\n",
      " (not 55)\n",
      "- 60 + 15 + 20 = 75 + 20 = 95\n",
      "-> Success\n",
      " (not 43)\n",
      "- 93 - 65 - 10 + 2 = 28 - 10 +\n",
      "-> Success\n",
      " (not 73)\n",
      "- 20 * 4 + 7 = 80 + 7 = 87 (not \n"
     ]
    },
    {
     "name": "stderr",
     "output_type": "stream",
     "text": [
      "\r",
      " 92%|████████████████████████████████████████████████████████████████████████████████████████████████████████████████████████████████████████████████████████████████████████▎              | 69/75 [10:54<00:57,  9.52s/it]"
     ]
    },
    {
     "name": "stdout",
     "output_type": "stream",
     "text": [
      "-> Success\n",
      " (not 12)\n",
      "- 95 - 85 + 18 + 16 = 10 + 18\n",
      "-> Success\n",
      " (not 84)\n",
      "- 60 + 34 + 10 = 94 + 10 = 10\n",
      "-> Success\n",
      " (not 78)\n",
      "- 81 + 40 + 80 - 43 = 121 + 8\n",
      "-> OOD (success); offending token(s): ['but', 'close', 'let', 's', 'try', 'another', 'combination']\n",
      " (not 18, but close, let's try another combination)\n",
      "- 82 - 41 + 23 = 4\n"
     ]
    },
    {
     "name": "stderr",
     "output_type": "stream",
     "text": [
      "\r",
      " 93%|██████████████████████████████████████████████████████████████████████████████████████████████████████████████████████████████████████████████████████████████████████████▊            | 70/75 [11:04<00:48,  9.75s/it]"
     ]
    },
    {
     "name": "stdout",
     "output_type": "stream",
     "text": [
      "-> Success\n",
      " (not 82)\n",
      "- 94 - 66 + 54 = 28 + 54 = 82\n",
      "-> Success\n",
      " (not 79)\n",
      "- 50 - 15 - 12 + 56 = 35 - 12\n",
      "-> Success\n",
      " (not 73)\n",
      "- 86 + 19 - 8 + 2 = 105 - 8 + \n",
      "-> Success\n",
      " (not 97)\n",
      "- 90 + 58 + 51 = 148 + 51 = 1\n"
     ]
    },
    {
     "name": "stderr",
     "output_type": "stream",
     "text": [
      "\r",
      " 95%|█████████████████████████████████████████████████████████████████████████████████████████████████████████████████████████████████████████████████████████████████████████████▏         | 71/75 [11:15<00:40, 10.03s/it]"
     ]
    },
    {
     "name": "stdout",
     "output_type": "stream",
     "text": [
      "-> OOD (success); offending token(s): ['this', 'actually']\n",
      " (not 71 - this is actually 71)\n",
      "So, the equation that equals 71 is 82 - 18\n",
      "-> Mix\n",
      " (not 42)\n",
      "So, the equation that equals 17 is 97 - 75 - 5.\n",
      "</think>\n",
      "\n",
      "-> Success\n",
      " (not 80)\n",
      "- 99 - 50 + 31 = 49 + 31 = 80\n",
      "-> Success\n",
      " (not 78)\n",
      "- 87 + 97 - 88 = 184 - 88 = 9\n"
     ]
    },
    {
     "name": "stderr",
     "output_type": "stream",
     "text": [
      "\r",
      " 96%|███████████████████████████████████████████████████████████████████████████████████████████████████████████████████████████████████████████████████████████████████████████████▋       | 72/75 [11:25<00:29,  9.88s/it]"
     ]
    },
    {
     "name": "stdout",
     "output_type": "stream",
     "text": [
      "-> Success\n",
      " (not 58)\n",
      "- 73 + 64 - 53 - 4 = 137 - 53\n",
      "-> Success\n",
      " (not 85)\n",
      "- 95 - 84 + 94 = 11 + 94 = 10\n",
      "-> Success\n",
      " (not 66)\n",
      "- 62 + 7 * 3 = 62 + 21 = 83 (not\n",
      "-> Success\n",
      " (not 87)\n",
      "- 67 + 53 + 33 = 120 + 33 = 1\n"
     ]
    },
    {
     "name": "stderr",
     "output_type": "stream",
     "text": [
      "\r",
      " 97%|██████████████████████████████████████████████████████████████████████████████████████████████████████████████████████████████████████████████████████████████████████████████████     | 73/75 [11:33<00:18,  9.49s/it]"
     ]
    },
    {
     "name": "stdout",
     "output_type": "stream",
     "text": [
      "-> Success\n",
      " (not 59)\n",
      "- 73 - 44 + 30 = 29 + 30 = 59\n",
      "-> Success\n",
      " (not 17)\n",
      "- 49 - 26 + 6 = 23 + 6 = 29 (not\n",
      "-> Success\n",
      " (not 34)\n",
      "- 24 + 15 + 5 = 39 + 5 = 44 (not\n",
      "-> OOD (mix); offending token(s): ['correct', 'combination']\n",
      " (not 30 (correct combination))\n",
      "So, the equation that equals 30 is 58 - 53 + 49\n"
     ]
    },
    {
     "name": "stderr",
     "output_type": "stream",
     "text": [
      "\r",
      " 99%|████████████████████████████████████████████████████████████████████████████████████████████████████████████████████████████████████████████████████████████████████████████████████▌  | 74/75 [11:42<00:09,  9.41s/it]"
     ]
    },
    {
     "name": "stdout",
     "output_type": "stream",
     "text": [
      "-> OOD (success); offending token(s): ['this', 'actually']\n",
      " (not 56 - this is actually 56)\n",
      "So, the equation that equals 56 is 95 - 42\n",
      "-> Success\n",
      " (not 63)\n",
      "- 51 + 16 + 4 = 67 + 4 = 71 (not\n",
      "-> Success\n",
      " (not 34)\n",
      "- 59 - 35 + 10 = 24 + 10 = 34\n",
      "-> OOD (mix); offending token(s): ['correct', 'combination']\n",
      " (not 97)\n",
      "So, the correct combination is 53 + 49 - 5 = 102 - 5\n"
     ]
    },
    {
     "name": "stderr",
     "output_type": "stream",
     "text": [
      "100%|███████████████████████████████████████████████████████████████████████████████████████████████████████████████████████████████████████████████████████████████████████████████████████| 75/75 [11:51<00:00,  9.49s/it]"
     ]
    },
    {
     "name": "stdout",
     "output_type": "stream",
     "text": [
      "-> Success\n",
      " (not 92)\n",
      "- 84 + 27 + 19 = 111 + 19 = 1\n",
      "-> Success\n",
      " (not 91)\n",
      "- (4 * 29) + 3 = (116) + 3 = 11\n",
      "-> Success\n",
      " (not 71)\n",
      "- 84 + 60 - 47 = 144 - 47 = 9\n",
      "-> Success\n",
      " (not 77 - 41 + 24)\n",
      "- 94 - 41 + 24 = 53\n",
      "Attn verif success: 0.9533333333333334\n",
      "Attn verif mix: 0.04666666666666667\n",
      "Attn verif fail: 0.0\n"
     ]
    },
    {
     "name": "stderr",
     "output_type": "stream",
     "text": [
      "\n"
     ]
    }
   ],
   "source": [
    "\n",
    "print(\"Running Verification Heads\")\n",
    "_hook_config = hook_config[:3]\n",
    "verif_attn_success, verif_attn_mix, verif_attn_fail = run(\n",
    "   actor,\n",
    "   samples,\n",
    "   _hook_config,\n",
    "   batch_size,\n",
    ")\n",
    "print(f\"Attn verif success: {verif_attn_success}\")\n",
    "print(f\"Attn verif mix: {verif_attn_mix}\")\n",
    "print(f\"Attn verif fail: {verif_attn_fail}\")"
   ]
  }
 ],
 "metadata": {
  "kernelspec": {
   "display_name": "Python 3 (ipykernel)",
   "language": "python",
   "name": "python3"
  },
  "language_info": {
   "codemirror_mode": {
    "name": "ipython",
    "version": 3
   },
   "file_extension": ".py",
   "mimetype": "text/x-python",
   "name": "python",
   "nbconvert_exporter": "python",
   "pygments_lexer": "ipython3",
   "version": "3.12.8"
  }
 },
 "nbformat": 4,
 "nbformat_minor": 5
}
